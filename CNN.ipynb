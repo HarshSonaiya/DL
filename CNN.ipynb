{
  "cells": [
    {
      "cell_type": "markdown",
      "metadata": {
        "id": "view-in-github",
        "colab_type": "text"
      },
      "source": [
        "<a href=\"https://colab.research.google.com/github/HarshSonaiya/DL/blob/main/CNN.ipynb\" target=\"_parent\"><img src=\"https://colab.research.google.com/assets/colab-badge.svg\" alt=\"Open In Colab\"/></a>"
      ]
    },
    {
      "cell_type": "markdown",
      "metadata": {
        "id": "Wse7t1Oek8M5"
      },
      "source": [
        "**CONVOLUTION NEURAL NETWORKS (CNNs):**\n",
        "\n",
        "Convolutional Neural Networks (CNNs) are a class of deep neural networks specifically designed for processing structured grid data like images. They automatically learn important features like edges, textures, and patterns in various images.\n",
        "\n",
        "Types of Images :\n",
        "\n",
        "1) Gray Scale Images: Single-channel images where each pixel represents intensity, often with shape (28x28x1) for simple images like digits.\n",
        "\n",
        "2) RGB Images: Three-channel images where each pixel has three values corresponding to Red, Green, and Blue channels, typically represented as (228x228x3).\n",
        "\n",
        "What are Convolutions ?\n",
        "\n",
        "Convolutions are mathematical operations applied to images to detect patterns such as edges, textures, and other features. These operations are performed by sliding a filter (or kernel) across the image, producing a feature map that highlights specific characteristics.\n",
        "The edges or other patterns can be identified by the change in the intensity values of a pixel that which are the primary feature of an image.\n",
        "\n",
        "Convolution operations are carried out with the help of filters\n",
        "\n",
        "What are filters ?\n",
        "\n",
        "Filters are special matrices that are applied to the image to extract features. Different filters detect different features, such as horizontal, vertical, or diagonal edges, or more complex patterns as the network gets deeper.\n",
        "\n",
        "eg)\n",
        "\n",
        "\n",
        "```\n",
        " [  [-1, -1, -1],\n",
        "    [ 0,  0,  0],\n",
        "    [ 1,  1,  1] ]\n",
        "```\n",
        "This filter helps to identify horizontal edges in the image\n",
        "\n",
        "How ?\n",
        "\n",
        "Image is a grid of intensity values on which features are convoled in order to get a feature map which helps us to identify where Horizontal edges are present.\n",
        "\n",
        "\n",
        "```\n",
        "[ [0, 0, 0, 0, 0, 0],\n",
        "  [0, 0, 0, 0, 0, 0],\n",
        "  [0, 0, 0, 0, 0, 0],\n",
        "  [255, 255, 255, 255,255, 255],\n",
        "  [255, 255, 255, 255, 255, 255],\n",
        "  [255, 255, 255, 255, 255, 255]  ]\n",
        "```\n",
        "\n",
        "\n",
        "\n",
        "  This is an image and \"\" * \"\" is the convolution operator\n",
        "\n",
        "We place the filter on the image first 3x3 submatrix from the top left corner and multiply elements at the same position i.e.\n",
        "\n",
        "```\n",
        "[  [0 x -1, 0 x -1, 0 x -1],         [ [0, 0, 0],  \n",
        "   [0 x 0,  0 x 0,  0 x 0],       =    [0, 0, 0],\n",
        "   [0 x 1,  0 x 1,  0 x 1]  ]          [0, 0, 0] ]\n",
        "```\n",
        "\n",
        "\n",
        "\n",
        "Then these values are added and the result is the intenity value of the first cell in the feature map similarly values for all the cells of the feature map are calculated which will look like this:\n",
        "\n",
        "\n",
        "```\n",
        "feature_map = [ [0, 0, 0, 0],\n",
        "                [255, 255, 255, 255],\n",
        "                [255, 255, 255, 255],\n",
        "                [0, 0, 0, 0], ]\n",
        "```\n",
        "\n",
        "\n",
        "\n",
        "Here in cells with 255 + 255 + 255 result is 255 as it is the maximu possible intensity value for an pixel.\n",
        "\n",
        "Similarly we can use different pre defined filters to detect edges in an Image\n",
        "\n",
        "In CNNs, filters are initialized with random values. During training, the network learns by adjusting the filter values (through backpropagation) to better capture features relevant to the task. This process helps CNNs automatically learn the best set of filters for edge detection, textures, and more complex patterns.\n",
        "\n",
        "Checkout deeplizard.com\n",
        "\n",
        "The size of the feature map depends on the image size, filter size, stride, and padding. Without padding, the feature map's size is reduced, calculated as (n - m + 1), but padding adds extra pixels to preserve the image dimensions after convolution.\n",
        "\n",
        "**What is Padding ?**\n",
        "\n",
        "In the above convolution operation example, on applying filter of size (mxm) to an image of size (nxn) the feature map we obtain is of size (n-m+1 , n-m+1). Here the pixels in the boundaries of the grid i.e. first row from top and bottom and first column from left and right are not able to contribute much and it also becomes difficult to detect edges if they are present in these four regions. It also leads to loss of information.\n",
        "\n",
        "In CNNs, padding refers to the addition of extra pixels (usually with a value of zero) around the border of an image before applying a convolution operation. This is done to control the spatial dimensions of the output feature map and to avoid losing information from the edges of the image.\n",
        "\n",
        "An 3 x 3 image after padding becomes a 4 x 4image which looks like :\n",
        "\n",
        "\n",
        "An on this new image filter is applied.\n",
        "\n",
        "```\n",
        "[ [2, 3, 4],                    [ [0, 0, 0, 0],\n",
        "  [220, 223, 224],         =>     [0, 2, 3, 4],  \n",
        "  [2, 3, 4]  ]                    [0, 220, 223, 224],\n",
        "                                  [0, 2, 3, 4] ]\n",
        "\n",
        "```\n",
        "\n",
        "**Types of Padding:**\n",
        "\n",
        "1. Valid Padding (padding='valid'):\n",
        "  \n",
        "   No padding is applied.\n",
        "   \n",
        "   The output size is reduced based on the filter size.\n",
        "   \n",
        "   Formula for output size: (n - m + 1) (n - m + 1).\n",
        "\n",
        "2. Same Padding (padding='same'):\n",
        "   \n",
        "   Padding is applied to maintain the input and output size the same (or as close as possible).\n",
        "  \n",
        "   Extra rows/columns are added to the borders of the image.\n",
        "   \n",
        "   Formula for output size: nxn, i.e., the output has the same dimensions as the input.\n",
        "\n",
        "In keras we can apply choose if we want to apply padding or not\n"
      ]
    },
    {
      "cell_type": "code",
      "execution_count": 25,
      "metadata": {
        "id": "xEGZ5IWqk8M_"
      },
      "outputs": [],
      "source": [
        "import tensorflow\n",
        "from tensorflow import keras\n",
        "\n",
        "\n",
        "from keras.layers import Dense,Conv2D,Flatten,AveragePooling2D\n",
        "from keras import Sequential\n",
        "from keras.datasets import mnist\n",
        "import matplotlib.pyplot as plt\n"
      ]
    },
    {
      "cell_type": "code",
      "execution_count": 2,
      "metadata": {
        "id": "xYLf15Iak8M_",
        "outputId": "29713453-f8ec-4629-a5d5-cd8d5139ec4d",
        "colab": {
          "base_uri": "https://localhost:8080/"
        }
      },
      "outputs": [
        {
          "output_type": "stream",
          "name": "stdout",
          "text": [
            "Downloading data from https://storage.googleapis.com/tensorflow/tf-keras-datasets/mnist.npz\n",
            "\u001b[1m11490434/11490434\u001b[0m \u001b[32m━━━━━━━━━━━━━━━━━━━━\u001b[0m\u001b[37m\u001b[0m \u001b[1m0s\u001b[0m 0us/step\n"
          ]
        }
      ],
      "source": [
        "#Load the MNIST dataset\n",
        "(X_train, y_train), (X_test, y_test) = mnist.load_data()"
      ]
    },
    {
      "cell_type": "code",
      "execution_count": null,
      "metadata": {
        "id": "ouaXGuIFk8NA"
      },
      "outputs": [],
      "source": [
        "model = Sequential()\n",
        "\n",
        "# CNN without padding\n",
        "# Here 32 represents filters (learnable kernels), each detecting different features.\n",
        "# (3,3) is the size of the filter and relu activation function is used to convert all\n",
        "# negative values to zero\n",
        "model.add(Conv2D(32,kernel_size=(3,3),padding='valid', activation='relu', input_shape=(28,28,1)))\n",
        "model.add(Conv2D(32,kernel_size=(3,3),padding='valid', activation='relu'))\n",
        "model.add(Conv2D(32,kernel_size=(3,3),padding='valid', activation='relu'))\n",
        "\n",
        "# Flattens the output of the previous convolutional layers (2D feature maps) into a 1D vector,\n",
        "# to be fed into the fully connected layers.\n",
        "model.add(Flatten())\n",
        "\n",
        "# Adds a fully connected (dense) layer with 128 neurons.\n",
        "# Activation function is ReLU to add non-linearity.\n",
        "# This layer learns high-level features from the flattened vector.\n",
        "model.add(Dense(128,activation='relu'))\n",
        "\n",
        "# Output layer with 10 neurons, one for each class in a 10-class classification problem (e.g., digits 0-9 in MNIST).\n",
        "model.add(Dense(10,activation='softmax'))"
      ]
    },
    {
      "cell_type": "code",
      "execution_count": null,
      "metadata": {
        "colab": {
          "base_uri": "https://localhost:8080/",
          "height": 321
        },
        "id": "LcdmYHNjk8NA",
        "outputId": "fd60cb1c-ee5b-45fa-bd90-3bbdded53572"
      },
      "outputs": [
        {
          "output_type": "display_data",
          "data": {
            "text/plain": [
              "\u001b[1mModel: \"sequential_1\"\u001b[0m\n"
            ],
            "text/html": [
              "<pre style=\"white-space:pre;overflow-x:auto;line-height:normal;font-family:Menlo,'DejaVu Sans Mono',consolas,'Courier New',monospace\"><span style=\"font-weight: bold\">Model: \"sequential_1\"</span>\n",
              "</pre>\n"
            ]
          },
          "metadata": {}
        },
        {
          "output_type": "display_data",
          "data": {
            "text/plain": [
              "┏━━━━━━━━━━━━━━━━━━━━━━━━━━━━━━━━━━━━━━┳━━━━━━━━━━━━━━━━━━━━━━━━━━━━━┳━━━━━━━━━━━━━━━━━┓\n",
              "┃\u001b[1m \u001b[0m\u001b[1mLayer (type)                        \u001b[0m\u001b[1m \u001b[0m┃\u001b[1m \u001b[0m\u001b[1mOutput Shape               \u001b[0m\u001b[1m \u001b[0m┃\u001b[1m \u001b[0m\u001b[1m        Param #\u001b[0m\u001b[1m \u001b[0m┃\n",
              "┡━━━━━━━━━━━━━━━━━━━━━━━━━━━━━━━━━━━━━━╇━━━━━━━━━━━━━━━━━━━━━━━━━━━━━╇━━━━━━━━━━━━━━━━━┩\n",
              "│ conv2d_3 (\u001b[38;5;33mConv2D\u001b[0m)                    │ (\u001b[38;5;45mNone\u001b[0m, \u001b[38;5;34m26\u001b[0m, \u001b[38;5;34m26\u001b[0m, \u001b[38;5;34m32\u001b[0m)          │             \u001b[38;5;34m320\u001b[0m │\n",
              "├──────────────────────────────────────┼─────────────────────────────┼─────────────────┤\n",
              "│ conv2d_4 (\u001b[38;5;33mConv2D\u001b[0m)                    │ (\u001b[38;5;45mNone\u001b[0m, \u001b[38;5;34m24\u001b[0m, \u001b[38;5;34m24\u001b[0m, \u001b[38;5;34m32\u001b[0m)          │           \u001b[38;5;34m9,248\u001b[0m │\n",
              "├──────────────────────────────────────┼─────────────────────────────┼─────────────────┤\n",
              "│ conv2d_5 (\u001b[38;5;33mConv2D\u001b[0m)                    │ (\u001b[38;5;45mNone\u001b[0m, \u001b[38;5;34m22\u001b[0m, \u001b[38;5;34m22\u001b[0m, \u001b[38;5;34m32\u001b[0m)          │           \u001b[38;5;34m9,248\u001b[0m │\n",
              "├──────────────────────────────────────┼─────────────────────────────┼─────────────────┤\n",
              "│ flatten_1 (\u001b[38;5;33mFlatten\u001b[0m)                  │ (\u001b[38;5;45mNone\u001b[0m, \u001b[38;5;34m15488\u001b[0m)               │               \u001b[38;5;34m0\u001b[0m │\n",
              "├──────────────────────────────────────┼─────────────────────────────┼─────────────────┤\n",
              "│ dense_2 (\u001b[38;5;33mDense\u001b[0m)                      │ (\u001b[38;5;45mNone\u001b[0m, \u001b[38;5;34m128\u001b[0m)                 │       \u001b[38;5;34m1,982,592\u001b[0m │\n",
              "├──────────────────────────────────────┼─────────────────────────────┼─────────────────┤\n",
              "│ dense_3 (\u001b[38;5;33mDense\u001b[0m)                      │ (\u001b[38;5;45mNone\u001b[0m, \u001b[38;5;34m10\u001b[0m)                  │           \u001b[38;5;34m1,290\u001b[0m │\n",
              "└──────────────────────────────────────┴─────────────────────────────┴─────────────────┘\n"
            ],
            "text/html": [
              "<pre style=\"white-space:pre;overflow-x:auto;line-height:normal;font-family:Menlo,'DejaVu Sans Mono',consolas,'Courier New',monospace\">┏━━━━━━━━━━━━━━━━━━━━━━━━━━━━━━━━━━━━━━┳━━━━━━━━━━━━━━━━━━━━━━━━━━━━━┳━━━━━━━━━━━━━━━━━┓\n",
              "┃<span style=\"font-weight: bold\"> Layer (type)                         </span>┃<span style=\"font-weight: bold\"> Output Shape                </span>┃<span style=\"font-weight: bold\">         Param # </span>┃\n",
              "┡━━━━━━━━━━━━━━━━━━━━━━━━━━━━━━━━━━━━━━╇━━━━━━━━━━━━━━━━━━━━━━━━━━━━━╇━━━━━━━━━━━━━━━━━┩\n",
              "│ conv2d_3 (<span style=\"color: #0087ff; text-decoration-color: #0087ff\">Conv2D</span>)                    │ (<span style=\"color: #00d7ff; text-decoration-color: #00d7ff\">None</span>, <span style=\"color: #00af00; text-decoration-color: #00af00\">26</span>, <span style=\"color: #00af00; text-decoration-color: #00af00\">26</span>, <span style=\"color: #00af00; text-decoration-color: #00af00\">32</span>)          │             <span style=\"color: #00af00; text-decoration-color: #00af00\">320</span> │\n",
              "├──────────────────────────────────────┼─────────────────────────────┼─────────────────┤\n",
              "│ conv2d_4 (<span style=\"color: #0087ff; text-decoration-color: #0087ff\">Conv2D</span>)                    │ (<span style=\"color: #00d7ff; text-decoration-color: #00d7ff\">None</span>, <span style=\"color: #00af00; text-decoration-color: #00af00\">24</span>, <span style=\"color: #00af00; text-decoration-color: #00af00\">24</span>, <span style=\"color: #00af00; text-decoration-color: #00af00\">32</span>)          │           <span style=\"color: #00af00; text-decoration-color: #00af00\">9,248</span> │\n",
              "├──────────────────────────────────────┼─────────────────────────────┼─────────────────┤\n",
              "│ conv2d_5 (<span style=\"color: #0087ff; text-decoration-color: #0087ff\">Conv2D</span>)                    │ (<span style=\"color: #00d7ff; text-decoration-color: #00d7ff\">None</span>, <span style=\"color: #00af00; text-decoration-color: #00af00\">22</span>, <span style=\"color: #00af00; text-decoration-color: #00af00\">22</span>, <span style=\"color: #00af00; text-decoration-color: #00af00\">32</span>)          │           <span style=\"color: #00af00; text-decoration-color: #00af00\">9,248</span> │\n",
              "├──────────────────────────────────────┼─────────────────────────────┼─────────────────┤\n",
              "│ flatten_1 (<span style=\"color: #0087ff; text-decoration-color: #0087ff\">Flatten</span>)                  │ (<span style=\"color: #00d7ff; text-decoration-color: #00d7ff\">None</span>, <span style=\"color: #00af00; text-decoration-color: #00af00\">15488</span>)               │               <span style=\"color: #00af00; text-decoration-color: #00af00\">0</span> │\n",
              "├──────────────────────────────────────┼─────────────────────────────┼─────────────────┤\n",
              "│ dense_2 (<span style=\"color: #0087ff; text-decoration-color: #0087ff\">Dense</span>)                      │ (<span style=\"color: #00d7ff; text-decoration-color: #00d7ff\">None</span>, <span style=\"color: #00af00; text-decoration-color: #00af00\">128</span>)                 │       <span style=\"color: #00af00; text-decoration-color: #00af00\">1,982,592</span> │\n",
              "├──────────────────────────────────────┼─────────────────────────────┼─────────────────┤\n",
              "│ dense_3 (<span style=\"color: #0087ff; text-decoration-color: #0087ff\">Dense</span>)                      │ (<span style=\"color: #00d7ff; text-decoration-color: #00d7ff\">None</span>, <span style=\"color: #00af00; text-decoration-color: #00af00\">10</span>)                  │           <span style=\"color: #00af00; text-decoration-color: #00af00\">1,290</span> │\n",
              "└──────────────────────────────────────┴─────────────────────────────┴─────────────────┘\n",
              "</pre>\n"
            ]
          },
          "metadata": {}
        },
        {
          "output_type": "display_data",
          "data": {
            "text/plain": [
              "\u001b[1m Total params: \u001b[0m\u001b[38;5;34m2,002,698\u001b[0m (7.64 MB)\n"
            ],
            "text/html": [
              "<pre style=\"white-space:pre;overflow-x:auto;line-height:normal;font-family:Menlo,'DejaVu Sans Mono',consolas,'Courier New',monospace\"><span style=\"font-weight: bold\"> Total params: </span><span style=\"color: #00af00; text-decoration-color: #00af00\">2,002,698</span> (7.64 MB)\n",
              "</pre>\n"
            ]
          },
          "metadata": {}
        },
        {
          "output_type": "display_data",
          "data": {
            "text/plain": [
              "\u001b[1m Trainable params: \u001b[0m\u001b[38;5;34m2,002,698\u001b[0m (7.64 MB)\n"
            ],
            "text/html": [
              "<pre style=\"white-space:pre;overflow-x:auto;line-height:normal;font-family:Menlo,'DejaVu Sans Mono',consolas,'Courier New',monospace\"><span style=\"font-weight: bold\"> Trainable params: </span><span style=\"color: #00af00; text-decoration-color: #00af00\">2,002,698</span> (7.64 MB)\n",
              "</pre>\n"
            ]
          },
          "metadata": {}
        },
        {
          "output_type": "display_data",
          "data": {
            "text/plain": [
              "\u001b[1m Non-trainable params: \u001b[0m\u001b[38;5;34m0\u001b[0m (0.00 B)\n"
            ],
            "text/html": [
              "<pre style=\"white-space:pre;overflow-x:auto;line-height:normal;font-family:Menlo,'DejaVu Sans Mono',consolas,'Courier New',monospace\"><span style=\"font-weight: bold\"> Non-trainable params: </span><span style=\"color: #00af00; text-decoration-color: #00af00\">0</span> (0.00 B)\n",
              "</pre>\n"
            ]
          },
          "metadata": {}
        }
      ],
      "source": [
        "model.summary()"
      ]
    },
    {
      "cell_type": "code",
      "source": [
        "model = Sequential()\n",
        "\n",
        "# padding='same': Padding is added so the output feature map has the same size as the input.\n",
        "model.add(Conv2D(32,kernel_size=(3,3),padding='same', activation='relu', input_shape=(28,28,1)))\n",
        "model.add(Conv2D(32,kernel_size=(3,3),padding='same', activation='relu'))\n",
        "model.add(Conv2D(32,kernel_size=(3,3),padding='same', activation='relu'))\n",
        "\n",
        "model.add(Flatten())\n",
        "\n",
        "model.add(Dense(128,activation='relu'))\n",
        "model.add(Dense(10,activation='softmax'))"
      ],
      "metadata": {
        "id": "xrjB-aSqnSBe"
      },
      "execution_count": null,
      "outputs": []
    },
    {
      "cell_type": "code",
      "source": [
        "model.summary()"
      ],
      "metadata": {
        "colab": {
          "base_uri": "https://localhost:8080/",
          "height": 321
        },
        "id": "CWMA2EwwnWSX",
        "outputId": "2f65de3d-b27b-432d-9287-529e5b932c7f"
      },
      "execution_count": null,
      "outputs": [
        {
          "output_type": "display_data",
          "data": {
            "text/plain": [
              "\u001b[1mModel: \"sequential_3\"\u001b[0m\n"
            ],
            "text/html": [
              "<pre style=\"white-space:pre;overflow-x:auto;line-height:normal;font-family:Menlo,'DejaVu Sans Mono',consolas,'Courier New',monospace\"><span style=\"font-weight: bold\">Model: \"sequential_3\"</span>\n",
              "</pre>\n"
            ]
          },
          "metadata": {}
        },
        {
          "output_type": "display_data",
          "data": {
            "text/plain": [
              "┏━━━━━━━━━━━━━━━━━━━━━━━━━━━━━━━━━━━━━━┳━━━━━━━━━━━━━━━━━━━━━━━━━━━━━┳━━━━━━━━━━━━━━━━━┓\n",
              "┃\u001b[1m \u001b[0m\u001b[1mLayer (type)                        \u001b[0m\u001b[1m \u001b[0m┃\u001b[1m \u001b[0m\u001b[1mOutput Shape               \u001b[0m\u001b[1m \u001b[0m┃\u001b[1m \u001b[0m\u001b[1m        Param #\u001b[0m\u001b[1m \u001b[0m┃\n",
              "┡━━━━━━━━━━━━━━━━━━━━━━━━━━━━━━━━━━━━━━╇━━━━━━━━━━━━━━━━━━━━━━━━━━━━━╇━━━━━━━━━━━━━━━━━┩\n",
              "│ conv2d_9 (\u001b[38;5;33mConv2D\u001b[0m)                    │ (\u001b[38;5;45mNone\u001b[0m, \u001b[38;5;34m28\u001b[0m, \u001b[38;5;34m28\u001b[0m, \u001b[38;5;34m32\u001b[0m)          │             \u001b[38;5;34m320\u001b[0m │\n",
              "├──────────────────────────────────────┼─────────────────────────────┼─────────────────┤\n",
              "│ conv2d_10 (\u001b[38;5;33mConv2D\u001b[0m)                   │ (\u001b[38;5;45mNone\u001b[0m, \u001b[38;5;34m28\u001b[0m, \u001b[38;5;34m28\u001b[0m, \u001b[38;5;34m32\u001b[0m)          │           \u001b[38;5;34m9,248\u001b[0m │\n",
              "├──────────────────────────────────────┼─────────────────────────────┼─────────────────┤\n",
              "│ conv2d_11 (\u001b[38;5;33mConv2D\u001b[0m)                   │ (\u001b[38;5;45mNone\u001b[0m, \u001b[38;5;34m28\u001b[0m, \u001b[38;5;34m28\u001b[0m, \u001b[38;5;34m32\u001b[0m)          │           \u001b[38;5;34m9,248\u001b[0m │\n",
              "├──────────────────────────────────────┼─────────────────────────────┼─────────────────┤\n",
              "│ flatten_3 (\u001b[38;5;33mFlatten\u001b[0m)                  │ (\u001b[38;5;45mNone\u001b[0m, \u001b[38;5;34m25088\u001b[0m)               │               \u001b[38;5;34m0\u001b[0m │\n",
              "├──────────────────────────────────────┼─────────────────────────────┼─────────────────┤\n",
              "│ dense_6 (\u001b[38;5;33mDense\u001b[0m)                      │ (\u001b[38;5;45mNone\u001b[0m, \u001b[38;5;34m128\u001b[0m)                 │       \u001b[38;5;34m3,211,392\u001b[0m │\n",
              "├──────────────────────────────────────┼─────────────────────────────┼─────────────────┤\n",
              "│ dense_7 (\u001b[38;5;33mDense\u001b[0m)                      │ (\u001b[38;5;45mNone\u001b[0m, \u001b[38;5;34m10\u001b[0m)                  │           \u001b[38;5;34m1,290\u001b[0m │\n",
              "└──────────────────────────────────────┴─────────────────────────────┴─────────────────┘\n"
            ],
            "text/html": [
              "<pre style=\"white-space:pre;overflow-x:auto;line-height:normal;font-family:Menlo,'DejaVu Sans Mono',consolas,'Courier New',monospace\">┏━━━━━━━━━━━━━━━━━━━━━━━━━━━━━━━━━━━━━━┳━━━━━━━━━━━━━━━━━━━━━━━━━━━━━┳━━━━━━━━━━━━━━━━━┓\n",
              "┃<span style=\"font-weight: bold\"> Layer (type)                         </span>┃<span style=\"font-weight: bold\"> Output Shape                </span>┃<span style=\"font-weight: bold\">         Param # </span>┃\n",
              "┡━━━━━━━━━━━━━━━━━━━━━━━━━━━━━━━━━━━━━━╇━━━━━━━━━━━━━━━━━━━━━━━━━━━━━╇━━━━━━━━━━━━━━━━━┩\n",
              "│ conv2d_9 (<span style=\"color: #0087ff; text-decoration-color: #0087ff\">Conv2D</span>)                    │ (<span style=\"color: #00d7ff; text-decoration-color: #00d7ff\">None</span>, <span style=\"color: #00af00; text-decoration-color: #00af00\">28</span>, <span style=\"color: #00af00; text-decoration-color: #00af00\">28</span>, <span style=\"color: #00af00; text-decoration-color: #00af00\">32</span>)          │             <span style=\"color: #00af00; text-decoration-color: #00af00\">320</span> │\n",
              "├──────────────────────────────────────┼─────────────────────────────┼─────────────────┤\n",
              "│ conv2d_10 (<span style=\"color: #0087ff; text-decoration-color: #0087ff\">Conv2D</span>)                   │ (<span style=\"color: #00d7ff; text-decoration-color: #00d7ff\">None</span>, <span style=\"color: #00af00; text-decoration-color: #00af00\">28</span>, <span style=\"color: #00af00; text-decoration-color: #00af00\">28</span>, <span style=\"color: #00af00; text-decoration-color: #00af00\">32</span>)          │           <span style=\"color: #00af00; text-decoration-color: #00af00\">9,248</span> │\n",
              "├──────────────────────────────────────┼─────────────────────────────┼─────────────────┤\n",
              "│ conv2d_11 (<span style=\"color: #0087ff; text-decoration-color: #0087ff\">Conv2D</span>)                   │ (<span style=\"color: #00d7ff; text-decoration-color: #00d7ff\">None</span>, <span style=\"color: #00af00; text-decoration-color: #00af00\">28</span>, <span style=\"color: #00af00; text-decoration-color: #00af00\">28</span>, <span style=\"color: #00af00; text-decoration-color: #00af00\">32</span>)          │           <span style=\"color: #00af00; text-decoration-color: #00af00\">9,248</span> │\n",
              "├──────────────────────────────────────┼─────────────────────────────┼─────────────────┤\n",
              "│ flatten_3 (<span style=\"color: #0087ff; text-decoration-color: #0087ff\">Flatten</span>)                  │ (<span style=\"color: #00d7ff; text-decoration-color: #00d7ff\">None</span>, <span style=\"color: #00af00; text-decoration-color: #00af00\">25088</span>)               │               <span style=\"color: #00af00; text-decoration-color: #00af00\">0</span> │\n",
              "├──────────────────────────────────────┼─────────────────────────────┼─────────────────┤\n",
              "│ dense_6 (<span style=\"color: #0087ff; text-decoration-color: #0087ff\">Dense</span>)                      │ (<span style=\"color: #00d7ff; text-decoration-color: #00d7ff\">None</span>, <span style=\"color: #00af00; text-decoration-color: #00af00\">128</span>)                 │       <span style=\"color: #00af00; text-decoration-color: #00af00\">3,211,392</span> │\n",
              "├──────────────────────────────────────┼─────────────────────────────┼─────────────────┤\n",
              "│ dense_7 (<span style=\"color: #0087ff; text-decoration-color: #0087ff\">Dense</span>)                      │ (<span style=\"color: #00d7ff; text-decoration-color: #00d7ff\">None</span>, <span style=\"color: #00af00; text-decoration-color: #00af00\">10</span>)                  │           <span style=\"color: #00af00; text-decoration-color: #00af00\">1,290</span> │\n",
              "└──────────────────────────────────────┴─────────────────────────────┴─────────────────┘\n",
              "</pre>\n"
            ]
          },
          "metadata": {}
        },
        {
          "output_type": "display_data",
          "data": {
            "text/plain": [
              "\u001b[1m Total params: \u001b[0m\u001b[38;5;34m3,231,498\u001b[0m (12.33 MB)\n"
            ],
            "text/html": [
              "<pre style=\"white-space:pre;overflow-x:auto;line-height:normal;font-family:Menlo,'DejaVu Sans Mono',consolas,'Courier New',monospace\"><span style=\"font-weight: bold\"> Total params: </span><span style=\"color: #00af00; text-decoration-color: #00af00\">3,231,498</span> (12.33 MB)\n",
              "</pre>\n"
            ]
          },
          "metadata": {}
        },
        {
          "output_type": "display_data",
          "data": {
            "text/plain": [
              "\u001b[1m Trainable params: \u001b[0m\u001b[38;5;34m3,231,498\u001b[0m (12.33 MB)\n"
            ],
            "text/html": [
              "<pre style=\"white-space:pre;overflow-x:auto;line-height:normal;font-family:Menlo,'DejaVu Sans Mono',consolas,'Courier New',monospace\"><span style=\"font-weight: bold\"> Trainable params: </span><span style=\"color: #00af00; text-decoration-color: #00af00\">3,231,498</span> (12.33 MB)\n",
              "</pre>\n"
            ]
          },
          "metadata": {}
        },
        {
          "output_type": "display_data",
          "data": {
            "text/plain": [
              "\u001b[1m Non-trainable params: \u001b[0m\u001b[38;5;34m0\u001b[0m (0.00 B)\n"
            ],
            "text/html": [
              "<pre style=\"white-space:pre;overflow-x:auto;line-height:normal;font-family:Menlo,'DejaVu Sans Mono',consolas,'Courier New',monospace\"><span style=\"font-weight: bold\"> Non-trainable params: </span><span style=\"color: #00af00; text-decoration-color: #00af00\">0</span> (0.00 B)\n",
              "</pre>\n"
            ]
          },
          "metadata": {}
        }
      ]
    },
    {
      "cell_type": "markdown",
      "metadata": {
        "id": "qkYnOZHmk8NB"
      },
      "source": [
        "**What are Strides?**\n",
        "\n",
        "In convolution operations, the stride refers to how much the filter (kernel) shifts across the input image. When the stride is set to 1, the filter shifts by one position at a time, moving across the entire input image both horizontally (left to right) and vertically (top to bottom).\n",
        "\n",
        "We can change the stride to a value of our choice. On increasing the value of stride the size of feature map further reduces which is given by [(n-m)/s + 1] and in case of padding [ (n + 2p - m)/s  + 1]\n",
        "\n",
        "**What are its effects?**\n",
        "\n",
        "A stride value of 1 helps to get precise results as there is no losso of information if padding is applied with it. But this increases the computation complexity and training time.\n",
        "\n",
        "A stride value greater than 1 can help to reduce the computational complexity / cost as well reduce the time for training. Another benefit is that it can help to reduce overfitting. But here the issue is precision is less as compared to\n",
        "in the case of stride = 1. Also we need to check if stride greater than 1 helps to consider all the cell of the image or not eg image of size 7x6.\n",
        "\n",
        "\n"
      ]
    },
    {
      "cell_type": "code",
      "execution_count": null,
      "metadata": {
        "id": "OzqHeV_ik8NA"
      },
      "outputs": [],
      "source": [
        "model = Sequential()\n",
        "\n",
        "# strides=(2,2) to shift the filter by 2 pixels in both horizontal and vertical directions.\n",
        "model.add(Conv2D(32,kernel_size=(3,3),padding='same',strides=(2,2), activation='relu', input_shape=(28,28,1)))\n",
        "model.add(Conv2D(32,kernel_size=(3,3),padding='same',strides=(2,2), activation='relu'))\n",
        "model.add(Conv2D(32,kernel_size=(3,3),padding='same',strides=(2,2), activation='relu'))\n",
        "\n",
        "model.add(Flatten())\n",
        "\n",
        "model.add(Dense(128,activation='relu'))\n",
        "model.add(Dense(10,activation='softmax'))"
      ]
    },
    {
      "cell_type": "code",
      "execution_count": null,
      "metadata": {
        "colab": {
          "base_uri": "https://localhost:8080/",
          "height": 321
        },
        "id": "XNepH_SZk8NB",
        "outputId": "d1089b45-9431-4bbe-aabf-e14a2699e519"
      },
      "outputs": [
        {
          "output_type": "display_data",
          "data": {
            "text/plain": [
              "\u001b[1mModel: \"sequential_2\"\u001b[0m\n"
            ],
            "text/html": [
              "<pre style=\"white-space:pre;overflow-x:auto;line-height:normal;font-family:Menlo,'DejaVu Sans Mono',consolas,'Courier New',monospace\"><span style=\"font-weight: bold\">Model: \"sequential_2\"</span>\n",
              "</pre>\n"
            ]
          },
          "metadata": {}
        },
        {
          "output_type": "display_data",
          "data": {
            "text/plain": [
              "┏━━━━━━━━━━━━━━━━━━━━━━━━━━━━━━━━━━━━━━┳━━━━━━━━━━━━━━━━━━━━━━━━━━━━━┳━━━━━━━━━━━━━━━━━┓\n",
              "┃\u001b[1m \u001b[0m\u001b[1mLayer (type)                        \u001b[0m\u001b[1m \u001b[0m┃\u001b[1m \u001b[0m\u001b[1mOutput Shape               \u001b[0m\u001b[1m \u001b[0m┃\u001b[1m \u001b[0m\u001b[1m        Param #\u001b[0m\u001b[1m \u001b[0m┃\n",
              "┡━━━━━━━━━━━━━━━━━━━━━━━━━━━━━━━━━━━━━━╇━━━━━━━━━━━━━━━━━━━━━━━━━━━━━╇━━━━━━━━━━━━━━━━━┩\n",
              "│ conv2d_6 (\u001b[38;5;33mConv2D\u001b[0m)                    │ (\u001b[38;5;45mNone\u001b[0m, \u001b[38;5;34m14\u001b[0m, \u001b[38;5;34m14\u001b[0m, \u001b[38;5;34m32\u001b[0m)          │             \u001b[38;5;34m320\u001b[0m │\n",
              "├──────────────────────────────────────┼─────────────────────────────┼─────────────────┤\n",
              "│ conv2d_7 (\u001b[38;5;33mConv2D\u001b[0m)                    │ (\u001b[38;5;45mNone\u001b[0m, \u001b[38;5;34m7\u001b[0m, \u001b[38;5;34m7\u001b[0m, \u001b[38;5;34m32\u001b[0m)            │           \u001b[38;5;34m9,248\u001b[0m │\n",
              "├──────────────────────────────────────┼─────────────────────────────┼─────────────────┤\n",
              "│ conv2d_8 (\u001b[38;5;33mConv2D\u001b[0m)                    │ (\u001b[38;5;45mNone\u001b[0m, \u001b[38;5;34m4\u001b[0m, \u001b[38;5;34m4\u001b[0m, \u001b[38;5;34m32\u001b[0m)            │           \u001b[38;5;34m9,248\u001b[0m │\n",
              "├──────────────────────────────────────┼─────────────────────────────┼─────────────────┤\n",
              "│ flatten_2 (\u001b[38;5;33mFlatten\u001b[0m)                  │ (\u001b[38;5;45mNone\u001b[0m, \u001b[38;5;34m512\u001b[0m)                 │               \u001b[38;5;34m0\u001b[0m │\n",
              "├──────────────────────────────────────┼─────────────────────────────┼─────────────────┤\n",
              "│ dense_4 (\u001b[38;5;33mDense\u001b[0m)                      │ (\u001b[38;5;45mNone\u001b[0m, \u001b[38;5;34m128\u001b[0m)                 │          \u001b[38;5;34m65,664\u001b[0m │\n",
              "├──────────────────────────────────────┼─────────────────────────────┼─────────────────┤\n",
              "│ dense_5 (\u001b[38;5;33mDense\u001b[0m)                      │ (\u001b[38;5;45mNone\u001b[0m, \u001b[38;5;34m10\u001b[0m)                  │           \u001b[38;5;34m1,290\u001b[0m │\n",
              "└──────────────────────────────────────┴─────────────────────────────┴─────────────────┘\n"
            ],
            "text/html": [
              "<pre style=\"white-space:pre;overflow-x:auto;line-height:normal;font-family:Menlo,'DejaVu Sans Mono',consolas,'Courier New',monospace\">┏━━━━━━━━━━━━━━━━━━━━━━━━━━━━━━━━━━━━━━┳━━━━━━━━━━━━━━━━━━━━━━━━━━━━━┳━━━━━━━━━━━━━━━━━┓\n",
              "┃<span style=\"font-weight: bold\"> Layer (type)                         </span>┃<span style=\"font-weight: bold\"> Output Shape                </span>┃<span style=\"font-weight: bold\">         Param # </span>┃\n",
              "┡━━━━━━━━━━━━━━━━━━━━━━━━━━━━━━━━━━━━━━╇━━━━━━━━━━━━━━━━━━━━━━━━━━━━━╇━━━━━━━━━━━━━━━━━┩\n",
              "│ conv2d_6 (<span style=\"color: #0087ff; text-decoration-color: #0087ff\">Conv2D</span>)                    │ (<span style=\"color: #00d7ff; text-decoration-color: #00d7ff\">None</span>, <span style=\"color: #00af00; text-decoration-color: #00af00\">14</span>, <span style=\"color: #00af00; text-decoration-color: #00af00\">14</span>, <span style=\"color: #00af00; text-decoration-color: #00af00\">32</span>)          │             <span style=\"color: #00af00; text-decoration-color: #00af00\">320</span> │\n",
              "├──────────────────────────────────────┼─────────────────────────────┼─────────────────┤\n",
              "│ conv2d_7 (<span style=\"color: #0087ff; text-decoration-color: #0087ff\">Conv2D</span>)                    │ (<span style=\"color: #00d7ff; text-decoration-color: #00d7ff\">None</span>, <span style=\"color: #00af00; text-decoration-color: #00af00\">7</span>, <span style=\"color: #00af00; text-decoration-color: #00af00\">7</span>, <span style=\"color: #00af00; text-decoration-color: #00af00\">32</span>)            │           <span style=\"color: #00af00; text-decoration-color: #00af00\">9,248</span> │\n",
              "├──────────────────────────────────────┼─────────────────────────────┼─────────────────┤\n",
              "│ conv2d_8 (<span style=\"color: #0087ff; text-decoration-color: #0087ff\">Conv2D</span>)                    │ (<span style=\"color: #00d7ff; text-decoration-color: #00d7ff\">None</span>, <span style=\"color: #00af00; text-decoration-color: #00af00\">4</span>, <span style=\"color: #00af00; text-decoration-color: #00af00\">4</span>, <span style=\"color: #00af00; text-decoration-color: #00af00\">32</span>)            │           <span style=\"color: #00af00; text-decoration-color: #00af00\">9,248</span> │\n",
              "├──────────────────────────────────────┼─────────────────────────────┼─────────────────┤\n",
              "│ flatten_2 (<span style=\"color: #0087ff; text-decoration-color: #0087ff\">Flatten</span>)                  │ (<span style=\"color: #00d7ff; text-decoration-color: #00d7ff\">None</span>, <span style=\"color: #00af00; text-decoration-color: #00af00\">512</span>)                 │               <span style=\"color: #00af00; text-decoration-color: #00af00\">0</span> │\n",
              "├──────────────────────────────────────┼─────────────────────────────┼─────────────────┤\n",
              "│ dense_4 (<span style=\"color: #0087ff; text-decoration-color: #0087ff\">Dense</span>)                      │ (<span style=\"color: #00d7ff; text-decoration-color: #00d7ff\">None</span>, <span style=\"color: #00af00; text-decoration-color: #00af00\">128</span>)                 │          <span style=\"color: #00af00; text-decoration-color: #00af00\">65,664</span> │\n",
              "├──────────────────────────────────────┼─────────────────────────────┼─────────────────┤\n",
              "│ dense_5 (<span style=\"color: #0087ff; text-decoration-color: #0087ff\">Dense</span>)                      │ (<span style=\"color: #00d7ff; text-decoration-color: #00d7ff\">None</span>, <span style=\"color: #00af00; text-decoration-color: #00af00\">10</span>)                  │           <span style=\"color: #00af00; text-decoration-color: #00af00\">1,290</span> │\n",
              "└──────────────────────────────────────┴─────────────────────────────┴─────────────────┘\n",
              "</pre>\n"
            ]
          },
          "metadata": {}
        },
        {
          "output_type": "display_data",
          "data": {
            "text/plain": [
              "\u001b[1m Total params: \u001b[0m\u001b[38;5;34m85,770\u001b[0m (335.04 KB)\n"
            ],
            "text/html": [
              "<pre style=\"white-space:pre;overflow-x:auto;line-height:normal;font-family:Menlo,'DejaVu Sans Mono',consolas,'Courier New',monospace\"><span style=\"font-weight: bold\"> Total params: </span><span style=\"color: #00af00; text-decoration-color: #00af00\">85,770</span> (335.04 KB)\n",
              "</pre>\n"
            ]
          },
          "metadata": {}
        },
        {
          "output_type": "display_data",
          "data": {
            "text/plain": [
              "\u001b[1m Trainable params: \u001b[0m\u001b[38;5;34m85,770\u001b[0m (335.04 KB)\n"
            ],
            "text/html": [
              "<pre style=\"white-space:pre;overflow-x:auto;line-height:normal;font-family:Menlo,'DejaVu Sans Mono',consolas,'Courier New',monospace\"><span style=\"font-weight: bold\"> Trainable params: </span><span style=\"color: #00af00; text-decoration-color: #00af00\">85,770</span> (335.04 KB)\n",
              "</pre>\n"
            ]
          },
          "metadata": {}
        },
        {
          "output_type": "display_data",
          "data": {
            "text/plain": [
              "\u001b[1m Non-trainable params: \u001b[0m\u001b[38;5;34m0\u001b[0m (0.00 B)\n"
            ],
            "text/html": [
              "<pre style=\"white-space:pre;overflow-x:auto;line-height:normal;font-family:Menlo,'DejaVu Sans Mono',consolas,'Courier New',monospace\"><span style=\"font-weight: bold\"> Non-trainable params: </span><span style=\"color: #00af00; text-decoration-color: #00af00\">0</span> (0.00 B)\n",
              "</pre>\n"
            ]
          },
          "metadata": {}
        }
      ],
      "source": [
        "model.summary()"
      ]
    },
    {
      "cell_type": "markdown",
      "source": [
        "### **Problems in Convolution Operation:**\n",
        "\n",
        "1) **Memory Consumption:**\n",
        "\n",
        "   **Issue:** Convolutional Neural Networks (CNNs) require significant memory, especially as the depth (number of layers) and size of feature maps increase. Each convolutional layer produces multiple feature maps, which need to be stored and processed during forward and backward propagation.\n",
        "\n",
        "   **Why It Happens:** The need for large numbers of filters, high-resolution input images, and deep network architectures contribute to the memory consumption. Intermediate feature maps and the gradients during backpropagation are also stored, which increases memory usage.\n",
        "\n",
        "   **Impact:** This can result in hardware limitations, especially when training on large datasets or high-resolution images, making it difficult to train deep CNNs on machines with limited GPU memory.\n",
        "   \n",
        "   **Solutions:**\n",
        "\n",
        "   **Use Stride > 1**\n",
        "\n",
        "   **Use of pooling layers**\n",
        "   \n",
        "   **Batching:** Training on smaller batches of images can also reduce memory requirements.\n",
        "\n",
        "2) **Translation Variance:**\n",
        "\n",
        " **Issue:** CNNs are not inherently invariant to shifts/translations.\n",
        "\n",
        " Translation Variance refers to the sensitivity of a Convolutional Neural Network (CNN) to shifts or translations of features within an image. In other words, if an object or feature in an image is moved (translated) slightly from its original position, the CNN might fail to recognize it correctly or produce a different response. This happens because the convolution operation detects features based on fixed spatial positions, so even a small change in the feature's position can affect the activation in the convolutional layers.\n",
        "\n",
        " **Why It Happens:** Convolutions apply filters at fixed positions, and if the feature (like an edge or object) moves, it may not align with the learned filters in the same way. This causes the output to vary even though the essential feature remains the same but in a different location.\n",
        "\n",
        " **Impact:** This variance to translations can affect the generalization of CNNs and their ability to accurately detect features irrespective of position in an image.\n",
        "   \n",
        " **Solutions:**\n",
        "\n",
        " **Data Augmentation**\n",
        "  \n",
        " **Pooling Layers**"
      ],
      "metadata": {
        "id": "ub_rOqwKt6RZ"
      }
    },
    {
      "cell_type": "markdown",
      "source": [
        "## What is Pooling ?\n",
        "\n",
        "Pooling in Convolutional Neural Networks (CNNs) reduces the spatial dimensions (width and height) of the feature maps. Pooling operations help make the network computationally efficient, reduce overfitting, and make the network invariant to small shifts and distortions (translation invariance).\n",
        "\n",
        "The main idea of pooling is to downsample the input feature maps, summarizing the most important information and discarding unnecessary details.\n",
        "\n",
        "This helps to solve the problem of translation variance as well as memory consumption. HOW ????\n",
        "\n",
        "Suppose we have a 4x4 image and we want to apply pooling:\n",
        "\n",
        "![pooling.png](data:image/png;base64,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)\n",
        "\n"
      ],
      "metadata": {
        "id": "EgNIBT4cwae7"
      }
    },
    {
      "cell_type": "markdown",
      "source": [
        "In Pooling we specify the size of pooling window, the type of pooling and the stride we want to use.\n",
        "\n",
        "The above example illustrates 2x2 Max Pooling with stride 1 meaning that the Pooling window is of size 2x2 so the image is divide equally in regions of 2x2 grid, stride = 1 means the window shifts one pixel at a time and Max Pooling is the type of pooling where we choose the maximum value from the neighbouring cells in the pooling window.\n",
        "\n",
        "The output feature map's size depends on the pooling window size, stride and the type of pooling and is given by:\n",
        "\n",
        "Output size = [(n - pooling_window_size) / stride + 1]\n",
        "\n",
        "\n",
        "This solves the problem of memory consumption as pooling layers reduce the dimensions of feature maps, which directly decreases the number of parameters and the memory required to store the feature maps.\n",
        "\n",
        "It also prevents information loss as max pooling and other types of pooling retain the most important or dominant information by selecting the maximum (in the case of max pooling) value from each region. This way, key high-level features, such as edges or patterns, are preserved even as the spatial dimensions are reduced. The pooling operation ensures that only the most significant feature in each region is kept, making the model focus on important details.\n",
        "\n",
        "Pooling introduces spatial invariance and solves the problem of Translation Variance by summarizing features over larger regions, meaning that the exact location of the feature is less important. For example, even if a feature (like an edge or texture) moves slightly within a region, max pooling will still capture the highest activation from that region. This reduces the model's sensitivity to small translations or shifts in the input, making it better at recognizing objects regardless of their position in the image."
      ],
      "metadata": {
        "id": "nM0jAk3kx11U"
      }
    },
    {
      "cell_type": "code",
      "execution_count": null,
      "metadata": {
        "id": "u-ka60Cyk8NB"
      },
      "outputs": [],
      "source": [
        "model = Sequential()\n",
        "\n",
        "model.add(Conv2D(32,kernel_size=(3,3),padding='valid', activation='relu', input_shape=(28,28,1)))\n",
        "\n",
        "\n",
        "# MaxPooling reduces the size of the feature maps by downsampling. A 2x2 pool size is used with a stride of 2,\n",
        "# which reduces the spatial dimensions of the input by half (e.g., 28x28 becomes 14x14).\n",
        "model.add(MaxPooling2D(pool_size=(2, 2), strides=2, padding='valid'))\n",
        "model.add(Conv2D(32,kernel_size=(3,3),padding='valid', activation='relu'))\n",
        "model.add(MaxPooling2D(pool_size=(2, 2), strides=2, padding='valid'))\n",
        "\n",
        "model.add(Flatten())\n",
        "\n",
        "model.add(Dense(128,activation='relu'))\n",
        "model.add(Dense(10,activation='softmax'))"
      ]
    },
    {
      "cell_type": "code",
      "source": [
        "model.summary()"
      ],
      "metadata": {
        "colab": {
          "base_uri": "https://localhost:8080/",
          "height": 353
        },
        "id": "xGjemY2Szozf",
        "outputId": "92907bdd-4745-48bb-b266-49ffd5034cbd"
      },
      "execution_count": null,
      "outputs": [
        {
          "output_type": "display_data",
          "data": {
            "text/plain": [
              "\u001b[1mModel: \"sequential_5\"\u001b[0m\n"
            ],
            "text/html": [
              "<pre style=\"white-space:pre;overflow-x:auto;line-height:normal;font-family:Menlo,'DejaVu Sans Mono',consolas,'Courier New',monospace\"><span style=\"font-weight: bold\">Model: \"sequential_5\"</span>\n",
              "</pre>\n"
            ]
          },
          "metadata": {}
        },
        {
          "output_type": "display_data",
          "data": {
            "text/plain": [
              "┏━━━━━━━━━━━━━━━━━━━━━━━━━━━━━━━━━━━━━━┳━━━━━━━━━━━━━━━━━━━━━━━━━━━━━┳━━━━━━━━━━━━━━━━━┓\n",
              "┃\u001b[1m \u001b[0m\u001b[1mLayer (type)                        \u001b[0m\u001b[1m \u001b[0m┃\u001b[1m \u001b[0m\u001b[1mOutput Shape               \u001b[0m\u001b[1m \u001b[0m┃\u001b[1m \u001b[0m\u001b[1m        Param #\u001b[0m\u001b[1m \u001b[0m┃\n",
              "┡━━━━━━━━━━━━━━━━━━━━━━━━━━━━━━━━━━━━━━╇━━━━━━━━━━━━━━━━━━━━━━━━━━━━━╇━━━━━━━━━━━━━━━━━┩\n",
              "│ conv2d_15 (\u001b[38;5;33mConv2D\u001b[0m)                   │ (\u001b[38;5;45mNone\u001b[0m, \u001b[38;5;34m26\u001b[0m, \u001b[38;5;34m26\u001b[0m, \u001b[38;5;34m32\u001b[0m)          │             \u001b[38;5;34m320\u001b[0m │\n",
              "├──────────────────────────────────────┼─────────────────────────────┼─────────────────┤\n",
              "│ max_pooling2d_2 (\u001b[38;5;33mMaxPooling2D\u001b[0m)       │ (\u001b[38;5;45mNone\u001b[0m, \u001b[38;5;34m13\u001b[0m, \u001b[38;5;34m13\u001b[0m, \u001b[38;5;34m32\u001b[0m)          │               \u001b[38;5;34m0\u001b[0m │\n",
              "├──────────────────────────────────────┼─────────────────────────────┼─────────────────┤\n",
              "│ conv2d_16 (\u001b[38;5;33mConv2D\u001b[0m)                   │ (\u001b[38;5;45mNone\u001b[0m, \u001b[38;5;34m11\u001b[0m, \u001b[38;5;34m11\u001b[0m, \u001b[38;5;34m32\u001b[0m)          │           \u001b[38;5;34m9,248\u001b[0m │\n",
              "├──────────────────────────────────────┼─────────────────────────────┼─────────────────┤\n",
              "│ max_pooling2d_3 (\u001b[38;5;33mMaxPooling2D\u001b[0m)       │ (\u001b[38;5;45mNone\u001b[0m, \u001b[38;5;34m5\u001b[0m, \u001b[38;5;34m5\u001b[0m, \u001b[38;5;34m32\u001b[0m)            │               \u001b[38;5;34m0\u001b[0m │\n",
              "├──────────────────────────────────────┼─────────────────────────────┼─────────────────┤\n",
              "│ flatten_5 (\u001b[38;5;33mFlatten\u001b[0m)                  │ (\u001b[38;5;45mNone\u001b[0m, \u001b[38;5;34m800\u001b[0m)                 │               \u001b[38;5;34m0\u001b[0m │\n",
              "├──────────────────────────────────────┼─────────────────────────────┼─────────────────┤\n",
              "│ dense_10 (\u001b[38;5;33mDense\u001b[0m)                     │ (\u001b[38;5;45mNone\u001b[0m, \u001b[38;5;34m128\u001b[0m)                 │         \u001b[38;5;34m102,528\u001b[0m │\n",
              "├──────────────────────────────────────┼─────────────────────────────┼─────────────────┤\n",
              "│ dense_11 (\u001b[38;5;33mDense\u001b[0m)                     │ (\u001b[38;5;45mNone\u001b[0m, \u001b[38;5;34m10\u001b[0m)                  │           \u001b[38;5;34m1,290\u001b[0m │\n",
              "└──────────────────────────────────────┴─────────────────────────────┴─────────────────┘\n"
            ],
            "text/html": [
              "<pre style=\"white-space:pre;overflow-x:auto;line-height:normal;font-family:Menlo,'DejaVu Sans Mono',consolas,'Courier New',monospace\">┏━━━━━━━━━━━━━━━━━━━━━━━━━━━━━━━━━━━━━━┳━━━━━━━━━━━━━━━━━━━━━━━━━━━━━┳━━━━━━━━━━━━━━━━━┓\n",
              "┃<span style=\"font-weight: bold\"> Layer (type)                         </span>┃<span style=\"font-weight: bold\"> Output Shape                </span>┃<span style=\"font-weight: bold\">         Param # </span>┃\n",
              "┡━━━━━━━━━━━━━━━━━━━━━━━━━━━━━━━━━━━━━━╇━━━━━━━━━━━━━━━━━━━━━━━━━━━━━╇━━━━━━━━━━━━━━━━━┩\n",
              "│ conv2d_15 (<span style=\"color: #0087ff; text-decoration-color: #0087ff\">Conv2D</span>)                   │ (<span style=\"color: #00d7ff; text-decoration-color: #00d7ff\">None</span>, <span style=\"color: #00af00; text-decoration-color: #00af00\">26</span>, <span style=\"color: #00af00; text-decoration-color: #00af00\">26</span>, <span style=\"color: #00af00; text-decoration-color: #00af00\">32</span>)          │             <span style=\"color: #00af00; text-decoration-color: #00af00\">320</span> │\n",
              "├──────────────────────────────────────┼─────────────────────────────┼─────────────────┤\n",
              "│ max_pooling2d_2 (<span style=\"color: #0087ff; text-decoration-color: #0087ff\">MaxPooling2D</span>)       │ (<span style=\"color: #00d7ff; text-decoration-color: #00d7ff\">None</span>, <span style=\"color: #00af00; text-decoration-color: #00af00\">13</span>, <span style=\"color: #00af00; text-decoration-color: #00af00\">13</span>, <span style=\"color: #00af00; text-decoration-color: #00af00\">32</span>)          │               <span style=\"color: #00af00; text-decoration-color: #00af00\">0</span> │\n",
              "├──────────────────────────────────────┼─────────────────────────────┼─────────────────┤\n",
              "│ conv2d_16 (<span style=\"color: #0087ff; text-decoration-color: #0087ff\">Conv2D</span>)                   │ (<span style=\"color: #00d7ff; text-decoration-color: #00d7ff\">None</span>, <span style=\"color: #00af00; text-decoration-color: #00af00\">11</span>, <span style=\"color: #00af00; text-decoration-color: #00af00\">11</span>, <span style=\"color: #00af00; text-decoration-color: #00af00\">32</span>)          │           <span style=\"color: #00af00; text-decoration-color: #00af00\">9,248</span> │\n",
              "├──────────────────────────────────────┼─────────────────────────────┼─────────────────┤\n",
              "│ max_pooling2d_3 (<span style=\"color: #0087ff; text-decoration-color: #0087ff\">MaxPooling2D</span>)       │ (<span style=\"color: #00d7ff; text-decoration-color: #00d7ff\">None</span>, <span style=\"color: #00af00; text-decoration-color: #00af00\">5</span>, <span style=\"color: #00af00; text-decoration-color: #00af00\">5</span>, <span style=\"color: #00af00; text-decoration-color: #00af00\">32</span>)            │               <span style=\"color: #00af00; text-decoration-color: #00af00\">0</span> │\n",
              "├──────────────────────────────────────┼─────────────────────────────┼─────────────────┤\n",
              "│ flatten_5 (<span style=\"color: #0087ff; text-decoration-color: #0087ff\">Flatten</span>)                  │ (<span style=\"color: #00d7ff; text-decoration-color: #00d7ff\">None</span>, <span style=\"color: #00af00; text-decoration-color: #00af00\">800</span>)                 │               <span style=\"color: #00af00; text-decoration-color: #00af00\">0</span> │\n",
              "├──────────────────────────────────────┼─────────────────────────────┼─────────────────┤\n",
              "│ dense_10 (<span style=\"color: #0087ff; text-decoration-color: #0087ff\">Dense</span>)                     │ (<span style=\"color: #00d7ff; text-decoration-color: #00d7ff\">None</span>, <span style=\"color: #00af00; text-decoration-color: #00af00\">128</span>)                 │         <span style=\"color: #00af00; text-decoration-color: #00af00\">102,528</span> │\n",
              "├──────────────────────────────────────┼─────────────────────────────┼─────────────────┤\n",
              "│ dense_11 (<span style=\"color: #0087ff; text-decoration-color: #0087ff\">Dense</span>)                     │ (<span style=\"color: #00d7ff; text-decoration-color: #00d7ff\">None</span>, <span style=\"color: #00af00; text-decoration-color: #00af00\">10</span>)                  │           <span style=\"color: #00af00; text-decoration-color: #00af00\">1,290</span> │\n",
              "└──────────────────────────────────────┴─────────────────────────────┴─────────────────┘\n",
              "</pre>\n"
            ]
          },
          "metadata": {}
        },
        {
          "output_type": "display_data",
          "data": {
            "text/plain": [
              "\u001b[1m Total params: \u001b[0m\u001b[38;5;34m113,386\u001b[0m (442.91 KB)\n"
            ],
            "text/html": [
              "<pre style=\"white-space:pre;overflow-x:auto;line-height:normal;font-family:Menlo,'DejaVu Sans Mono',consolas,'Courier New',monospace\"><span style=\"font-weight: bold\"> Total params: </span><span style=\"color: #00af00; text-decoration-color: #00af00\">113,386</span> (442.91 KB)\n",
              "</pre>\n"
            ]
          },
          "metadata": {}
        },
        {
          "output_type": "display_data",
          "data": {
            "text/plain": [
              "\u001b[1m Trainable params: \u001b[0m\u001b[38;5;34m113,386\u001b[0m (442.91 KB)\n"
            ],
            "text/html": [
              "<pre style=\"white-space:pre;overflow-x:auto;line-height:normal;font-family:Menlo,'DejaVu Sans Mono',consolas,'Courier New',monospace\"><span style=\"font-weight: bold\"> Trainable params: </span><span style=\"color: #00af00; text-decoration-color: #00af00\">113,386</span> (442.91 KB)\n",
              "</pre>\n"
            ]
          },
          "metadata": {}
        },
        {
          "output_type": "display_data",
          "data": {
            "text/plain": [
              "\u001b[1m Non-trainable params: \u001b[0m\u001b[38;5;34m0\u001b[0m (0.00 B)\n"
            ],
            "text/html": [
              "<pre style=\"white-space:pre;overflow-x:auto;line-height:normal;font-family:Menlo,'DejaVu Sans Mono',consolas,'Courier New',monospace\"><span style=\"font-weight: bold\"> Non-trainable params: </span><span style=\"color: #00af00; text-decoration-color: #00af00\">0</span> (0.00 B)\n",
              "</pre>\n"
            ]
          },
          "metadata": {}
        }
      ]
    },
    {
      "cell_type": "markdown",
      "source": [
        "# Types of Pooling\n",
        "\n",
        "1.  Average Pooling\n",
        "2.  Max Pooling\n",
        "3. Global Pooling (both Max and Average)\n"
      ],
      "metadata": {
        "id": "NVYaL36Ez3K_"
      }
    },
    {
      "cell_type": "markdown",
      "source": [
        "# Advantages of Pooling\n",
        "\n",
        "1. Reduced Memory usage\n",
        "2. Transalation and Spatial Invariant\n",
        "3. Enhanced Features  (Only in case of Max Pooling)\n",
        "4. No Need of training"
      ],
      "metadata": {
        "id": "pX6iXFOZ2OiY"
      }
    },
    {
      "cell_type": "markdown",
      "source": [
        "# Disadvantage of Pooling\n",
        "\n",
        "1. **Loss of Information**: Pooling operations, especially Max Pooling, can lead to the loss of important spatial information. By only retaining the maximum (or average) value, other potentially significant features may be discarded.\n",
        "\n",
        "2. **Reduced Spatial Resolution**: Pooling reduces the spatial dimensions of the feature maps, which can make it more challenging for the network to capture fine details in the input images.\n",
        "\n",
        "3. **Sensitivity to Outliers**: In Max Pooling, the presence of outliers can disproportionately influence the output. A single high value in a pooling window can lead to significant changes in the feature map, potentially skewing the learned representations.\n",
        "\n",
        "4. **Translation Invariance Limitations**: While pooling does help with translation invariance, it can also make the model less sensitive to small translations of features. This may be detrimental in cases where precise localization of features is essential such as in Image Segmentation tasks.\n",
        "\n",
        "5. **Difficulty in Capturing Global Context**: Pooling may not effectively capture global context, particularly in scenarios where the relationships between distant pixels are crucial for understanding the overall image."
      ],
      "metadata": {
        "id": "fsjypVxf3hyZ"
      }
    },
    {
      "cell_type": "markdown",
      "source": [
        "# LeNet-5\n",
        "\n",
        "\n",
        "![LeNet-5.png](data:image/png;base64,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)"
      ],
      "metadata": {
        "id": "wHz3dWuJsezO"
      }
    },
    {
      "cell_type": "markdown",
      "source": [
        "LeNet-5 is a CNN arhcitecture that was first inroduced in the 1990s for recognizing handwriting digits specifically in the MNIST dataset.\n",
        "\n",
        "The 5 in the LeNet-5 represents that the architecture basically has 5 layers:\n",
        "2 convolution layers and 3 dense layers.\n",
        "\n",
        "**INPUT IMAGE**\n",
        "\n",
        "The LeNet-5 architecture takes a 32x32 image as input and the MNIST Dataset has grayscale images as 2D arrays of 28x28 dimensions. We need to apply padding to these images.Using keras we load the MNIST dataset and split it in train and test images.The input to the convolution layer is a third-order tensor representing the number of images, height, width of the images."
      ],
      "metadata": {
        "id": "XRsmEDY8v7Gg"
      }
    },
    {
      "cell_type": "code",
      "source": [
        "print(\"Input: \",X_train.shape)"
      ],
      "metadata": {
        "id": "j98XBzrFx1He",
        "outputId": "af89801b-f687-4ec0-a3f0-9e868b61914e",
        "colab": {
          "base_uri": "https://localhost:8080/"
        }
      },
      "execution_count": 7,
      "outputs": [
        {
          "output_type": "stream",
          "name": "stdout",
          "text": [
            "Input:  (60000, 28, 28)\n"
          ]
        }
      ]
    },
    {
      "cell_type": "markdown",
      "source": [
        "**Convolution Layers**\n",
        "\n",
        "1. Convolution Layer 1\n",
        "\n",
        "  It consists of a convolution operation wiht a sigmoid activation function followed by Average Pooling operation applied on the output of the convolution operation.\n",
        "\n",
        "  The Convolution Operation uses 6 kernels (or filters) of size 5x5 each, on the input image and applies sigmoid activation funtion to the convolution result to generate 6 feature maps as output.\n",
        "\n",
        "  The purpose of using an activation function like sigmoid is not only to introduce non-linearity into the model, which allows it to learn complex patterns, but also to efficiently deal with negative values that might arise from the convolution operation. However, in modern CNNs, ReLU (Rectified Linear Unit) is more commonly used due to its faster training times and better performance, as sigmoid can lead to vanishing gradient issues.\n",
        "\n",
        "  The reason for using 6 kernels is that instead of using one kernel to try to identify different patterns in the image in an attempt to also avoid significant information loss we use 6 kernels that can identify different primitive patterns such as different types of edges of patterns thus reducing the need to pass extensive information to the subsequent layers and again applying convolutions to identify various patters.\n",
        "\n",
        "  The 6 kernels used provide output feature map of size 28 x 28 x 6 where 28x28 is the dimension of the image to be used as input for subsequent layers and 6 is the number of channels.\n",
        "\n",
        "  The feature maps are then used as inputs to the Average Pooling Layer Operations\n",
        "\n",
        "  **Average Pooling** reduces the spatial dimensions of each feature map by half, effectively down-sampling the output from the previous convolutional layer. This layer retains important features while reducing the number of parameters and computation.\n",
        "\n",
        "  The output of the feature map is of size 14 x 14 x 6."
      ],
      "metadata": {
        "id": "TUTNlWu3x0QX"
      }
    },
    {
      "cell_type": "code",
      "source": [
        "model = Sequential()\n",
        "\n",
        "model.add(keras.Input(shape=(28,28,1)))\n",
        "model.add(Conv2D(6,kernel_size=(5,5),padding='same', activation='sigmoid'))\n",
        "model.add(AveragePooling2D(pool_size=(2,2),strides=2))\n",
        "\n",
        "print(model.summary())"
      ],
      "metadata": {
        "id": "BHKjJ8aF4CJB",
        "outputId": "a3d900da-9e55-48c7-b3f6-0876b07a7625",
        "colab": {
          "base_uri": "https://localhost:8080/",
          "height": 210
        }
      },
      "execution_count": 13,
      "outputs": [
        {
          "output_type": "display_data",
          "data": {
            "text/plain": [
              "\u001b[1mModel: \"sequential_4\"\u001b[0m\n"
            ],
            "text/html": [
              "<pre style=\"white-space:pre;overflow-x:auto;line-height:normal;font-family:Menlo,'DejaVu Sans Mono',consolas,'Courier New',monospace\"><span style=\"font-weight: bold\">Model: \"sequential_4\"</span>\n",
              "</pre>\n"
            ]
          },
          "metadata": {}
        },
        {
          "output_type": "display_data",
          "data": {
            "text/plain": [
              "┏━━━━━━━━━━━━━━━━━━━━━━━━━━━━━━━━━━━━━━┳━━━━━━━━━━━━━━━━━━━━━━━━━━━━━┳━━━━━━━━━━━━━━━━━┓\n",
              "┃\u001b[1m \u001b[0m\u001b[1mLayer (type)                        \u001b[0m\u001b[1m \u001b[0m┃\u001b[1m \u001b[0m\u001b[1mOutput Shape               \u001b[0m\u001b[1m \u001b[0m┃\u001b[1m \u001b[0m\u001b[1m        Param #\u001b[0m\u001b[1m \u001b[0m┃\n",
              "┡━━━━━━━━━━━━━━━━━━━━━━━━━━━━━━━━━━━━━━╇━━━━━━━━━━━━━━━━━━━━━━━━━━━━━╇━━━━━━━━━━━━━━━━━┩\n",
              "│ conv2d_3 (\u001b[38;5;33mConv2D\u001b[0m)                    │ (\u001b[38;5;45mNone\u001b[0m, \u001b[38;5;34m28\u001b[0m, \u001b[38;5;34m28\u001b[0m, \u001b[38;5;34m6\u001b[0m)           │             \u001b[38;5;34m156\u001b[0m │\n",
              "├──────────────────────────────────────┼─────────────────────────────┼─────────────────┤\n",
              "│ average_pooling2d (\u001b[38;5;33mAveragePooling2D\u001b[0m) │ (\u001b[38;5;45mNone\u001b[0m, \u001b[38;5;34m14\u001b[0m, \u001b[38;5;34m14\u001b[0m, \u001b[38;5;34m6\u001b[0m)           │               \u001b[38;5;34m0\u001b[0m │\n",
              "└──────────────────────────────────────┴─────────────────────────────┴─────────────────┘\n"
            ],
            "text/html": [
              "<pre style=\"white-space:pre;overflow-x:auto;line-height:normal;font-family:Menlo,'DejaVu Sans Mono',consolas,'Courier New',monospace\">┏━━━━━━━━━━━━━━━━━━━━━━━━━━━━━━━━━━━━━━┳━━━━━━━━━━━━━━━━━━━━━━━━━━━━━┳━━━━━━━━━━━━━━━━━┓\n",
              "┃<span style=\"font-weight: bold\"> Layer (type)                         </span>┃<span style=\"font-weight: bold\"> Output Shape                </span>┃<span style=\"font-weight: bold\">         Param # </span>┃\n",
              "┡━━━━━━━━━━━━━━━━━━━━━━━━━━━━━━━━━━━━━━╇━━━━━━━━━━━━━━━━━━━━━━━━━━━━━╇━━━━━━━━━━━━━━━━━┩\n",
              "│ conv2d_3 (<span style=\"color: #0087ff; text-decoration-color: #0087ff\">Conv2D</span>)                    │ (<span style=\"color: #00d7ff; text-decoration-color: #00d7ff\">None</span>, <span style=\"color: #00af00; text-decoration-color: #00af00\">28</span>, <span style=\"color: #00af00; text-decoration-color: #00af00\">28</span>, <span style=\"color: #00af00; text-decoration-color: #00af00\">6</span>)           │             <span style=\"color: #00af00; text-decoration-color: #00af00\">156</span> │\n",
              "├──────────────────────────────────────┼─────────────────────────────┼─────────────────┤\n",
              "│ average_pooling2d (<span style=\"color: #0087ff; text-decoration-color: #0087ff\">AveragePooling2D</span>) │ (<span style=\"color: #00d7ff; text-decoration-color: #00d7ff\">None</span>, <span style=\"color: #00af00; text-decoration-color: #00af00\">14</span>, <span style=\"color: #00af00; text-decoration-color: #00af00\">14</span>, <span style=\"color: #00af00; text-decoration-color: #00af00\">6</span>)           │               <span style=\"color: #00af00; text-decoration-color: #00af00\">0</span> │\n",
              "└──────────────────────────────────────┴─────────────────────────────┴─────────────────┘\n",
              "</pre>\n"
            ]
          },
          "metadata": {}
        },
        {
          "output_type": "display_data",
          "data": {
            "text/plain": [
              "\u001b[1m Total params: \u001b[0m\u001b[38;5;34m156\u001b[0m (624.00 B)\n"
            ],
            "text/html": [
              "<pre style=\"white-space:pre;overflow-x:auto;line-height:normal;font-family:Menlo,'DejaVu Sans Mono',consolas,'Courier New',monospace\"><span style=\"font-weight: bold\"> Total params: </span><span style=\"color: #00af00; text-decoration-color: #00af00\">156</span> (624.00 B)\n",
              "</pre>\n"
            ]
          },
          "metadata": {}
        },
        {
          "output_type": "display_data",
          "data": {
            "text/plain": [
              "\u001b[1m Trainable params: \u001b[0m\u001b[38;5;34m156\u001b[0m (624.00 B)\n"
            ],
            "text/html": [
              "<pre style=\"white-space:pre;overflow-x:auto;line-height:normal;font-family:Menlo,'DejaVu Sans Mono',consolas,'Courier New',monospace\"><span style=\"font-weight: bold\"> Trainable params: </span><span style=\"color: #00af00; text-decoration-color: #00af00\">156</span> (624.00 B)\n",
              "</pre>\n"
            ]
          },
          "metadata": {}
        },
        {
          "output_type": "display_data",
          "data": {
            "text/plain": [
              "\u001b[1m Non-trainable params: \u001b[0m\u001b[38;5;34m0\u001b[0m (0.00 B)\n"
            ],
            "text/html": [
              "<pre style=\"white-space:pre;overflow-x:auto;line-height:normal;font-family:Menlo,'DejaVu Sans Mono',consolas,'Courier New',monospace\"><span style=\"font-weight: bold\"> Non-trainable params: </span><span style=\"color: #00af00; text-decoration-color: #00af00\">0</span> (0.00 B)\n",
              "</pre>\n"
            ]
          },
          "metadata": {}
        },
        {
          "output_type": "stream",
          "name": "stdout",
          "text": [
            "None\n"
          ]
        }
      ]
    },
    {
      "cell_type": "markdown",
      "source": [
        "2. Convolution Layer 2\n",
        "\n",
        "  The Second Convolution Layer processes the feature maps of dimension 14 x 14 x 6 from the previous convolution layer and applies the sigmoid activation function further extracting features from the pooled maps to generate output of dimensions 10 x 10 x 16. Not all filters connect to all previous feature maps, allowing for a more selective feature extraction.\n",
        "\n",
        "  Similar to the first subsampling layer, this layer reduces the size of the feature maps by averaging over a 2x2 grid, which helps retain the most important information.\n",
        "\n",
        "  The output of this convolution layer is of dimension 5 x 5 x 16."
      ],
      "metadata": {
        "id": "uXdvK7WP_90C"
      }
    },
    {
      "cell_type": "code",
      "source": [
        "\n",
        "model.add(Conv2D(16,kernel_size=(5,5),padding='valid', activation='sigmoid'))\n",
        "model.add(AveragePooling2D(pool_size=(2,2),strides=2))\n",
        "\n",
        "print(model.summary())"
      ],
      "metadata": {
        "id": "528LDrEcBaog",
        "outputId": "fc6e67a1-8e8b-4604-b0a2-9b5d5577cdba",
        "colab": {
          "base_uri": "https://localhost:8080/",
          "height": 290
        }
      },
      "execution_count": 14,
      "outputs": [
        {
          "output_type": "display_data",
          "data": {
            "text/plain": [
              "\u001b[1mModel: \"sequential_4\"\u001b[0m\n"
            ],
            "text/html": [
              "<pre style=\"white-space:pre;overflow-x:auto;line-height:normal;font-family:Menlo,'DejaVu Sans Mono',consolas,'Courier New',monospace\"><span style=\"font-weight: bold\">Model: \"sequential_4\"</span>\n",
              "</pre>\n"
            ]
          },
          "metadata": {}
        },
        {
          "output_type": "display_data",
          "data": {
            "text/plain": [
              "┏━━━━━━━━━━━━━━━━━━━━━━━━━━━━━━━━━━━━━━┳━━━━━━━━━━━━━━━━━━━━━━━━━━━━━┳━━━━━━━━━━━━━━━━━┓\n",
              "┃\u001b[1m \u001b[0m\u001b[1mLayer (type)                        \u001b[0m\u001b[1m \u001b[0m┃\u001b[1m \u001b[0m\u001b[1mOutput Shape               \u001b[0m\u001b[1m \u001b[0m┃\u001b[1m \u001b[0m\u001b[1m        Param #\u001b[0m\u001b[1m \u001b[0m┃\n",
              "┡━━━━━━━━━━━━━━━━━━━━━━━━━━━━━━━━━━━━━━╇━━━━━━━━━━━━━━━━━━━━━━━━━━━━━╇━━━━━━━━━━━━━━━━━┩\n",
              "│ conv2d_3 (\u001b[38;5;33mConv2D\u001b[0m)                    │ (\u001b[38;5;45mNone\u001b[0m, \u001b[38;5;34m28\u001b[0m, \u001b[38;5;34m28\u001b[0m, \u001b[38;5;34m6\u001b[0m)           │             \u001b[38;5;34m156\u001b[0m │\n",
              "├──────────────────────────────────────┼─────────────────────────────┼─────────────────┤\n",
              "│ average_pooling2d (\u001b[38;5;33mAveragePooling2D\u001b[0m) │ (\u001b[38;5;45mNone\u001b[0m, \u001b[38;5;34m14\u001b[0m, \u001b[38;5;34m14\u001b[0m, \u001b[38;5;34m6\u001b[0m)           │               \u001b[38;5;34m0\u001b[0m │\n",
              "├──────────────────────────────────────┼─────────────────────────────┼─────────────────┤\n",
              "│ conv2d_4 (\u001b[38;5;33mConv2D\u001b[0m)                    │ (\u001b[38;5;45mNone\u001b[0m, \u001b[38;5;34m10\u001b[0m, \u001b[38;5;34m10\u001b[0m, \u001b[38;5;34m16\u001b[0m)          │           \u001b[38;5;34m2,416\u001b[0m │\n",
              "├──────────────────────────────────────┼─────────────────────────────┼─────────────────┤\n",
              "│ average_pooling2d_1                  │ (\u001b[38;5;45mNone\u001b[0m, \u001b[38;5;34m5\u001b[0m, \u001b[38;5;34m5\u001b[0m, \u001b[38;5;34m16\u001b[0m)            │               \u001b[38;5;34m0\u001b[0m │\n",
              "│ (\u001b[38;5;33mAveragePooling2D\u001b[0m)                   │                             │                 │\n",
              "└──────────────────────────────────────┴─────────────────────────────┴─────────────────┘\n"
            ],
            "text/html": [
              "<pre style=\"white-space:pre;overflow-x:auto;line-height:normal;font-family:Menlo,'DejaVu Sans Mono',consolas,'Courier New',monospace\">┏━━━━━━━━━━━━━━━━━━━━━━━━━━━━━━━━━━━━━━┳━━━━━━━━━━━━━━━━━━━━━━━━━━━━━┳━━━━━━━━━━━━━━━━━┓\n",
              "┃<span style=\"font-weight: bold\"> Layer (type)                         </span>┃<span style=\"font-weight: bold\"> Output Shape                </span>┃<span style=\"font-weight: bold\">         Param # </span>┃\n",
              "┡━━━━━━━━━━━━━━━━━━━━━━━━━━━━━━━━━━━━━━╇━━━━━━━━━━━━━━━━━━━━━━━━━━━━━╇━━━━━━━━━━━━━━━━━┩\n",
              "│ conv2d_3 (<span style=\"color: #0087ff; text-decoration-color: #0087ff\">Conv2D</span>)                    │ (<span style=\"color: #00d7ff; text-decoration-color: #00d7ff\">None</span>, <span style=\"color: #00af00; text-decoration-color: #00af00\">28</span>, <span style=\"color: #00af00; text-decoration-color: #00af00\">28</span>, <span style=\"color: #00af00; text-decoration-color: #00af00\">6</span>)           │             <span style=\"color: #00af00; text-decoration-color: #00af00\">156</span> │\n",
              "├──────────────────────────────────────┼─────────────────────────────┼─────────────────┤\n",
              "│ average_pooling2d (<span style=\"color: #0087ff; text-decoration-color: #0087ff\">AveragePooling2D</span>) │ (<span style=\"color: #00d7ff; text-decoration-color: #00d7ff\">None</span>, <span style=\"color: #00af00; text-decoration-color: #00af00\">14</span>, <span style=\"color: #00af00; text-decoration-color: #00af00\">14</span>, <span style=\"color: #00af00; text-decoration-color: #00af00\">6</span>)           │               <span style=\"color: #00af00; text-decoration-color: #00af00\">0</span> │\n",
              "├──────────────────────────────────────┼─────────────────────────────┼─────────────────┤\n",
              "│ conv2d_4 (<span style=\"color: #0087ff; text-decoration-color: #0087ff\">Conv2D</span>)                    │ (<span style=\"color: #00d7ff; text-decoration-color: #00d7ff\">None</span>, <span style=\"color: #00af00; text-decoration-color: #00af00\">10</span>, <span style=\"color: #00af00; text-decoration-color: #00af00\">10</span>, <span style=\"color: #00af00; text-decoration-color: #00af00\">16</span>)          │           <span style=\"color: #00af00; text-decoration-color: #00af00\">2,416</span> │\n",
              "├──────────────────────────────────────┼─────────────────────────────┼─────────────────┤\n",
              "│ average_pooling2d_1                  │ (<span style=\"color: #00d7ff; text-decoration-color: #00d7ff\">None</span>, <span style=\"color: #00af00; text-decoration-color: #00af00\">5</span>, <span style=\"color: #00af00; text-decoration-color: #00af00\">5</span>, <span style=\"color: #00af00; text-decoration-color: #00af00\">16</span>)            │               <span style=\"color: #00af00; text-decoration-color: #00af00\">0</span> │\n",
              "│ (<span style=\"color: #0087ff; text-decoration-color: #0087ff\">AveragePooling2D</span>)                   │                             │                 │\n",
              "└──────────────────────────────────────┴─────────────────────────────┴─────────────────┘\n",
              "</pre>\n"
            ]
          },
          "metadata": {}
        },
        {
          "output_type": "display_data",
          "data": {
            "text/plain": [
              "\u001b[1m Total params: \u001b[0m\u001b[38;5;34m2,572\u001b[0m (10.05 KB)\n"
            ],
            "text/html": [
              "<pre style=\"white-space:pre;overflow-x:auto;line-height:normal;font-family:Menlo,'DejaVu Sans Mono',consolas,'Courier New',monospace\"><span style=\"font-weight: bold\"> Total params: </span><span style=\"color: #00af00; text-decoration-color: #00af00\">2,572</span> (10.05 KB)\n",
              "</pre>\n"
            ]
          },
          "metadata": {}
        },
        {
          "output_type": "display_data",
          "data": {
            "text/plain": [
              "\u001b[1m Trainable params: \u001b[0m\u001b[38;5;34m2,572\u001b[0m (10.05 KB)\n"
            ],
            "text/html": [
              "<pre style=\"white-space:pre;overflow-x:auto;line-height:normal;font-family:Menlo,'DejaVu Sans Mono',consolas,'Courier New',monospace\"><span style=\"font-weight: bold\"> Trainable params: </span><span style=\"color: #00af00; text-decoration-color: #00af00\">2,572</span> (10.05 KB)\n",
              "</pre>\n"
            ]
          },
          "metadata": {}
        },
        {
          "output_type": "display_data",
          "data": {
            "text/plain": [
              "\u001b[1m Non-trainable params: \u001b[0m\u001b[38;5;34m0\u001b[0m (0.00 B)\n"
            ],
            "text/html": [
              "<pre style=\"white-space:pre;overflow-x:auto;line-height:normal;font-family:Menlo,'DejaVu Sans Mono',consolas,'Courier New',monospace\"><span style=\"font-weight: bold\"> Non-trainable params: </span><span style=\"color: #00af00; text-decoration-color: #00af00\">0</span> (0.00 B)\n",
              "</pre>\n"
            ]
          },
          "metadata": {}
        },
        {
          "output_type": "stream",
          "name": "stdout",
          "text": [
            "None\n"
          ]
        }
      ]
    },
    {
      "cell_type": "markdown",
      "source": [
        "The next step in the architecture is to flatten the fourth order tensors into two dimensional vectors to be fed to the **FULLY CONNECTED LAYERS** for classification or inference purpose."
      ],
      "metadata": {
        "id": "s87UShZDJtDw"
      }
    },
    {
      "cell_type": "code",
      "source": [
        "model.add(Flatten())\n",
        "print(model.summary())"
      ],
      "metadata": {
        "id": "fgNA5TT6JqnX",
        "outputId": "c368c975-fd7e-4b0e-cb35-889e2b07e185",
        "colab": {
          "base_uri": "https://localhost:8080/",
          "height": 322
        }
      },
      "execution_count": 17,
      "outputs": [
        {
          "output_type": "display_data",
          "data": {
            "text/plain": [
              "\u001b[1mModel: \"sequential_4\"\u001b[0m\n"
            ],
            "text/html": [
              "<pre style=\"white-space:pre;overflow-x:auto;line-height:normal;font-family:Menlo,'DejaVu Sans Mono',consolas,'Courier New',monospace\"><span style=\"font-weight: bold\">Model: \"sequential_4\"</span>\n",
              "</pre>\n"
            ]
          },
          "metadata": {}
        },
        {
          "output_type": "display_data",
          "data": {
            "text/plain": [
              "┏━━━━━━━━━━━━━━━━━━━━━━━━━━━━━━━━━━━━━━┳━━━━━━━━━━━━━━━━━━━━━━━━━━━━━┳━━━━━━━━━━━━━━━━━┓\n",
              "┃\u001b[1m \u001b[0m\u001b[1mLayer (type)                        \u001b[0m\u001b[1m \u001b[0m┃\u001b[1m \u001b[0m\u001b[1mOutput Shape               \u001b[0m\u001b[1m \u001b[0m┃\u001b[1m \u001b[0m\u001b[1m        Param #\u001b[0m\u001b[1m \u001b[0m┃\n",
              "┡━━━━━━━━━━━━━━━━━━━━━━━━━━━━━━━━━━━━━━╇━━━━━━━━━━━━━━━━━━━━━━━━━━━━━╇━━━━━━━━━━━━━━━━━┩\n",
              "│ conv2d_3 (\u001b[38;5;33mConv2D\u001b[0m)                    │ (\u001b[38;5;45mNone\u001b[0m, \u001b[38;5;34m28\u001b[0m, \u001b[38;5;34m28\u001b[0m, \u001b[38;5;34m6\u001b[0m)           │             \u001b[38;5;34m156\u001b[0m │\n",
              "├──────────────────────────────────────┼─────────────────────────────┼─────────────────┤\n",
              "│ average_pooling2d (\u001b[38;5;33mAveragePooling2D\u001b[0m) │ (\u001b[38;5;45mNone\u001b[0m, \u001b[38;5;34m14\u001b[0m, \u001b[38;5;34m14\u001b[0m, \u001b[38;5;34m6\u001b[0m)           │               \u001b[38;5;34m0\u001b[0m │\n",
              "├──────────────────────────────────────┼─────────────────────────────┼─────────────────┤\n",
              "│ conv2d_4 (\u001b[38;5;33mConv2D\u001b[0m)                    │ (\u001b[38;5;45mNone\u001b[0m, \u001b[38;5;34m10\u001b[0m, \u001b[38;5;34m10\u001b[0m, \u001b[38;5;34m16\u001b[0m)          │           \u001b[38;5;34m2,416\u001b[0m │\n",
              "├──────────────────────────────────────┼─────────────────────────────┼─────────────────┤\n",
              "│ average_pooling2d_1                  │ (\u001b[38;5;45mNone\u001b[0m, \u001b[38;5;34m5\u001b[0m, \u001b[38;5;34m5\u001b[0m, \u001b[38;5;34m16\u001b[0m)            │               \u001b[38;5;34m0\u001b[0m │\n",
              "│ (\u001b[38;5;33mAveragePooling2D\u001b[0m)                   │                             │                 │\n",
              "├──────────────────────────────────────┼─────────────────────────────┼─────────────────┤\n",
              "│ flatten (\u001b[38;5;33mFlatten\u001b[0m)                    │ (\u001b[38;5;45mNone\u001b[0m, \u001b[38;5;34m400\u001b[0m)                 │               \u001b[38;5;34m0\u001b[0m │\n",
              "└──────────────────────────────────────┴─────────────────────────────┴─────────────────┘\n"
            ],
            "text/html": [
              "<pre style=\"white-space:pre;overflow-x:auto;line-height:normal;font-family:Menlo,'DejaVu Sans Mono',consolas,'Courier New',monospace\">┏━━━━━━━━━━━━━━━━━━━━━━━━━━━━━━━━━━━━━━┳━━━━━━━━━━━━━━━━━━━━━━━━━━━━━┳━━━━━━━━━━━━━━━━━┓\n",
              "┃<span style=\"font-weight: bold\"> Layer (type)                         </span>┃<span style=\"font-weight: bold\"> Output Shape                </span>┃<span style=\"font-weight: bold\">         Param # </span>┃\n",
              "┡━━━━━━━━━━━━━━━━━━━━━━━━━━━━━━━━━━━━━━╇━━━━━━━━━━━━━━━━━━━━━━━━━━━━━╇━━━━━━━━━━━━━━━━━┩\n",
              "│ conv2d_3 (<span style=\"color: #0087ff; text-decoration-color: #0087ff\">Conv2D</span>)                    │ (<span style=\"color: #00d7ff; text-decoration-color: #00d7ff\">None</span>, <span style=\"color: #00af00; text-decoration-color: #00af00\">28</span>, <span style=\"color: #00af00; text-decoration-color: #00af00\">28</span>, <span style=\"color: #00af00; text-decoration-color: #00af00\">6</span>)           │             <span style=\"color: #00af00; text-decoration-color: #00af00\">156</span> │\n",
              "├──────────────────────────────────────┼─────────────────────────────┼─────────────────┤\n",
              "│ average_pooling2d (<span style=\"color: #0087ff; text-decoration-color: #0087ff\">AveragePooling2D</span>) │ (<span style=\"color: #00d7ff; text-decoration-color: #00d7ff\">None</span>, <span style=\"color: #00af00; text-decoration-color: #00af00\">14</span>, <span style=\"color: #00af00; text-decoration-color: #00af00\">14</span>, <span style=\"color: #00af00; text-decoration-color: #00af00\">6</span>)           │               <span style=\"color: #00af00; text-decoration-color: #00af00\">0</span> │\n",
              "├──────────────────────────────────────┼─────────────────────────────┼─────────────────┤\n",
              "│ conv2d_4 (<span style=\"color: #0087ff; text-decoration-color: #0087ff\">Conv2D</span>)                    │ (<span style=\"color: #00d7ff; text-decoration-color: #00d7ff\">None</span>, <span style=\"color: #00af00; text-decoration-color: #00af00\">10</span>, <span style=\"color: #00af00; text-decoration-color: #00af00\">10</span>, <span style=\"color: #00af00; text-decoration-color: #00af00\">16</span>)          │           <span style=\"color: #00af00; text-decoration-color: #00af00\">2,416</span> │\n",
              "├──────────────────────────────────────┼─────────────────────────────┼─────────────────┤\n",
              "│ average_pooling2d_1                  │ (<span style=\"color: #00d7ff; text-decoration-color: #00d7ff\">None</span>, <span style=\"color: #00af00; text-decoration-color: #00af00\">5</span>, <span style=\"color: #00af00; text-decoration-color: #00af00\">5</span>, <span style=\"color: #00af00; text-decoration-color: #00af00\">16</span>)            │               <span style=\"color: #00af00; text-decoration-color: #00af00\">0</span> │\n",
              "│ (<span style=\"color: #0087ff; text-decoration-color: #0087ff\">AveragePooling2D</span>)                   │                             │                 │\n",
              "├──────────────────────────────────────┼─────────────────────────────┼─────────────────┤\n",
              "│ flatten (<span style=\"color: #0087ff; text-decoration-color: #0087ff\">Flatten</span>)                    │ (<span style=\"color: #00d7ff; text-decoration-color: #00d7ff\">None</span>, <span style=\"color: #00af00; text-decoration-color: #00af00\">400</span>)                 │               <span style=\"color: #00af00; text-decoration-color: #00af00\">0</span> │\n",
              "└──────────────────────────────────────┴─────────────────────────────┴─────────────────┘\n",
              "</pre>\n"
            ]
          },
          "metadata": {}
        },
        {
          "output_type": "display_data",
          "data": {
            "text/plain": [
              "\u001b[1m Total params: \u001b[0m\u001b[38;5;34m2,572\u001b[0m (10.05 KB)\n"
            ],
            "text/html": [
              "<pre style=\"white-space:pre;overflow-x:auto;line-height:normal;font-family:Menlo,'DejaVu Sans Mono',consolas,'Courier New',monospace\"><span style=\"font-weight: bold\"> Total params: </span><span style=\"color: #00af00; text-decoration-color: #00af00\">2,572</span> (10.05 KB)\n",
              "</pre>\n"
            ]
          },
          "metadata": {}
        },
        {
          "output_type": "display_data",
          "data": {
            "text/plain": [
              "\u001b[1m Trainable params: \u001b[0m\u001b[38;5;34m2,572\u001b[0m (10.05 KB)\n"
            ],
            "text/html": [
              "<pre style=\"white-space:pre;overflow-x:auto;line-height:normal;font-family:Menlo,'DejaVu Sans Mono',consolas,'Courier New',monospace\"><span style=\"font-weight: bold\"> Trainable params: </span><span style=\"color: #00af00; text-decoration-color: #00af00\">2,572</span> (10.05 KB)\n",
              "</pre>\n"
            ]
          },
          "metadata": {}
        },
        {
          "output_type": "display_data",
          "data": {
            "text/plain": [
              "\u001b[1m Non-trainable params: \u001b[0m\u001b[38;5;34m0\u001b[0m (0.00 B)\n"
            ],
            "text/html": [
              "<pre style=\"white-space:pre;overflow-x:auto;line-height:normal;font-family:Menlo,'DejaVu Sans Mono',consolas,'Courier New',monospace\"><span style=\"font-weight: bold\"> Non-trainable params: </span><span style=\"color: #00af00; text-decoration-color: #00af00\">0</span> (0.00 B)\n",
              "</pre>\n"
            ]
          },
          "metadata": {}
        },
        {
          "output_type": "stream",
          "name": "stdout",
          "text": [
            "None\n"
          ]
        }
      ]
    },
    {
      "cell_type": "markdown",
      "source": [
        "**Dense Block**\n",
        "\n",
        "The Dense Block in LeNet-5 architecture consists of three fully connected (dense) layers that progressively condense the learned features and perform classification.\n",
        "\n",
        "1. Fully Connected layer with 120 neurons (FC1)\n",
        "2. Fully Connected Layer with 84 neurons  (FC2)\n",
        "3. Fully Connected Layers with 10 neurons (FC3)\n",
        "\n",
        "After Flattening the feature map to a 1D Vector they are fed to the FC1 Layer.\n",
        "Here all the 400 input values act as features and are fully connnected to the 120 neurons in FC1. The number of learnable parameters is calculated as\n",
        "400 x 120 + 120 = 48,120. This includes both the weights and the biases for each neuron.\n",
        "\n",
        "Similarly the output from the FC1 are fed to the FC2 layer with 84 neurons. Thus, the number of learnable paramerters are 120 x 84 + 84 = 10,164.\n",
        "\n",
        "These two layers uses the tanh activation function, allowing the network to learn complex representations from the input features.\n",
        "\n",
        "FC2 layer is responsible for classifying the output into one of 10 possible categories (digits 0-9). The 84 outputs from FC2 are fully connected to the 10 neurons in FC3.The number of learnable parameters is 84 x 10 + 10 = 850.\n",
        "The softmax activation function is applied to the output, converting the 10 values into probabilities corresponding to each class (digit 0-9)."
      ],
      "metadata": {
        "id": "4Giyl3lUKezv"
      }
    },
    {
      "cell_type": "code",
      "source": [
        "model.add(Dense(120,activation=\"tanh\"))\n",
        "model.add(Dense(84,activation=\"tanh\"))\n",
        "model.add(Dense(10,activation=\"sigmoid\"))\n",
        "print(model.summary())"
      ],
      "metadata": {
        "id": "IU4ZkvuNQ9bS",
        "outputId": "7e6b1c7f-89f7-4b3d-ea8d-67b82ed06bf5",
        "colab": {
          "base_uri": "https://localhost:8080/",
          "height": 418
        }
      },
      "execution_count": 19,
      "outputs": [
        {
          "output_type": "display_data",
          "data": {
            "text/plain": [
              "\u001b[1mModel: \"sequential_4\"\u001b[0m\n"
            ],
            "text/html": [
              "<pre style=\"white-space:pre;overflow-x:auto;line-height:normal;font-family:Menlo,'DejaVu Sans Mono',consolas,'Courier New',monospace\"><span style=\"font-weight: bold\">Model: \"sequential_4\"</span>\n",
              "</pre>\n"
            ]
          },
          "metadata": {}
        },
        {
          "output_type": "display_data",
          "data": {
            "text/plain": [
              "┏━━━━━━━━━━━━━━━━━━━━━━━━━━━━━━━━━━━━━━┳━━━━━━━━━━━━━━━━━━━━━━━━━━━━━┳━━━━━━━━━━━━━━━━━┓\n",
              "┃\u001b[1m \u001b[0m\u001b[1mLayer (type)                        \u001b[0m\u001b[1m \u001b[0m┃\u001b[1m \u001b[0m\u001b[1mOutput Shape               \u001b[0m\u001b[1m \u001b[0m┃\u001b[1m \u001b[0m\u001b[1m        Param #\u001b[0m\u001b[1m \u001b[0m┃\n",
              "┡━━━━━━━━━━━━━━━━━━━━━━━━━━━━━━━━━━━━━━╇━━━━━━━━━━━━━━━━━━━━━━━━━━━━━╇━━━━━━━━━━━━━━━━━┩\n",
              "│ conv2d_3 (\u001b[38;5;33mConv2D\u001b[0m)                    │ (\u001b[38;5;45mNone\u001b[0m, \u001b[38;5;34m28\u001b[0m, \u001b[38;5;34m28\u001b[0m, \u001b[38;5;34m6\u001b[0m)           │             \u001b[38;5;34m156\u001b[0m │\n",
              "├──────────────────────────────────────┼─────────────────────────────┼─────────────────┤\n",
              "│ average_pooling2d (\u001b[38;5;33mAveragePooling2D\u001b[0m) │ (\u001b[38;5;45mNone\u001b[0m, \u001b[38;5;34m14\u001b[0m, \u001b[38;5;34m14\u001b[0m, \u001b[38;5;34m6\u001b[0m)           │               \u001b[38;5;34m0\u001b[0m │\n",
              "├──────────────────────────────────────┼─────────────────────────────┼─────────────────┤\n",
              "│ conv2d_4 (\u001b[38;5;33mConv2D\u001b[0m)                    │ (\u001b[38;5;45mNone\u001b[0m, \u001b[38;5;34m10\u001b[0m, \u001b[38;5;34m10\u001b[0m, \u001b[38;5;34m16\u001b[0m)          │           \u001b[38;5;34m2,416\u001b[0m │\n",
              "├──────────────────────────────────────┼─────────────────────────────┼─────────────────┤\n",
              "│ average_pooling2d_1                  │ (\u001b[38;5;45mNone\u001b[0m, \u001b[38;5;34m5\u001b[0m, \u001b[38;5;34m5\u001b[0m, \u001b[38;5;34m16\u001b[0m)            │               \u001b[38;5;34m0\u001b[0m │\n",
              "│ (\u001b[38;5;33mAveragePooling2D\u001b[0m)                   │                             │                 │\n",
              "├──────────────────────────────────────┼─────────────────────────────┼─────────────────┤\n",
              "│ flatten (\u001b[38;5;33mFlatten\u001b[0m)                    │ (\u001b[38;5;45mNone\u001b[0m, \u001b[38;5;34m400\u001b[0m)                 │               \u001b[38;5;34m0\u001b[0m │\n",
              "├──────────────────────────────────────┼─────────────────────────────┼─────────────────┤\n",
              "│ dense_1 (\u001b[38;5;33mDense\u001b[0m)                      │ (\u001b[38;5;45mNone\u001b[0m, \u001b[38;5;34m120\u001b[0m)                 │          \u001b[38;5;34m48,120\u001b[0m │\n",
              "├──────────────────────────────────────┼─────────────────────────────┼─────────────────┤\n",
              "│ dense_2 (\u001b[38;5;33mDense\u001b[0m)                      │ (\u001b[38;5;45mNone\u001b[0m, \u001b[38;5;34m84\u001b[0m)                  │          \u001b[38;5;34m10,164\u001b[0m │\n",
              "├──────────────────────────────────────┼─────────────────────────────┼─────────────────┤\n",
              "│ dense_3 (\u001b[38;5;33mDense\u001b[0m)                      │ (\u001b[38;5;45mNone\u001b[0m, \u001b[38;5;34m10\u001b[0m)                  │             \u001b[38;5;34m850\u001b[0m │\n",
              "└──────────────────────────────────────┴─────────────────────────────┴─────────────────┘\n"
            ],
            "text/html": [
              "<pre style=\"white-space:pre;overflow-x:auto;line-height:normal;font-family:Menlo,'DejaVu Sans Mono',consolas,'Courier New',monospace\">┏━━━━━━━━━━━━━━━━━━━━━━━━━━━━━━━━━━━━━━┳━━━━━━━━━━━━━━━━━━━━━━━━━━━━━┳━━━━━━━━━━━━━━━━━┓\n",
              "┃<span style=\"font-weight: bold\"> Layer (type)                         </span>┃<span style=\"font-weight: bold\"> Output Shape                </span>┃<span style=\"font-weight: bold\">         Param # </span>┃\n",
              "┡━━━━━━━━━━━━━━━━━━━━━━━━━━━━━━━━━━━━━━╇━━━━━━━━━━━━━━━━━━━━━━━━━━━━━╇━━━━━━━━━━━━━━━━━┩\n",
              "│ conv2d_3 (<span style=\"color: #0087ff; text-decoration-color: #0087ff\">Conv2D</span>)                    │ (<span style=\"color: #00d7ff; text-decoration-color: #00d7ff\">None</span>, <span style=\"color: #00af00; text-decoration-color: #00af00\">28</span>, <span style=\"color: #00af00; text-decoration-color: #00af00\">28</span>, <span style=\"color: #00af00; text-decoration-color: #00af00\">6</span>)           │             <span style=\"color: #00af00; text-decoration-color: #00af00\">156</span> │\n",
              "├──────────────────────────────────────┼─────────────────────────────┼─────────────────┤\n",
              "│ average_pooling2d (<span style=\"color: #0087ff; text-decoration-color: #0087ff\">AveragePooling2D</span>) │ (<span style=\"color: #00d7ff; text-decoration-color: #00d7ff\">None</span>, <span style=\"color: #00af00; text-decoration-color: #00af00\">14</span>, <span style=\"color: #00af00; text-decoration-color: #00af00\">14</span>, <span style=\"color: #00af00; text-decoration-color: #00af00\">6</span>)           │               <span style=\"color: #00af00; text-decoration-color: #00af00\">0</span> │\n",
              "├──────────────────────────────────────┼─────────────────────────────┼─────────────────┤\n",
              "│ conv2d_4 (<span style=\"color: #0087ff; text-decoration-color: #0087ff\">Conv2D</span>)                    │ (<span style=\"color: #00d7ff; text-decoration-color: #00d7ff\">None</span>, <span style=\"color: #00af00; text-decoration-color: #00af00\">10</span>, <span style=\"color: #00af00; text-decoration-color: #00af00\">10</span>, <span style=\"color: #00af00; text-decoration-color: #00af00\">16</span>)          │           <span style=\"color: #00af00; text-decoration-color: #00af00\">2,416</span> │\n",
              "├──────────────────────────────────────┼─────────────────────────────┼─────────────────┤\n",
              "│ average_pooling2d_1                  │ (<span style=\"color: #00d7ff; text-decoration-color: #00d7ff\">None</span>, <span style=\"color: #00af00; text-decoration-color: #00af00\">5</span>, <span style=\"color: #00af00; text-decoration-color: #00af00\">5</span>, <span style=\"color: #00af00; text-decoration-color: #00af00\">16</span>)            │               <span style=\"color: #00af00; text-decoration-color: #00af00\">0</span> │\n",
              "│ (<span style=\"color: #0087ff; text-decoration-color: #0087ff\">AveragePooling2D</span>)                   │                             │                 │\n",
              "├──────────────────────────────────────┼─────────────────────────────┼─────────────────┤\n",
              "│ flatten (<span style=\"color: #0087ff; text-decoration-color: #0087ff\">Flatten</span>)                    │ (<span style=\"color: #00d7ff; text-decoration-color: #00d7ff\">None</span>, <span style=\"color: #00af00; text-decoration-color: #00af00\">400</span>)                 │               <span style=\"color: #00af00; text-decoration-color: #00af00\">0</span> │\n",
              "├──────────────────────────────────────┼─────────────────────────────┼─────────────────┤\n",
              "│ dense_1 (<span style=\"color: #0087ff; text-decoration-color: #0087ff\">Dense</span>)                      │ (<span style=\"color: #00d7ff; text-decoration-color: #00d7ff\">None</span>, <span style=\"color: #00af00; text-decoration-color: #00af00\">120</span>)                 │          <span style=\"color: #00af00; text-decoration-color: #00af00\">48,120</span> │\n",
              "├──────────────────────────────────────┼─────────────────────────────┼─────────────────┤\n",
              "│ dense_2 (<span style=\"color: #0087ff; text-decoration-color: #0087ff\">Dense</span>)                      │ (<span style=\"color: #00d7ff; text-decoration-color: #00d7ff\">None</span>, <span style=\"color: #00af00; text-decoration-color: #00af00\">84</span>)                  │          <span style=\"color: #00af00; text-decoration-color: #00af00\">10,164</span> │\n",
              "├──────────────────────────────────────┼─────────────────────────────┼─────────────────┤\n",
              "│ dense_3 (<span style=\"color: #0087ff; text-decoration-color: #0087ff\">Dense</span>)                      │ (<span style=\"color: #00d7ff; text-decoration-color: #00d7ff\">None</span>, <span style=\"color: #00af00; text-decoration-color: #00af00\">10</span>)                  │             <span style=\"color: #00af00; text-decoration-color: #00af00\">850</span> │\n",
              "└──────────────────────────────────────┴─────────────────────────────┴─────────────────┘\n",
              "</pre>\n"
            ]
          },
          "metadata": {}
        },
        {
          "output_type": "display_data",
          "data": {
            "text/plain": [
              "\u001b[1m Total params: \u001b[0m\u001b[38;5;34m61,706\u001b[0m (241.04 KB)\n"
            ],
            "text/html": [
              "<pre style=\"white-space:pre;overflow-x:auto;line-height:normal;font-family:Menlo,'DejaVu Sans Mono',consolas,'Courier New',monospace\"><span style=\"font-weight: bold\"> Total params: </span><span style=\"color: #00af00; text-decoration-color: #00af00\">61,706</span> (241.04 KB)\n",
              "</pre>\n"
            ]
          },
          "metadata": {}
        },
        {
          "output_type": "display_data",
          "data": {
            "text/plain": [
              "\u001b[1m Trainable params: \u001b[0m\u001b[38;5;34m61,706\u001b[0m (241.04 KB)\n"
            ],
            "text/html": [
              "<pre style=\"white-space:pre;overflow-x:auto;line-height:normal;font-family:Menlo,'DejaVu Sans Mono',consolas,'Courier New',monospace\"><span style=\"font-weight: bold\"> Trainable params: </span><span style=\"color: #00af00; text-decoration-color: #00af00\">61,706</span> (241.04 KB)\n",
              "</pre>\n"
            ]
          },
          "metadata": {}
        },
        {
          "output_type": "display_data",
          "data": {
            "text/plain": [
              "\u001b[1m Non-trainable params: \u001b[0m\u001b[38;5;34m0\u001b[0m (0.00 B)\n"
            ],
            "text/html": [
              "<pre style=\"white-space:pre;overflow-x:auto;line-height:normal;font-family:Menlo,'DejaVu Sans Mono',consolas,'Courier New',monospace\"><span style=\"font-weight: bold\"> Non-trainable params: </span><span style=\"color: #00af00; text-decoration-color: #00af00\">0</span> (0.00 B)\n",
              "</pre>\n"
            ]
          },
          "metadata": {}
        },
        {
          "output_type": "stream",
          "name": "stdout",
          "text": [
            "None\n"
          ]
        }
      ]
    },
    {
      "cell_type": "code",
      "source": [
        "# Compile the model\n",
        "model.compile(optimizer='adam',\n",
        "              loss='sparse_categorical_crossentropy',\n",
        "              metrics=['accuracy'])\n"
      ],
      "metadata": {
        "id": "T1C0MDtfVKoS"
      },
      "execution_count": 23,
      "outputs": []
    },
    {
      "cell_type": "code",
      "source": [
        "y_train"
      ],
      "metadata": {
        "id": "o_Q9ZaocV7M0",
        "outputId": "c2a5baa3-9d95-4ac5-bbe4-d6f53dd4f1a3",
        "colab": {
          "base_uri": "https://localhost:8080/"
        }
      },
      "execution_count": 22,
      "outputs": [
        {
          "output_type": "execute_result",
          "data": {
            "text/plain": [
              "array([5, 0, 4, ..., 5, 6, 8], dtype=uint8)"
            ]
          },
          "metadata": {},
          "execution_count": 22
        }
      ]
    },
    {
      "cell_type": "code",
      "source": [
        "# Train the model\n",
        "history = model.fit(X_train, y_train,\n",
        "                    validation_data=(X_test, y_test),\n",
        "                    epochs=10,  # Adjust number of epochs based on your needs\n",
        "                    batch_size=32)  # You can adjust batch size based on your GPU/CPU capacity\n"
      ],
      "metadata": {
        "id": "-Lqo2HF8VpzJ",
        "outputId": "8c0873a6-2327-4b0f-ff26-b238615abb42",
        "colab": {
          "base_uri": "https://localhost:8080/"
        }
      },
      "execution_count": 24,
      "outputs": [
        {
          "output_type": "stream",
          "name": "stdout",
          "text": [
            "Epoch 1/10\n",
            "\u001b[1m1875/1875\u001b[0m \u001b[32m━━━━━━━━━━━━━━━━━━━━\u001b[0m\u001b[37m\u001b[0m \u001b[1m46s\u001b[0m 24ms/step - accuracy: 0.7497 - loss: 0.7681 - val_accuracy: 0.9665 - val_loss: 0.1006\n",
            "Epoch 2/10\n",
            "\u001b[1m1875/1875\u001b[0m \u001b[32m━━━━━━━━━━━━━━━━━━━━\u001b[0m\u001b[37m\u001b[0m \u001b[1m108s\u001b[0m 38ms/step - accuracy: 0.9685 - loss: 0.1014 - val_accuracy: 0.9804 - val_loss: 0.0605\n",
            "Epoch 3/10\n",
            "\u001b[1m1875/1875\u001b[0m \u001b[32m━━━━━━━━━━━━━━━━━━━━\u001b[0m\u001b[37m\u001b[0m \u001b[1m56s\u001b[0m 24ms/step - accuracy: 0.9785 - loss: 0.0699 - val_accuracy: 0.9807 - val_loss: 0.0626\n",
            "Epoch 4/10\n",
            "\u001b[1m1875/1875\u001b[0m \u001b[32m━━━━━━━━━━━━━━━━━━━━\u001b[0m\u001b[37m\u001b[0m \u001b[1m84s\u001b[0m 25ms/step - accuracy: 0.9826 - loss: 0.0564 - val_accuracy: 0.9825 - val_loss: 0.0514\n",
            "Epoch 5/10\n",
            "\u001b[1m1875/1875\u001b[0m \u001b[32m━━━━━━━━━━━━━━━━━━━━\u001b[0m\u001b[37m\u001b[0m \u001b[1m79s\u001b[0m 23ms/step - accuracy: 0.9852 - loss: 0.0479 - val_accuracy: 0.9874 - val_loss: 0.0416\n",
            "Epoch 6/10\n",
            "\u001b[1m1875/1875\u001b[0m \u001b[32m━━━━━━━━━━━━━━━━━━━━\u001b[0m\u001b[37m\u001b[0m \u001b[1m83s\u001b[0m 24ms/step - accuracy: 0.9873 - loss: 0.0404 - val_accuracy: 0.9861 - val_loss: 0.0419\n",
            "Epoch 7/10\n",
            "\u001b[1m1875/1875\u001b[0m \u001b[32m━━━━━━━━━━━━━━━━━━━━\u001b[0m\u001b[37m\u001b[0m \u001b[1m81s\u001b[0m 23ms/step - accuracy: 0.9893 - loss: 0.0348 - val_accuracy: 0.9855 - val_loss: 0.0431\n",
            "Epoch 8/10\n",
            "\u001b[1m1875/1875\u001b[0m \u001b[32m━━━━━━━━━━━━━━━━━━━━\u001b[0m\u001b[37m\u001b[0m \u001b[1m43s\u001b[0m 23ms/step - accuracy: 0.9896 - loss: 0.0319 - val_accuracy: 0.9864 - val_loss: 0.0433\n",
            "Epoch 9/10\n",
            "\u001b[1m1875/1875\u001b[0m \u001b[32m━━━━━━━━━━━━━━━━━━━━\u001b[0m\u001b[37m\u001b[0m \u001b[1m85s\u001b[0m 25ms/step - accuracy: 0.9909 - loss: 0.0299 - val_accuracy: 0.9867 - val_loss: 0.0413\n",
            "Epoch 10/10\n",
            "\u001b[1m1875/1875\u001b[0m \u001b[32m━━━━━━━━━━━━━━━━━━━━\u001b[0m\u001b[37m\u001b[0m \u001b[1m79s\u001b[0m 23ms/step - accuracy: 0.9912 - loss: 0.0255 - val_accuracy: 0.9884 - val_loss: 0.0358\n"
          ]
        }
      ]
    },
    {
      "cell_type": "code",
      "source": [
        "test_loss, test_acc = model.evaluate(X_test, y_test)\n",
        "print('Test accuracy:', test_acc)"
      ],
      "metadata": {
        "id": "B-GajhYhWc6s",
        "outputId": "09bf2437-504e-4d1f-9c7b-8b594dc3c16c",
        "colab": {
          "base_uri": "https://localhost:8080/"
        }
      },
      "execution_count": 26,
      "outputs": [
        {
          "output_type": "stream",
          "name": "stdout",
          "text": [
            "\u001b[1m313/313\u001b[0m \u001b[32m━━━━━━━━━━━━━━━━━━━━\u001b[0m\u001b[37m\u001b[0m \u001b[1m3s\u001b[0m 11ms/step - accuracy: 0.9862 - loss: 0.0427\n",
            "Test accuracy: 0.9883999824523926\n"
          ]
        }
      ]
    },
    {
      "cell_type": "code",
      "source": [
        "plt.plot(history.history['accuracy'])\n",
        "plt.plot(history.history['val_accuracy'])\n",
        "plt.title('Model accuracy')\n",
        "plt.ylabel('Accuracy')\n",
        "plt.xlabel('Epoch')\n",
        "plt.legend(['Train', 'Validation'], loc='upper left')\n",
        "plt.show()"
      ],
      "metadata": {
        "id": "zSxHJkVwWbjK",
        "outputId": "2211b4f6-2f58-47bc-adbf-8c0d4ae586b3",
        "colab": {
          "base_uri": "https://localhost:8080/",
          "height": 472
        }
      },
      "execution_count": 27,
      "outputs": [
        {
          "output_type": "display_data",
          "data": {
            "text/plain": [
              "<Figure size 640x480 with 1 Axes>"
            ],
            "image/png": "[encoded data removed]"
          },
          "metadata": {}
        }
      ]
    },
    {
      "cell_type": "markdown",
      "source": [
        "# Summary\n",
        "\n",
        " Explored key concepts of Convolutional Neural Networks (CNNs), including convolution operations, where filters extract important features like edges. Stride and padding control the size and precision of feature maps, with larger strides reducing map size but at the cost of precision. Pooling layers (such as Max Pooling) reduce feature map size to save memory, retain high-level features, and address translation variance, making CNNs more spatially invariant.\n",
        "\n",
        " Also understood the LeNet-5 Architecture and made predictions using it on the MNIST Dataset."
      ],
      "metadata": {
        "id": "kmsRkgdD34bF"
      }
    }
  ],
  "metadata": {
    "kernelspec": {
      "display_name": "base",
      "language": "python",
      "name": "python3"
    },
    "language_info": {
      "codemirror_mode": {
        "name": "ipython",
        "version": 3
      },
      "file_extension": ".py",
      "mimetype": "text/x-python",
      "name": "python",
      "nbconvert_exporter": "python",
      "pygments_lexer": "ipython3",
      "version": "3.12.2"
    },
    "colab": {
      "provenance": [],
      "include_colab_link": true
    }
  },
  "nbformat": 4,
  "nbformat_minor": 0
}