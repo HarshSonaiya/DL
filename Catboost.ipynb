{
  "nbformat": 4,
  "nbformat_minor": 0,
  "metadata": {
    "colab": {
      "provenance": [],
      "authorship_tag": "ABX9TyOJtPs9g6xoW+AoxeF8N5Cq",
      "include_colab_link": true
    },
    "kernelspec": {
      "name": "python3",
      "display_name": "Python 3"
    },
    "language_info": {
      "name": "python"
    },
    "widgets": {
      "application/vnd.jupyter.widget-state+json": {
        "f339fc55d5904b28ba8a684f5cb36179": {
          "model_module": "catboost-widget",
          "model_name": "CatboostWidgetModel",
          "model_module_version": "^1.0.0",
          "state": {
            "_dom_classes": [],
            "_model_module": "catboost-widget",
            "_model_module_version": "^1.0.0",
            "_model_name": "CatboostWidgetModel",
            "_view_count": null,
            "_view_module": "catboost-widget",
            "_view_module_version": "^1.0.0",
            "_view_name": "CatboostWidgetView",
            "data": {
              "catboost_info": {
                "path": "catboost_info",
                "name": "catboost_info",
                "content": {
                  "passed_iterations": 49,
                  "total_iterations": 50,
                  "data": {
                    "iterations": [
                      {
                        "learn": [
                          0.3969304954,
                          0.9418271982
                        ],
                        "iteration": 0,
                        "passed_time": 0.02257646929,
                        "remaining_time": 1.106246995,
                        "test": [
                          0.3945769185,
                          0.5907031948,
                          0.943240769
                        ]
                      },
                      {
                        "learn": [
                          0.2933474641,
                          0.9418271982
                        ],
                        "iteration": 1,
                        "passed_time": 0.04016205468,
                        "remaining_time": 0.9638893122,
                        "test": [
                          0.2899250988,
                          0.6430234065,
                          0.943240769
                        ]
                      },
                      {
                        "learn": [
                          0.2466417255,
                          0.9418271982
                        ],
                        "iteration": 2,
                        "passed_time": 0.05653040846,
                        "remaining_time": 0.8856430658,
                        "test": [
                          0.2428163104,
                          0.6875432664,
                          0.943240769
                        ]
                      },
                      {
                        "learn": [
                          0.2142165323,
                          0.9418271982
                        ],
                        "iteration": 3,
                        "passed_time": 0.07281706191,
                        "remaining_time": 0.8373962119,
                        "test": [
                          0.2071024489,
                          0.7787097818,
                          0.943240769
                        ]
                      },
                      {
                        "learn": [
                          0.197156308,
                          0.9420942209
                        ],
                        "iteration": 4,
                        "passed_time": 0.08785378444,
                        "remaining_time": 0.7906840599,
                        "test": [
                          0.1891439005,
                          0.8147211554,
                          0.943240769
                        ]
                      },
                      {
                        "learn": [
                          0.1893637184,
                          0.9425901202
                        ],
                        "iteration": 5,
                        "passed_time": 0.105193957,
                        "remaining_time": 0.7714223512,
                        "test": [
                          0.1803756191,
                          0.8232337727,
                          0.9433933476
                        ]
                      },
                      {
                        "learn": [
                          0.1834199799,
                          0.9438107953
                        ],
                        "iteration": 6,
                        "passed_time": 0.123139789,
                        "remaining_time": 0.7564301323,
                        "test": [
                          0.1736867436,
                          0.8296739493,
                          0.9456820262
                        ]
                      },
                      {
                        "learn": [
                          0.1817675693,
                          0.9443829868
                        ],
                        "iteration": 7,
                        "passed_time": 0.1389791137,
                        "remaining_time": 0.729640347,
                        "test": [
                          0.1716029607,
                          0.8275217158,
                          0.9453768691
                        ]
                      },
                      {
                        "learn": [
                          0.1798744946,
                          0.9446118634
                        ],
                        "iteration": 8,
                        "passed_time": 0.1545288941,
                        "remaining_time": 0.7039649619,
                        "test": [
                          0.1695555632,
                          0.8279417699,
                          0.9452242905
                        ]
                      },
                      {
                        "learn": [
                          0.1771475036,
                          0.9448788861
                        ],
                        "iteration": 9,
                        "passed_time": 0.1729327147,
                        "remaining_time": 0.6917308587,
                        "test": [
                          0.1655671158,
                          0.8421170725,
                          0.9465974977
                        ]
                      },
                      {
                        "learn": [
                          0.1755969003,
                          0.9451459088
                        ],
                        "iteration": 10,
                        "passed_time": 0.1878223873,
                        "remaining_time": 0.6659157369,
                        "test": [
                          0.163587575,
                          0.8494230127,
                          0.9464449191
                        ]
                      },
                      {
                        "learn": [
                          0.1752024414,
                          0.9450314705
                        ],
                        "iteration": 11,
                        "passed_time": 0.2028595335,
                        "remaining_time": 0.6423885229,
                        "test": [
                          0.1630647513,
                          0.850386615,
                          0.9465974977
                        ]
                      },
                      {
                        "learn": [
                          0.1748601333,
                          0.9455273698
                        ],
                        "iteration": 12,
                        "passed_time": 0.2178818813,
                        "remaining_time": 0.6201253546,
                        "test": [
                          0.1622077535,
                          0.8530299986,
                          0.9465974977
                        ]
                      },
                      {
                        "learn": [
                          0.1743090506,
                          0.9454510776
                        ],
                        "iteration": 13,
                        "passed_time": 0.2340750158,
                        "remaining_time": 0.6019071835,
                        "test": [
                          0.1607046891,
                          0.855857319,
                          0.9464449191
                        ]
                      },
                      {
                        "learn": [
                          0.1729752413,
                          0.9454129315
                        ],
                        "iteration": 14,
                        "passed_time": 0.2528844888,
                        "remaining_time": 0.5900638071,
                        "test": [
                          0.1598236548,
                          0.8568261394,
                          0.9458346048
                        ]
                      },
                      {
                        "learn": [
                          0.1726361046,
                          0.9456418081
                        ],
                        "iteration": 15,
                        "passed_time": 0.2762210534,
                        "remaining_time": 0.5869697384,
                        "test": [
                          0.1593568598,
                          0.85779409,
                          0.9455294477
                        ]
                      },
                      {
                        "learn": [
                          0.1723376425,
                          0.9461758535
                        ],
                        "iteration": 16,
                        "passed_time": 0.2912011861,
                        "remaining_time": 0.5652728907,
                        "test": [
                          0.159432766,
                          0.8567504775,
                          0.9452242905
                        ]
                      },
                      {
                        "learn": [
                          0.1717438725,
                          0.9458706847
                        ],
                        "iteration": 17,
                        "passed_time": 0.3060233341,
                        "remaining_time": 0.5440414828,
                        "test": [
                          0.158895051,
                          0.8573425102,
                          0.9458346048
                        ]
                      },
                      {
                        "learn": [
                          0.1717321149,
                          0.9459088308
                        ],
                        "iteration": 18,
                        "passed_time": 0.3170234402,
                        "remaining_time": 0.5172487708,
                        "test": [
                          0.1588620737,
                          0.8573594689,
                          0.9458346048
                        ]
                      },
                      {
                        "learn": [
                          0.1716964629,
                          0.9461758535
                        ],
                        "iteration": 19,
                        "passed_time": 0.3320168471,
                        "remaining_time": 0.4980252707,
                        "test": [
                          0.158777922,
                          0.8573516418,
                          0.9462923406
                        ]
                      },
                      {
                        "learn": [
                          0.1709201793,
                          0.9468624833
                        ],
                        "iteration": 20,
                        "passed_time": 0.3469214445,
                        "remaining_time": 0.4790819948,
                        "test": [
                          0.1588972234,
                          0.8574029527,
                          0.9464449191
                        ]
                      },
                      {
                        "learn": [
                          0.1702719908,
                          0.9469387755
                        ],
                        "iteration": 21,
                        "passed_time": 0.3617667984,
                        "remaining_time": 0.4604304706,
                        "test": [
                          0.1576268408,
                          0.8593386366,
                          0.9462923406
                        ]
                      },
                      {
                        "learn": [
                          0.1699475401,
                          0.9471676521
                        ],
                        "iteration": 22,
                        "passed_time": 0.3766600872,
                        "remaining_time": 0.4421661893,
                        "test": [
                          0.1573850379,
                          0.8598667481,
                          0.9464449191
                        ]
                      },
                      {
                        "learn": [
                          0.1692589523,
                          0.9472439443
                        ],
                        "iteration": 23,
                        "passed_time": 0.3936853812,
                        "remaining_time": 0.4264924963,
                        "test": [
                          0.1570435056,
                          0.859884359,
                          0.9475129692
                        ]
                      },
                      {
                        "learn": [
                          0.169166691,
                          0.9474346748
                        ],
                        "iteration": 24,
                        "passed_time": 0.4088012661,
                        "remaining_time": 0.4088012661,
                        "test": [
                          0.1569916436,
                          0.8601243899,
                          0.9473603906
                        ]
                      },
                      {
                        "learn": [
                          0.1691200291,
                          0.9474728209
                        ],
                        "iteration": 25,
                        "passed_time": 0.4234893125,
                        "remaining_time": 0.3909132115,
                        "test": [
                          0.1569331781,
                          0.8603539847,
                          0.947207812
                        ]
                      },
                      {
                        "learn": [
                          0.1690894481,
                          0.9474346748
                        ],
                        "iteration": 26,
                        "passed_time": 0.4383708291,
                        "remaining_time": 0.3734270025,
                        "test": [
                          0.1569416437,
                          0.860363986,
                          0.947207812
                        ]
                      },
                      {
                        "learn": [
                          0.1684307577,
                          0.9480068663
                        ],
                        "iteration": 27,
                        "passed_time": 0.4697915679,
                        "remaining_time": 0.3691219462,
                        "test": [
                          0.1566965996,
                          0.8614141211,
                          0.9470552334
                        ]
                      },
                      {
                        "learn": [
                          0.1684094293,
                          0.9478542819
                        ],
                        "iteration": 28,
                        "passed_time": 0.4844769304,
                        "remaining_time": 0.350828122,
                        "test": [
                          0.1566063782,
                          0.8616658927,
                          0.9469026549
                        ]
                      },
                      {
                        "learn": [
                          0.1683841413,
                          0.9479687202
                        ],
                        "iteration": 29,
                        "passed_time": 0.4989463578,
                        "remaining_time": 0.3326309052,
                        "test": [
                          0.1565686571,
                          0.8617254655,
                          0.947207812
                        ]
                      },
                      {
                        "learn": [
                          0.1683656323,
                          0.9479687202
                        ],
                        "iteration": 30,
                        "passed_time": 0.5134677564,
                        "remaining_time": 0.3147060443,
                        "test": [
                          0.1565492603,
                          0.8618002578,
                          0.9473603906
                        ]
                      },
                      {
                        "learn": [
                          0.1681629474,
                          0.9478161358
                        ],
                        "iteration": 31,
                        "passed_time": 0.528073612,
                        "remaining_time": 0.2970414067,
                        "test": [
                          0.1565567014,
                          0.8617891694,
                          0.9478181263
                        ]
                      },
                      {
                        "learn": [
                          0.1681544779,
                          0.9478161358
                        ],
                        "iteration": 32,
                        "passed_time": 0.5427578376,
                        "remaining_time": 0.2796025224,
                        "test": [
                          0.1565445076,
                          0.8617904739,
                          0.9478181263
                        ]
                      },
                      {
                        "learn": [
                          0.1675386214,
                          0.9480068663
                        ],
                        "iteration": 33,
                        "passed_time": 0.5581996692,
                        "remaining_time": 0.2626821973,
                        "test": [
                          0.1557469802,
                          0.8638172565,
                          0.9476655478
                        ]
                      },
                      {
                        "learn": [
                          0.1674039698,
                          0.9479687202
                        ],
                        "iteration": 34,
                        "passed_time": 0.5729439549,
                        "remaining_time": 0.2455474092,
                        "test": [
                          0.1558336502,
                          0.8633624153,
                          0.9478181263
                        ]
                      },
                      {
                        "learn": [
                          0.1673925452,
                          0.9479305741
                        ],
                        "iteration": 35,
                        "passed_time": 0.587626409,
                        "remaining_time": 0.2285213813,
                        "test": [
                          0.1558184809,
                          0.8633593715,
                          0.9479707049
                        ]
                      },
                      {
                        "learn": [
                          0.1673398145,
                          0.948273889
                        ],
                        "iteration": 36,
                        "passed_time": 0.6043148395,
                        "remaining_time": 0.2123268355,
                        "test": [
                          0.1558587021,
                          0.8633167573,
                          0.9484284406
                        ]
                      },
                      {
                        "learn": [
                          0.1672478149,
                          0.9481213046
                        ],
                        "iteration": 37,
                        "passed_time": 0.6192995653,
                        "remaining_time": 0.1955682838,
                        "test": [
                          0.1558881398,
                          0.8634267714,
                          0.9475129692
                        ]
                      },
                      {
                        "learn": [
                          0.1670878225,
                          0.948273889
                        ],
                        "iteration": 38,
                        "passed_time": 0.6353300969,
                        "remaining_time": 0.1791956684,
                        "test": [
                          0.1559433771,
                          0.8632223973,
                          0.9476655478
                        ]
                      },
                      {
                        "learn": [
                          0.1668228862,
                          0.9481975968
                        ],
                        "iteration": 39,
                        "passed_time": 0.650155717,
                        "remaining_time": 0.1625389292,
                        "test": [
                          0.1558071345,
                          0.8633319766,
                          0.9481232835
                        ]
                      },
                      {
                        "learn": [
                          0.166755426,
                          0.948273889
                        ],
                        "iteration": 40,
                        "passed_time": 0.6646522769,
                        "remaining_time": 0.1458992803,
                        "test": [
                          0.1558672607,
                          0.863207178,
                          0.9481232835
                        ]
                      },
                      {
                        "learn": [
                          0.1666558974,
                          0.9484646195
                        ],
                        "iteration": 41,
                        "passed_time": 0.6795941708,
                        "remaining_time": 0.1294465087,
                        "test": [
                          0.1557870709,
                          0.8632130483,
                          0.9476655478
                        ]
                      },
                      {
                        "learn": [
                          0.1659566675,
                          0.9484264734
                        ],
                        "iteration": 42,
                        "passed_time": 0.6945205113,
                        "remaining_time": 0.1130614786,
                        "test": [
                          0.1562042828,
                          0.8622620563,
                          0.9485810192
                        ]
                      },
                      {
                        "learn": [
                          0.1659128586,
                          0.9484264734
                        ],
                        "iteration": 43,
                        "passed_time": 0.7106500982,
                        "remaining_time": 0.09690683157,
                        "test": [
                          0.1562230805,
                          0.8622255299,
                          0.9487335978
                        ]
                      },
                      {
                        "learn": [
                          0.1659056554,
                          0.9484264734
                        ],
                        "iteration": 44,
                        "passed_time": 0.7251681384,
                        "remaining_time": 0.0805742376,
                        "test": [
                          0.1562440376,
                          0.8621555209,
                          0.9487335978
                        ]
                      },
                      {
                        "learn": [
                          0.1658599248,
                          0.9485027656
                        ],
                        "iteration": 45,
                        "passed_time": 0.7414752798,
                        "remaining_time": 0.06447611128,
                        "test": [
                          0.1561265171,
                          0.8623542421,
                          0.9487335978
                        ]
                      },
                      {
                        "learn": [
                          0.1658249419,
                          0.9484646195
                        ],
                        "iteration": 46,
                        "passed_time": 0.7563987905,
                        "remaining_time": 0.04828077386,
                        "test": [
                          0.1561402017,
                          0.862314237,
                          0.9485810192
                        ]
                      },
                      {
                        "learn": [
                          0.165787158,
                          0.9484264734
                        ],
                        "iteration": 47,
                        "passed_time": 0.7714287079,
                        "remaining_time": 0.03214286283,
                        "test": [
                          0.1561980634,
                          0.862260317,
                          0.9482758621
                        ]
                      },
                      {
                        "learn": [
                          0.1657553269,
                          0.9485409117
                        ],
                        "iteration": 48,
                        "passed_time": 0.7863958529,
                        "remaining_time": 0.01604889496,
                        "test": [
                          0.1562552968,
                          0.862262926,
                          0.9482758621
                        ]
                      },
                      {
                        "learn": [
                          0.1657131115,
                          0.9485027656
                        ],
                        "iteration": 49,
                        "passed_time": 0.8014160505,
                        "remaining_time": 0,
                        "test": [
                          0.1562600739,
                          0.8622381402,
                          0.9484284406
                        ]
                      }
                    ],
                    "meta": {
                      "test_sets": [
                        "test"
                      ],
                      "test_metrics": [
                        {
                          "best_value": "Min",
                          "name": "Logloss"
                        },
                        {
                          "best_value": "Max",
                          "name": "AUC"
                        },
                        {
                          "best_value": "Max",
                          "name": "Accuracy"
                        }
                      ],
                      "learn_metrics": [
                        {
                          "best_value": "Min",
                          "name": "Logloss"
                        },
                        {
                          "best_value": "Max",
                          "name": "Accuracy"
                        }
                      ],
                      "launch_mode": "Train",
                      "parameters": "",
                      "iteration_count": 50,
                      "learn_sets": [
                        "learn"
                      ],
                      "name": "experiment"
                    }
                  }
                }
              }
            },
            "layout": "IPY_MODEL_38a03c060f7b438ab37917ef83f051ac"
          }
        }
      }
    }
  },
  "cells": [
    {
      "cell_type": "markdown",
      "metadata": {
        "id": "view-in-github",
        "colab_type": "text"
      },
      "source": [
        "<a href=\"https://colab.research.google.com/github/HarshSonaiya/DL/blob/main/Catboost.ipynb\" target=\"_parent\"><img src=\"https://colab.research.google.com/assets/colab-badge.svg\" alt=\"Open In Colab\"/></a>"
      ]
    },
    {
      "cell_type": "code",
      "execution_count": 13,
      "metadata": {
        "colab": {
          "base_uri": "https://localhost:8080/"
        },
        "id": "uRPW-9YGY6IN",
        "outputId": "34e74b4f-33ce-4454-98bd-ded5e442846d"
      },
      "outputs": [
        {
          "output_type": "stream",
          "name": "stdout",
          "text": [
            "Collecting catboost\n",
            "  Downloading catboost-1.2.5-cp310-cp310-manylinux2014_x86_64.whl.metadata (1.2 kB)\n",
            "Requirement already satisfied: graphviz in /usr/local/lib/python3.10/dist-packages (from catboost) (0.20.3)\n",
            "Requirement already satisfied: matplotlib in /usr/local/lib/python3.10/dist-packages (from catboost) (3.7.1)\n",
            "Requirement already satisfied: numpy>=1.16.0 in /usr/local/lib/python3.10/dist-packages (from catboost) (1.26.4)\n",
            "Requirement already satisfied: pandas>=0.24 in /usr/local/lib/python3.10/dist-packages (from catboost) (2.1.4)\n",
            "Requirement already satisfied: scipy in /usr/local/lib/python3.10/dist-packages (from catboost) (1.13.1)\n",
            "Requirement already satisfied: plotly in /usr/local/lib/python3.10/dist-packages (from catboost) (5.15.0)\n",
            "Requirement already satisfied: six in /usr/local/lib/python3.10/dist-packages (from catboost) (1.16.0)\n",
            "Requirement already satisfied: python-dateutil>=2.8.2 in /usr/local/lib/python3.10/dist-packages (from pandas>=0.24->catboost) (2.8.2)\n",
            "Requirement already satisfied: pytz>=2020.1 in /usr/local/lib/python3.10/dist-packages (from pandas>=0.24->catboost) (2024.1)\n",
            "Requirement already satisfied: tzdata>=2022.1 in /usr/local/lib/python3.10/dist-packages (from pandas>=0.24->catboost) (2024.1)\n",
            "Requirement already satisfied: contourpy>=1.0.1 in /usr/local/lib/python3.10/dist-packages (from matplotlib->catboost) (1.2.1)\n",
            "Requirement already satisfied: cycler>=0.10 in /usr/local/lib/python3.10/dist-packages (from matplotlib->catboost) (0.12.1)\n",
            "Requirement already satisfied: fonttools>=4.22.0 in /usr/local/lib/python3.10/dist-packages (from matplotlib->catboost) (4.53.1)\n",
            "Requirement already satisfied: kiwisolver>=1.0.1 in /usr/local/lib/python3.10/dist-packages (from matplotlib->catboost) (1.4.5)\n",
            "Requirement already satisfied: packaging>=20.0 in /usr/local/lib/python3.10/dist-packages (from matplotlib->catboost) (24.1)\n",
            "Requirement already satisfied: pillow>=6.2.0 in /usr/local/lib/python3.10/dist-packages (from matplotlib->catboost) (9.4.0)\n",
            "Requirement already satisfied: pyparsing>=2.3.1 in /usr/local/lib/python3.10/dist-packages (from matplotlib->catboost) (3.1.2)\n",
            "Requirement already satisfied: tenacity>=6.2.0 in /usr/local/lib/python3.10/dist-packages (from plotly->catboost) (9.0.0)\n",
            "Downloading catboost-1.2.5-cp310-cp310-manylinux2014_x86_64.whl (98.2 MB)\n",
            "\u001b[2K   \u001b[90m━━━━━━━━━━━━━━━━━━━━━━━━━━━━━━━━━━━━━━━━\u001b[0m \u001b[32m98.2/98.2 MB\u001b[0m \u001b[31m7.2 MB/s\u001b[0m eta \u001b[36m0:00:00\u001b[0m\n",
            "\u001b[?25hInstalling collected packages: catboost\n",
            "Successfully installed catboost-1.2.5\n"
          ]
        }
      ],
      "source": [
        "%pip install catboost\n",
        "import numpy as np # linear algebra\n",
        "from sklearn.model_selection import train_test_split\n",
        "import pandas as pd # data processing, CSV file I/O (e.g. pd.read_csv)\n",
        "from catboost import CatBoostClassifier, Pool"
      ]
    },
    {
      "cell_type": "code",
      "source": [
        "train_df = pd.read_csv('train.csv')\n",
        "test_df = pd.read_csv('test.csv')"
      ],
      "metadata": {
        "id": "NfHKEaKDaBEg"
      },
      "execution_count": 3,
      "outputs": []
    },
    {
      "cell_type": "code",
      "source": [
        "train_df.head()"
      ],
      "metadata": {
        "colab": {
          "base_uri": "https://localhost:8080/",
          "height": 206
        },
        "id": "s68Xje2-aDuz",
        "outputId": "164cad72-b693-4781-b35d-fa7f13d4bd7a"
      },
      "execution_count": 4,
      "outputs": [
        {
          "output_type": "execute_result",
          "data": {
            "text/plain": [
              "   ACTION  RESOURCE  MGR_ID  ROLE_ROLLUP_1  ROLE_ROLLUP_2  ROLE_DEPTNAME  \\\n",
              "0       1     39353   85475         117961         118300         123472   \n",
              "1       1     17183    1540         117961         118343         123125   \n",
              "2       1     36724   14457         118219         118220         117884   \n",
              "3       1     36135    5396         117961         118343         119993   \n",
              "4       1     42680    5905         117929         117930         119569   \n",
              "\n",
              "   ROLE_TITLE  ROLE_FAMILY_DESC  ROLE_FAMILY  ROLE_CODE  \n",
              "0      117905            117906       290919     117908  \n",
              "1      118536            118536       308574     118539  \n",
              "2      117879            267952        19721     117880  \n",
              "3      118321            240983       290919     118322  \n",
              "4      119323            123932        19793     119325  "
            ],
            "text/html": [
              "\n",
              "  <div id=\"df-9c5f8d95-cd44-4a73-a09d-5f9f15097c41\" class=\"colab-df-container\">\n",
              "    <div>\n",
              "<style scoped>\n",
              "    .dataframe tbody tr th:only-of-type {\n",
              "        vertical-align: middle;\n",
              "    }\n",
              "\n",
              "    .dataframe tbody tr th {\n",
              "        vertical-align: top;\n",
              "    }\n",
              "\n",
              "    .dataframe thead th {\n",
              "        text-align: right;\n",
              "    }\n",
              "</style>\n",
              "<table border=\"1\" class=\"dataframe\">\n",
              "  <thead>\n",
              "    <tr style=\"text-align: right;\">\n",
              "      <th></th>\n",
              "      <th>ACTION</th>\n",
              "      <th>RESOURCE</th>\n",
              "      <th>MGR_ID</th>\n",
              "      <th>ROLE_ROLLUP_1</th>\n",
              "      <th>ROLE_ROLLUP_2</th>\n",
              "      <th>ROLE_DEPTNAME</th>\n",
              "      <th>ROLE_TITLE</th>\n",
              "      <th>ROLE_FAMILY_DESC</th>\n",
              "      <th>ROLE_FAMILY</th>\n",
              "      <th>ROLE_CODE</th>\n",
              "    </tr>\n",
              "  </thead>\n",
              "  <tbody>\n",
              "    <tr>\n",
              "      <th>0</th>\n",
              "      <td>1</td>\n",
              "      <td>39353</td>\n",
              "      <td>85475</td>\n",
              "      <td>117961</td>\n",
              "      <td>118300</td>\n",
              "      <td>123472</td>\n",
              "      <td>117905</td>\n",
              "      <td>117906</td>\n",
              "      <td>290919</td>\n",
              "      <td>117908</td>\n",
              "    </tr>\n",
              "    <tr>\n",
              "      <th>1</th>\n",
              "      <td>1</td>\n",
              "      <td>17183</td>\n",
              "      <td>1540</td>\n",
              "      <td>117961</td>\n",
              "      <td>118343</td>\n",
              "      <td>123125</td>\n",
              "      <td>118536</td>\n",
              "      <td>118536</td>\n",
              "      <td>308574</td>\n",
              "      <td>118539</td>\n",
              "    </tr>\n",
              "    <tr>\n",
              "      <th>2</th>\n",
              "      <td>1</td>\n",
              "      <td>36724</td>\n",
              "      <td>14457</td>\n",
              "      <td>118219</td>\n",
              "      <td>118220</td>\n",
              "      <td>117884</td>\n",
              "      <td>117879</td>\n",
              "      <td>267952</td>\n",
              "      <td>19721</td>\n",
              "      <td>117880</td>\n",
              "    </tr>\n",
              "    <tr>\n",
              "      <th>3</th>\n",
              "      <td>1</td>\n",
              "      <td>36135</td>\n",
              "      <td>5396</td>\n",
              "      <td>117961</td>\n",
              "      <td>118343</td>\n",
              "      <td>119993</td>\n",
              "      <td>118321</td>\n",
              "      <td>240983</td>\n",
              "      <td>290919</td>\n",
              "      <td>118322</td>\n",
              "    </tr>\n",
              "    <tr>\n",
              "      <th>4</th>\n",
              "      <td>1</td>\n",
              "      <td>42680</td>\n",
              "      <td>5905</td>\n",
              "      <td>117929</td>\n",
              "      <td>117930</td>\n",
              "      <td>119569</td>\n",
              "      <td>119323</td>\n",
              "      <td>123932</td>\n",
              "      <td>19793</td>\n",
              "      <td>119325</td>\n",
              "    </tr>\n",
              "  </tbody>\n",
              "</table>\n",
              "</div>\n",
              "    <div class=\"colab-df-buttons\">\n",
              "\n",
              "  <div class=\"colab-df-container\">\n",
              "    <button class=\"colab-df-convert\" onclick=\"convertToInteractive('df-9c5f8d95-cd44-4a73-a09d-5f9f15097c41')\"\n",
              "            title=\"Convert this dataframe to an interactive table.\"\n",
              "            style=\"display:none;\">\n",
              "\n",
              "  <svg xmlns=\"http://www.w3.org/2000/svg\" height=\"24px\" viewBox=\"0 -960 960 960\">\n",
              "    <path d=\"M120-120v-720h720v720H120Zm60-500h600v-160H180v160Zm220 220h160v-160H400v160Zm0 220h160v-160H400v160ZM180-400h160v-160H180v160Zm440 0h160v-160H620v160ZM180-180h160v-160H180v160Zm440 0h160v-160H620v160Z\"/>\n",
              "  </svg>\n",
              "    </button>\n",
              "\n",
              "  <style>\n",
              "    .colab-df-container {\n",
              "      display:flex;\n",
              "      gap: 12px;\n",
              "    }\n",
              "\n",
              "    .colab-df-convert {\n",
              "      background-color: #E8F0FE;\n",
              "      border: none;\n",
              "      border-radius: 50%;\n",
              "      cursor: pointer;\n",
              "      display: none;\n",
              "      fill: #1967D2;\n",
              "      height: 32px;\n",
              "      padding: 0 0 0 0;\n",
              "      width: 32px;\n",
              "    }\n",
              "\n",
              "    .colab-df-convert:hover {\n",
              "      background-color: #E2EBFA;\n",
              "      box-shadow: 0px 1px 2px rgba(60, 64, 67, 0.3), 0px 1px 3px 1px rgba(60, 64, 67, 0.15);\n",
              "      fill: #174EA6;\n",
              "    }\n",
              "\n",
              "    .colab-df-buttons div {\n",
              "      margin-bottom: 4px;\n",
              "    }\n",
              "\n",
              "    [theme=dark] .colab-df-convert {\n",
              "      background-color: #3B4455;\n",
              "      fill: #D2E3FC;\n",
              "    }\n",
              "\n",
              "    [theme=dark] .colab-df-convert:hover {\n",
              "      background-color: #434B5C;\n",
              "      box-shadow: 0px 1px 3px 1px rgba(0, 0, 0, 0.15);\n",
              "      filter: drop-shadow(0px 1px 2px rgba(0, 0, 0, 0.3));\n",
              "      fill: #FFFFFF;\n",
              "    }\n",
              "  </style>\n",
              "\n",
              "    <script>\n",
              "      const buttonEl =\n",
              "        document.querySelector('#df-9c5f8d95-cd44-4a73-a09d-5f9f15097c41 button.colab-df-convert');\n",
              "      buttonEl.style.display =\n",
              "        google.colab.kernel.accessAllowed ? 'block' : 'none';\n",
              "\n",
              "      async function convertToInteractive(key) {\n",
              "        const element = document.querySelector('#df-9c5f8d95-cd44-4a73-a09d-5f9f15097c41');\n",
              "        const dataTable =\n",
              "          await google.colab.kernel.invokeFunction('convertToInteractive',\n",
              "                                                    [key], {});\n",
              "        if (!dataTable) return;\n",
              "\n",
              "        const docLinkHtml = 'Like what you see? Visit the ' +\n",
              "          '<a target=\"_blank\" href=https://colab.research.google.com/notebooks/data_table.ipynb>data table notebook</a>'\n",
              "          + ' to learn more about interactive tables.';\n",
              "        element.innerHTML = '';\n",
              "        dataTable['output_type'] = 'display_data';\n",
              "        await google.colab.output.renderOutput(dataTable, element);\n",
              "        const docLink = document.createElement('div');\n",
              "        docLink.innerHTML = docLinkHtml;\n",
              "        element.appendChild(docLink);\n",
              "      }\n",
              "    </script>\n",
              "  </div>\n",
              "\n",
              "\n",
              "<div id=\"df-80c5db62-c056-4f7a-9d2f-abb0c18656f5\">\n",
              "  <button class=\"colab-df-quickchart\" onclick=\"quickchart('df-80c5db62-c056-4f7a-9d2f-abb0c18656f5')\"\n",
              "            title=\"Suggest charts\"\n",
              "            style=\"display:none;\">\n",
              "\n",
              "<svg xmlns=\"http://www.w3.org/2000/svg\" height=\"24px\"viewBox=\"0 0 24 24\"\n",
              "     width=\"24px\">\n",
              "    <g>\n",
              "        <path d=\"M19 3H5c-1.1 0-2 .9-2 2v14c0 1.1.9 2 2 2h14c1.1 0 2-.9 2-2V5c0-1.1-.9-2-2-2zM9 17H7v-7h2v7zm4 0h-2V7h2v10zm4 0h-2v-4h2v4z\"/>\n",
              "    </g>\n",
              "</svg>\n",
              "  </button>\n",
              "\n",
              "<style>\n",
              "  .colab-df-quickchart {\n",
              "      --bg-color: #E8F0FE;\n",
              "      --fill-color: #1967D2;\n",
              "      --hover-bg-color: #E2EBFA;\n",
              "      --hover-fill-color: #174EA6;\n",
              "      --disabled-fill-color: #AAA;\n",
              "      --disabled-bg-color: #DDD;\n",
              "  }\n",
              "\n",
              "  [theme=dark] .colab-df-quickchart {\n",
              "      --bg-color: #3B4455;\n",
              "      --fill-color: #D2E3FC;\n",
              "      --hover-bg-color: #434B5C;\n",
              "      --hover-fill-color: #FFFFFF;\n",
              "      --disabled-bg-color: #3B4455;\n",
              "      --disabled-fill-color: #666;\n",
              "  }\n",
              "\n",
              "  .colab-df-quickchart {\n",
              "    background-color: var(--bg-color);\n",
              "    border: none;\n",
              "    border-radius: 50%;\n",
              "    cursor: pointer;\n",
              "    display: none;\n",
              "    fill: var(--fill-color);\n",
              "    height: 32px;\n",
              "    padding: 0;\n",
              "    width: 32px;\n",
              "  }\n",
              "\n",
              "  .colab-df-quickchart:hover {\n",
              "    background-color: var(--hover-bg-color);\n",
              "    box-shadow: 0 1px 2px rgba(60, 64, 67, 0.3), 0 1px 3px 1px rgba(60, 64, 67, 0.15);\n",
              "    fill: var(--button-hover-fill-color);\n",
              "  }\n",
              "\n",
              "  .colab-df-quickchart-complete:disabled,\n",
              "  .colab-df-quickchart-complete:disabled:hover {\n",
              "    background-color: var(--disabled-bg-color);\n",
              "    fill: var(--disabled-fill-color);\n",
              "    box-shadow: none;\n",
              "  }\n",
              "\n",
              "  .colab-df-spinner {\n",
              "    border: 2px solid var(--fill-color);\n",
              "    border-color: transparent;\n",
              "    border-bottom-color: var(--fill-color);\n",
              "    animation:\n",
              "      spin 1s steps(1) infinite;\n",
              "  }\n",
              "\n",
              "  @keyframes spin {\n",
              "    0% {\n",
              "      border-color: transparent;\n",
              "      border-bottom-color: var(--fill-color);\n",
              "      border-left-color: var(--fill-color);\n",
              "    }\n",
              "    20% {\n",
              "      border-color: transparent;\n",
              "      border-left-color: var(--fill-color);\n",
              "      border-top-color: var(--fill-color);\n",
              "    }\n",
              "    30% {\n",
              "      border-color: transparent;\n",
              "      border-left-color: var(--fill-color);\n",
              "      border-top-color: var(--fill-color);\n",
              "      border-right-color: var(--fill-color);\n",
              "    }\n",
              "    40% {\n",
              "      border-color: transparent;\n",
              "      border-right-color: var(--fill-color);\n",
              "      border-top-color: var(--fill-color);\n",
              "    }\n",
              "    60% {\n",
              "      border-color: transparent;\n",
              "      border-right-color: var(--fill-color);\n",
              "    }\n",
              "    80% {\n",
              "      border-color: transparent;\n",
              "      border-right-color: var(--fill-color);\n",
              "      border-bottom-color: var(--fill-color);\n",
              "    }\n",
              "    90% {\n",
              "      border-color: transparent;\n",
              "      border-bottom-color: var(--fill-color);\n",
              "    }\n",
              "  }\n",
              "</style>\n",
              "\n",
              "  <script>\n",
              "    async function quickchart(key) {\n",
              "      const quickchartButtonEl =\n",
              "        document.querySelector('#' + key + ' button');\n",
              "      quickchartButtonEl.disabled = true;  // To prevent multiple clicks.\n",
              "      quickchartButtonEl.classList.add('colab-df-spinner');\n",
              "      try {\n",
              "        const charts = await google.colab.kernel.invokeFunction(\n",
              "            'suggestCharts', [key], {});\n",
              "      } catch (error) {\n",
              "        console.error('Error during call to suggestCharts:', error);\n",
              "      }\n",
              "      quickchartButtonEl.classList.remove('colab-df-spinner');\n",
              "      quickchartButtonEl.classList.add('colab-df-quickchart-complete');\n",
              "    }\n",
              "    (() => {\n",
              "      let quickchartButtonEl =\n",
              "        document.querySelector('#df-80c5db62-c056-4f7a-9d2f-abb0c18656f5 button');\n",
              "      quickchartButtonEl.style.display =\n",
              "        google.colab.kernel.accessAllowed ? 'block' : 'none';\n",
              "    })();\n",
              "  </script>\n",
              "</div>\n",
              "\n",
              "    </div>\n",
              "  </div>\n"
            ],
            "application/vnd.google.colaboratory.intrinsic+json": {
              "type": "dataframe",
              "variable_name": "train_df",
              "summary": "{\n  \"name\": \"train_df\",\n  \"rows\": 32769,\n  \"fields\": [\n    {\n      \"column\": \"ACTION\",\n      \"properties\": {\n        \"dtype\": \"number\",\n        \"std\": 0,\n        \"min\": 0,\n        \"max\": 1,\n        \"num_unique_values\": 2,\n        \"samples\": [\n          0,\n          1\n        ],\n        \"semantic_type\": \"\",\n        \"description\": \"\"\n      }\n    },\n    {\n      \"column\": \"RESOURCE\",\n      \"properties\": {\n        \"dtype\": \"number\",\n        \"std\": 34173,\n        \"min\": 0,\n        \"max\": 312153,\n        \"num_unique_values\": 7518,\n        \"samples\": [\n          79616,\n          35921\n        ],\n        \"semantic_type\": \"\",\n        \"description\": \"\"\n      }\n    },\n    {\n      \"column\": \"MGR_ID\",\n      \"properties\": {\n        \"dtype\": \"number\",\n        \"std\": 35928,\n        \"min\": 25,\n        \"max\": 311696,\n        \"num_unique_values\": 4243,\n        \"samples\": [\n          15768,\n          94919\n        ],\n        \"semantic_type\": \"\",\n        \"description\": \"\"\n      }\n    },\n    {\n      \"column\": \"ROLE_ROLLUP_1\",\n      \"properties\": {\n        \"dtype\": \"number\",\n        \"std\": 10875,\n        \"min\": 4292,\n        \"max\": 311178,\n        \"num_unique_values\": 128,\n        \"samples\": [\n          119691,\n          117935\n        ],\n        \"semantic_type\": \"\",\n        \"description\": \"\"\n      }\n    },\n    {\n      \"column\": \"ROLE_ROLLUP_2\",\n      \"properties\": {\n        \"dtype\": \"number\",\n        \"std\": 4551,\n        \"min\": 23779,\n        \"max\": 286791,\n        \"num_unique_values\": 177,\n        \"samples\": [\n          118225,\n          119597\n        ],\n        \"semantic_type\": \"\",\n        \"description\": \"\"\n      }\n    },\n    {\n      \"column\": \"ROLE_DEPTNAME\",\n      \"properties\": {\n        \"dtype\": \"number\",\n        \"std\": 18961,\n        \"min\": 4674,\n        \"max\": 286792,\n        \"num_unique_values\": 449,\n        \"samples\": [\n          121216,\n          119424\n        ],\n        \"semantic_type\": \"\",\n        \"description\": \"\"\n      }\n    },\n    {\n      \"column\": \"ROLE_TITLE\",\n      \"properties\": {\n        \"dtype\": \"number\",\n        \"std\": 31036,\n        \"min\": 117879,\n        \"max\": 311867,\n        \"num_unique_values\": 343,\n        \"samples\": [\n          119782,\n          118636\n        ],\n        \"semantic_type\": \"\",\n        \"description\": \"\"\n      }\n    },\n    {\n      \"column\": \"ROLE_FAMILY_DESC\",\n      \"properties\": {\n        \"dtype\": \"number\",\n        \"std\": 69509,\n        \"min\": 4673,\n        \"max\": 311867,\n        \"num_unique_values\": 2358,\n        \"samples\": [\n          122092,\n          120812\n        ],\n        \"semantic_type\": \"\",\n        \"description\": \"\"\n      }\n    },\n    {\n      \"column\": \"ROLE_FAMILY\",\n      \"properties\": {\n        \"dtype\": \"number\",\n        \"std\": 100488,\n        \"min\": 3130,\n        \"max\": 308574,\n        \"num_unique_values\": 67,\n        \"samples\": [\n          119184,\n          118643\n        ],\n        \"semantic_type\": \"\",\n        \"description\": \"\"\n      }\n    },\n    {\n      \"column\": \"ROLE_CODE\",\n      \"properties\": {\n        \"dtype\": \"number\",\n        \"std\": 5784,\n        \"min\": 117880,\n        \"max\": 270691,\n        \"num_unique_values\": 343,\n        \"samples\": [\n          119785,\n          118639\n        ],\n        \"semantic_type\": \"\",\n        \"description\": \"\"\n      }\n    }\n  ]\n}"
            }
          },
          "metadata": {},
          "execution_count": 4
        }
      ]
    },
    {
      "cell_type": "code",
      "source": [
        "test_df.head()\n"
      ],
      "metadata": {
        "colab": {
          "base_uri": "https://localhost:8080/",
          "height": 206
        },
        "id": "K-9WI-VmaRgt",
        "outputId": "c4a2c2d3-ad21-4810-de98-11d91553b8ef"
      },
      "execution_count": 5,
      "outputs": [
        {
          "output_type": "execute_result",
          "data": {
            "text/plain": [
              "   id  RESOURCE  MGR_ID  ROLE_ROLLUP_1  ROLE_ROLLUP_2  ROLE_DEPTNAME  \\\n",
              "0   1     78766   72734         118079         118080         117878   \n",
              "1   2     40644    4378         117961         118327         118507   \n",
              "2   3     75443    2395         117961         118300         119488   \n",
              "3   4     43219   19986         117961         118225         118403   \n",
              "4   5     42093   50015         117961         118343         119598   \n",
              "\n",
              "   ROLE_TITLE  ROLE_FAMILY_DESC  ROLE_FAMILY  ROLE_CODE  \n",
              "0      117879            118177        19721     117880  \n",
              "1      118863            122008       118398     118865  \n",
              "2      118172            301534       249618     118175  \n",
              "3      120773            136187       118960     120774  \n",
              "4      118422            300136       118424     118425  "
            ],
            "text/html": [
              "\n",
              "  <div id=\"df-d531645b-07af-470e-b387-5fc874a151fa\" class=\"colab-df-container\">\n",
              "    <div>\n",
              "<style scoped>\n",
              "    .dataframe tbody tr th:only-of-type {\n",
              "        vertical-align: middle;\n",
              "    }\n",
              "\n",
              "    .dataframe tbody tr th {\n",
              "        vertical-align: top;\n",
              "    }\n",
              "\n",
              "    .dataframe thead th {\n",
              "        text-align: right;\n",
              "    }\n",
              "</style>\n",
              "<table border=\"1\" class=\"dataframe\">\n",
              "  <thead>\n",
              "    <tr style=\"text-align: right;\">\n",
              "      <th></th>\n",
              "      <th>id</th>\n",
              "      <th>RESOURCE</th>\n",
              "      <th>MGR_ID</th>\n",
              "      <th>ROLE_ROLLUP_1</th>\n",
              "      <th>ROLE_ROLLUP_2</th>\n",
              "      <th>ROLE_DEPTNAME</th>\n",
              "      <th>ROLE_TITLE</th>\n",
              "      <th>ROLE_FAMILY_DESC</th>\n",
              "      <th>ROLE_FAMILY</th>\n",
              "      <th>ROLE_CODE</th>\n",
              "    </tr>\n",
              "  </thead>\n",
              "  <tbody>\n",
              "    <tr>\n",
              "      <th>0</th>\n",
              "      <td>1</td>\n",
              "      <td>78766</td>\n",
              "      <td>72734</td>\n",
              "      <td>118079</td>\n",
              "      <td>118080</td>\n",
              "      <td>117878</td>\n",
              "      <td>117879</td>\n",
              "      <td>118177</td>\n",
              "      <td>19721</td>\n",
              "      <td>117880</td>\n",
              "    </tr>\n",
              "    <tr>\n",
              "      <th>1</th>\n",
              "      <td>2</td>\n",
              "      <td>40644</td>\n",
              "      <td>4378</td>\n",
              "      <td>117961</td>\n",
              "      <td>118327</td>\n",
              "      <td>118507</td>\n",
              "      <td>118863</td>\n",
              "      <td>122008</td>\n",
              "      <td>118398</td>\n",
              "      <td>118865</td>\n",
              "    </tr>\n",
              "    <tr>\n",
              "      <th>2</th>\n",
              "      <td>3</td>\n",
              "      <td>75443</td>\n",
              "      <td>2395</td>\n",
              "      <td>117961</td>\n",
              "      <td>118300</td>\n",
              "      <td>119488</td>\n",
              "      <td>118172</td>\n",
              "      <td>301534</td>\n",
              "      <td>249618</td>\n",
              "      <td>118175</td>\n",
              "    </tr>\n",
              "    <tr>\n",
              "      <th>3</th>\n",
              "      <td>4</td>\n",
              "      <td>43219</td>\n",
              "      <td>19986</td>\n",
              "      <td>117961</td>\n",
              "      <td>118225</td>\n",
              "      <td>118403</td>\n",
              "      <td>120773</td>\n",
              "      <td>136187</td>\n",
              "      <td>118960</td>\n",
              "      <td>120774</td>\n",
              "    </tr>\n",
              "    <tr>\n",
              "      <th>4</th>\n",
              "      <td>5</td>\n",
              "      <td>42093</td>\n",
              "      <td>50015</td>\n",
              "      <td>117961</td>\n",
              "      <td>118343</td>\n",
              "      <td>119598</td>\n",
              "      <td>118422</td>\n",
              "      <td>300136</td>\n",
              "      <td>118424</td>\n",
              "      <td>118425</td>\n",
              "    </tr>\n",
              "  </tbody>\n",
              "</table>\n",
              "</div>\n",
              "    <div class=\"colab-df-buttons\">\n",
              "\n",
              "  <div class=\"colab-df-container\">\n",
              "    <button class=\"colab-df-convert\" onclick=\"convertToInteractive('df-d531645b-07af-470e-b387-5fc874a151fa')\"\n",
              "            title=\"Convert this dataframe to an interactive table.\"\n",
              "            style=\"display:none;\">\n",
              "\n",
              "  <svg xmlns=\"http://www.w3.org/2000/svg\" height=\"24px\" viewBox=\"0 -960 960 960\">\n",
              "    <path d=\"M120-120v-720h720v720H120Zm60-500h600v-160H180v160Zm220 220h160v-160H400v160Zm0 220h160v-160H400v160ZM180-400h160v-160H180v160Zm440 0h160v-160H620v160ZM180-180h160v-160H180v160Zm440 0h160v-160H620v160Z\"/>\n",
              "  </svg>\n",
              "    </button>\n",
              "\n",
              "  <style>\n",
              "    .colab-df-container {\n",
              "      display:flex;\n",
              "      gap: 12px;\n",
              "    }\n",
              "\n",
              "    .colab-df-convert {\n",
              "      background-color: #E8F0FE;\n",
              "      border: none;\n",
              "      border-radius: 50%;\n",
              "      cursor: pointer;\n",
              "      display: none;\n",
              "      fill: #1967D2;\n",
              "      height: 32px;\n",
              "      padding: 0 0 0 0;\n",
              "      width: 32px;\n",
              "    }\n",
              "\n",
              "    .colab-df-convert:hover {\n",
              "      background-color: #E2EBFA;\n",
              "      box-shadow: 0px 1px 2px rgba(60, 64, 67, 0.3), 0px 1px 3px 1px rgba(60, 64, 67, 0.15);\n",
              "      fill: #174EA6;\n",
              "    }\n",
              "\n",
              "    .colab-df-buttons div {\n",
              "      margin-bottom: 4px;\n",
              "    }\n",
              "\n",
              "    [theme=dark] .colab-df-convert {\n",
              "      background-color: #3B4455;\n",
              "      fill: #D2E3FC;\n",
              "    }\n",
              "\n",
              "    [theme=dark] .colab-df-convert:hover {\n",
              "      background-color: #434B5C;\n",
              "      box-shadow: 0px 1px 3px 1px rgba(0, 0, 0, 0.15);\n",
              "      filter: drop-shadow(0px 1px 2px rgba(0, 0, 0, 0.3));\n",
              "      fill: #FFFFFF;\n",
              "    }\n",
              "  </style>\n",
              "\n",
              "    <script>\n",
              "      const buttonEl =\n",
              "        document.querySelector('#df-d531645b-07af-470e-b387-5fc874a151fa button.colab-df-convert');\n",
              "      buttonEl.style.display =\n",
              "        google.colab.kernel.accessAllowed ? 'block' : 'none';\n",
              "\n",
              "      async function convertToInteractive(key) {\n",
              "        const element = document.querySelector('#df-d531645b-07af-470e-b387-5fc874a151fa');\n",
              "        const dataTable =\n",
              "          await google.colab.kernel.invokeFunction('convertToInteractive',\n",
              "                                                    [key], {});\n",
              "        if (!dataTable) return;\n",
              "\n",
              "        const docLinkHtml = 'Like what you see? Visit the ' +\n",
              "          '<a target=\"_blank\" href=https://colab.research.google.com/notebooks/data_table.ipynb>data table notebook</a>'\n",
              "          + ' to learn more about interactive tables.';\n",
              "        element.innerHTML = '';\n",
              "        dataTable['output_type'] = 'display_data';\n",
              "        await google.colab.output.renderOutput(dataTable, element);\n",
              "        const docLink = document.createElement('div');\n",
              "        docLink.innerHTML = docLinkHtml;\n",
              "        element.appendChild(docLink);\n",
              "      }\n",
              "    </script>\n",
              "  </div>\n",
              "\n",
              "\n",
              "<div id=\"df-708b45ff-65b4-4072-8a95-b1c43727b8c5\">\n",
              "  <button class=\"colab-df-quickchart\" onclick=\"quickchart('df-708b45ff-65b4-4072-8a95-b1c43727b8c5')\"\n",
              "            title=\"Suggest charts\"\n",
              "            style=\"display:none;\">\n",
              "\n",
              "<svg xmlns=\"http://www.w3.org/2000/svg\" height=\"24px\"viewBox=\"0 0 24 24\"\n",
              "     width=\"24px\">\n",
              "    <g>\n",
              "        <path d=\"M19 3H5c-1.1 0-2 .9-2 2v14c0 1.1.9 2 2 2h14c1.1 0 2-.9 2-2V5c0-1.1-.9-2-2-2zM9 17H7v-7h2v7zm4 0h-2V7h2v10zm4 0h-2v-4h2v4z\"/>\n",
              "    </g>\n",
              "</svg>\n",
              "  </button>\n",
              "\n",
              "<style>\n",
              "  .colab-df-quickchart {\n",
              "      --bg-color: #E8F0FE;\n",
              "      --fill-color: #1967D2;\n",
              "      --hover-bg-color: #E2EBFA;\n",
              "      --hover-fill-color: #174EA6;\n",
              "      --disabled-fill-color: #AAA;\n",
              "      --disabled-bg-color: #DDD;\n",
              "  }\n",
              "\n",
              "  [theme=dark] .colab-df-quickchart {\n",
              "      --bg-color: #3B4455;\n",
              "      --fill-color: #D2E3FC;\n",
              "      --hover-bg-color: #434B5C;\n",
              "      --hover-fill-color: #FFFFFF;\n",
              "      --disabled-bg-color: #3B4455;\n",
              "      --disabled-fill-color: #666;\n",
              "  }\n",
              "\n",
              "  .colab-df-quickchart {\n",
              "    background-color: var(--bg-color);\n",
              "    border: none;\n",
              "    border-radius: 50%;\n",
              "    cursor: pointer;\n",
              "    display: none;\n",
              "    fill: var(--fill-color);\n",
              "    height: 32px;\n",
              "    padding: 0;\n",
              "    width: 32px;\n",
              "  }\n",
              "\n",
              "  .colab-df-quickchart:hover {\n",
              "    background-color: var(--hover-bg-color);\n",
              "    box-shadow: 0 1px 2px rgba(60, 64, 67, 0.3), 0 1px 3px 1px rgba(60, 64, 67, 0.15);\n",
              "    fill: var(--button-hover-fill-color);\n",
              "  }\n",
              "\n",
              "  .colab-df-quickchart-complete:disabled,\n",
              "  .colab-df-quickchart-complete:disabled:hover {\n",
              "    background-color: var(--disabled-bg-color);\n",
              "    fill: var(--disabled-fill-color);\n",
              "    box-shadow: none;\n",
              "  }\n",
              "\n",
              "  .colab-df-spinner {\n",
              "    border: 2px solid var(--fill-color);\n",
              "    border-color: transparent;\n",
              "    border-bottom-color: var(--fill-color);\n",
              "    animation:\n",
              "      spin 1s steps(1) infinite;\n",
              "  }\n",
              "\n",
              "  @keyframes spin {\n",
              "    0% {\n",
              "      border-color: transparent;\n",
              "      border-bottom-color: var(--fill-color);\n",
              "      border-left-color: var(--fill-color);\n",
              "    }\n",
              "    20% {\n",
              "      border-color: transparent;\n",
              "      border-left-color: var(--fill-color);\n",
              "      border-top-color: var(--fill-color);\n",
              "    }\n",
              "    30% {\n",
              "      border-color: transparent;\n",
              "      border-left-color: var(--fill-color);\n",
              "      border-top-color: var(--fill-color);\n",
              "      border-right-color: var(--fill-color);\n",
              "    }\n",
              "    40% {\n",
              "      border-color: transparent;\n",
              "      border-right-color: var(--fill-color);\n",
              "      border-top-color: var(--fill-color);\n",
              "    }\n",
              "    60% {\n",
              "      border-color: transparent;\n",
              "      border-right-color: var(--fill-color);\n",
              "    }\n",
              "    80% {\n",
              "      border-color: transparent;\n",
              "      border-right-color: var(--fill-color);\n",
              "      border-bottom-color: var(--fill-color);\n",
              "    }\n",
              "    90% {\n",
              "      border-color: transparent;\n",
              "      border-bottom-color: var(--fill-color);\n",
              "    }\n",
              "  }\n",
              "</style>\n",
              "\n",
              "  <script>\n",
              "    async function quickchart(key) {\n",
              "      const quickchartButtonEl =\n",
              "        document.querySelector('#' + key + ' button');\n",
              "      quickchartButtonEl.disabled = true;  // To prevent multiple clicks.\n",
              "      quickchartButtonEl.classList.add('colab-df-spinner');\n",
              "      try {\n",
              "        const charts = await google.colab.kernel.invokeFunction(\n",
              "            'suggestCharts', [key], {});\n",
              "      } catch (error) {\n",
              "        console.error('Error during call to suggestCharts:', error);\n",
              "      }\n",
              "      quickchartButtonEl.classList.remove('colab-df-spinner');\n",
              "      quickchartButtonEl.classList.add('colab-df-quickchart-complete');\n",
              "    }\n",
              "    (() => {\n",
              "      let quickchartButtonEl =\n",
              "        document.querySelector('#df-708b45ff-65b4-4072-8a95-b1c43727b8c5 button');\n",
              "      quickchartButtonEl.style.display =\n",
              "        google.colab.kernel.accessAllowed ? 'block' : 'none';\n",
              "    })();\n",
              "  </script>\n",
              "</div>\n",
              "\n",
              "    </div>\n",
              "  </div>\n"
            ],
            "application/vnd.google.colaboratory.intrinsic+json": {
              "type": "dataframe",
              "variable_name": "test_df",
              "summary": "{\n  \"name\": \"test_df\",\n  \"rows\": 58921,\n  \"fields\": [\n    {\n      \"column\": \"id\",\n      \"properties\": {\n        \"dtype\": \"number\",\n        \"std\": 17009,\n        \"min\": 1,\n        \"max\": 58921,\n        \"num_unique_values\": 58921,\n        \"samples\": [\n          28814,\n          47327,\n          11007\n        ],\n        \"semantic_type\": \"\",\n        \"description\": \"\"\n      }\n    },\n    {\n      \"column\": \"RESOURCE\",\n      \"properties\": {\n        \"dtype\": \"number\",\n        \"std\": 33717,\n        \"min\": 0,\n        \"max\": 312136,\n        \"num_unique_values\": 4971,\n        \"samples\": [\n          45481,\n          75440,\n          36386\n        ],\n        \"semantic_type\": \"\",\n        \"description\": \"\"\n      }\n    },\n    {\n      \"column\": \"MGR_ID\",\n      \"properties\": {\n        \"dtype\": \"number\",\n        \"std\": 35110,\n        \"min\": 25,\n        \"max\": 311779,\n        \"num_unique_values\": 4689,\n        \"samples\": [\n          7346,\n          113106,\n          17110\n        ],\n        \"semantic_type\": \"\",\n        \"description\": \"\"\n      }\n    },\n    {\n      \"column\": \"ROLE_ROLLUP_1\",\n      \"properties\": {\n        \"dtype\": \"number\",\n        \"std\": 10805,\n        \"min\": 4292,\n        \"max\": 311178,\n        \"num_unique_values\": 126,\n        \"samples\": [\n          118269,\n          118090,\n          206349\n        ],\n        \"semantic_type\": \"\",\n        \"description\": \"\"\n      }\n    },\n    {\n      \"column\": \"ROLE_ROLLUP_2\",\n      \"properties\": {\n        \"dtype\": \"number\",\n        \"std\": 4284,\n        \"min\": 23779,\n        \"max\": 194897,\n        \"num_unique_values\": 177,\n        \"samples\": [\n          118743,\n          118011,\n          120811\n        ],\n        \"semantic_type\": \"\",\n        \"description\": \"\"\n      }\n    },\n    {\n      \"column\": \"ROLE_DEPTNAME\",\n      \"properties\": {\n        \"dtype\": \"number\",\n        \"std\": 17916,\n        \"min\": 4674,\n        \"max\": 277693,\n        \"num_unique_values\": 466,\n        \"samples\": [\n          118437,\n          123055,\n          117941\n        ],\n        \"semantic_type\": \"\",\n        \"description\": \"\"\n      }\n    },\n    {\n      \"column\": \"ROLE_TITLE\",\n      \"properties\": {\n        \"dtype\": \"number\",\n        \"std\": 32068,\n        \"min\": 117879,\n        \"max\": 311867,\n        \"num_unique_values\": 351,\n        \"samples\": [\n          118459,\n          127589,\n          153082\n        ],\n        \"semantic_type\": \"\",\n        \"description\": \"\"\n      }\n    },\n    {\n      \"column\": \"ROLE_FAMILY_DESC\",\n      \"properties\": {\n        \"dtype\": \"number\",\n        \"std\": 69684,\n        \"min\": 4673,\n        \"max\": 311867,\n        \"num_unique_values\": 2749,\n        \"samples\": [\n          122324,\n          131320,\n          198341\n        ],\n        \"semantic_type\": \"\",\n        \"description\": \"\"\n      }\n    },\n    {\n      \"column\": \"ROLE_FAMILY\",\n      \"properties\": {\n        \"dtype\": \"number\",\n        \"std\": 99639,\n        \"min\": 3130,\n        \"max\": 308574,\n        \"num_unique_values\": 68,\n        \"samples\": [\n          120134,\n          4673,\n          118424\n        ],\n        \"semantic_type\": \"\",\n        \"description\": \"\"\n      }\n    },\n    {\n      \"column\": \"ROLE_CODE\",\n      \"properties\": {\n        \"dtype\": \"number\",\n        \"std\": 5326,\n        \"min\": 117880,\n        \"max\": 270691,\n        \"num_unique_values\": 351,\n        \"samples\": [\n          118461,\n          127590,\n          153084\n        ],\n        \"semantic_type\": \"\",\n        \"description\": \"\"\n      }\n    }\n  ]\n}"
            }
          },
          "metadata": {},
          "execution_count": 5
        }
      ]
    },
    {
      "cell_type": "code",
      "source": [
        "train_df.info()\n"
      ],
      "metadata": {
        "colab": {
          "base_uri": "https://localhost:8080/"
        },
        "id": "oHCjXQrMaS-_",
        "outputId": "a1a46365-5df8-431b-cb72-597df0adcac4"
      },
      "execution_count": 6,
      "outputs": [
        {
          "output_type": "stream",
          "name": "stdout",
          "text": [
            "<class 'pandas.core.frame.DataFrame'>\n",
            "RangeIndex: 32769 entries, 0 to 32768\n",
            "Data columns (total 10 columns):\n",
            " #   Column            Non-Null Count  Dtype\n",
            "---  ------            --------------  -----\n",
            " 0   ACTION            32769 non-null  int64\n",
            " 1   RESOURCE          32769 non-null  int64\n",
            " 2   MGR_ID            32769 non-null  int64\n",
            " 3   ROLE_ROLLUP_1     32769 non-null  int64\n",
            " 4   ROLE_ROLLUP_2     32769 non-null  int64\n",
            " 5   ROLE_DEPTNAME     32769 non-null  int64\n",
            " 6   ROLE_TITLE        32769 non-null  int64\n",
            " 7   ROLE_FAMILY_DESC  32769 non-null  int64\n",
            " 8   ROLE_FAMILY       32769 non-null  int64\n",
            " 9   ROLE_CODE         32769 non-null  int64\n",
            "dtypes: int64(10)\n",
            "memory usage: 2.5 MB\n"
          ]
        }
      ]
    },
    {
      "cell_type": "code",
      "source": [
        "test_df.info()\n"
      ],
      "metadata": {
        "colab": {
          "base_uri": "https://localhost:8080/"
        },
        "id": "jDXXXZEkaU_h",
        "outputId": "a542833e-9f5c-481f-9976-6db7c9818808"
      },
      "execution_count": 7,
      "outputs": [
        {
          "output_type": "stream",
          "name": "stdout",
          "text": [
            "<class 'pandas.core.frame.DataFrame'>\n",
            "RangeIndex: 58921 entries, 0 to 58920\n",
            "Data columns (total 10 columns):\n",
            " #   Column            Non-Null Count  Dtype\n",
            "---  ------            --------------  -----\n",
            " 0   id                58921 non-null  int64\n",
            " 1   RESOURCE          58921 non-null  int64\n",
            " 2   MGR_ID            58921 non-null  int64\n",
            " 3   ROLE_ROLLUP_1     58921 non-null  int64\n",
            " 4   ROLE_ROLLUP_2     58921 non-null  int64\n",
            " 5   ROLE_DEPTNAME     58921 non-null  int64\n",
            " 6   ROLE_TITLE        58921 non-null  int64\n",
            " 7   ROLE_FAMILY_DESC  58921 non-null  int64\n",
            " 8   ROLE_FAMILY       58921 non-null  int64\n",
            " 9   ROLE_CODE         58921 non-null  int64\n",
            "dtypes: int64(10)\n",
            "memory usage: 4.5 MB\n"
          ]
        }
      ]
    },
    {
      "cell_type": "code",
      "source": [
        "X = train_df.drop(\"ACTION\", axis=1)\n",
        "y = train_df[\"ACTION\"]"
      ],
      "metadata": {
        "id": "UCOm0zd6aXLl"
      },
      "execution_count": 8,
      "outputs": []
    },
    {
      "cell_type": "code",
      "source": [
        "X_train, X_val, y_train, y_val = train_test_split(X, y, test_size=0.2, random_state=0)"
      ],
      "metadata": {
        "id": "u_nqjk_Nadhz"
      },
      "execution_count": 10,
      "outputs": []
    },
    {
      "cell_type": "code",
      "source": [
        "cat_features = list(range(0, X.shape[1]))\n",
        "print(cat_features)"
      ],
      "metadata": {
        "colab": {
          "base_uri": "https://localhost:8080/"
        },
        "id": "pgkVy1OeancB",
        "outputId": "6c4fa810-6df9-4cc9-9431-fcda50b17261"
      },
      "execution_count": 11,
      "outputs": [
        {
          "output_type": "stream",
          "name": "stdout",
          "text": [
            "[0, 1, 2, 3, 4, 5, 6, 7, 8]\n"
          ]
        }
      ]
    },
    {
      "cell_type": "code",
      "source": [
        "clf = CatBoostClassifier(\n",
        "    iterations=50,\n",
        "    random_seed=42,\n",
        "    learning_rate=0.5,\n",
        "    custom_loss=['AUC', 'Accuracy']\n",
        ")\n",
        "\n",
        "clf.fit(\n",
        "    X_train, y_train,\n",
        "    cat_features=cat_features,\n",
        "    eval_set=(X_val, y_val),\n",
        "    verbose=False,\n",
        "    plot=True\n",
        ")"
      ],
      "metadata": {
        "colab": {
          "base_uri": "https://localhost:8080/",
          "height": 34,
          "referenced_widgets": [
            "f339fc55d5904b28ba8a684f5cb36179"
          ]
        },
        "id": "eg6o2tgMarW3",
        "outputId": "d93a66d5-260b-4fb6-c81a-ef0c386d4f00"
      },
      "execution_count": 17,
      "outputs": [
        {
          "output_type": "display_data",
          "data": {
            "text/plain": [
              "MetricVisualizer(layout=Layout(align_self='stretch', height='500px'))"
            ],
            "application/vnd.jupyter.widget-view+json": {
              "version_major": 2,
              "version_minor": 0,
              "model_id": "f339fc55d5904b28ba8a684f5cb36179"
            }
          },
          "metadata": {}
        },
        {
          "output_type": "execute_result",
          "data": {
            "text/plain": [
              "<catboost.core.CatBoostClassifier at 0x7cd53e53afb0>"
            ]
          },
          "metadata": {},
          "execution_count": 17
        }
      ]
    },
    {
      "cell_type": "code",
      "source": [
        "print(clf.predict(data=X_val))\n"
      ],
      "metadata": {
        "colab": {
          "base_uri": "https://localhost:8080/"
        },
        "id": "5uhM1viSbZhi",
        "outputId": "618f7731-2394-4b33-ef90-e4b75892cf9f"
      },
      "execution_count": 18,
      "outputs": [
        {
          "output_type": "stream",
          "name": "stdout",
          "text": [
            "[1 1 1 ... 1 1 1]\n"
          ]
        }
      ]
    },
    {
      "cell_type": "code",
      "source": [],
      "metadata": {
        "id": "7DXmwp9pbhWn"
      },
      "execution_count": null,
      "outputs": []
    }
  ]
}