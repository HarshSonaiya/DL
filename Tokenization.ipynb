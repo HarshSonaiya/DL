{
  "nbformat": 4,
  "nbformat_minor": 0,
  "metadata": {
    "colab": {
      "provenance": []
    },
    "kernelspec": {
      "name": "python3",
      "display_name": "Python 3"
    },
    "language_info": {
      "name": "python"
    }
  },
  "cells": [
    {
      "cell_type": "markdown",
      "source": [
        "Tokenization :\n",
        "\n",
        "Word Tokenization:-\n",
        "\n",
        "\n",
        "\n",
        "*   Word Based Tokenization\n",
        "*   Punctuation Based Tokenization"
      ],
      "metadata": {
        "id": "Cu4BPu1Ffdkt"
      }
    },
    {
      "cell_type": "code",
      "source": [
        "import nltk\n",
        "import string\n",
        "from nltk import word_tokenize\n",
        "\n",
        "# Example text\n",
        "example_sentence = '''\n",
        "                  Russian warships ready to strike terrorists near Aleppo 08.11.2016 |\n",
        "                  Source: Source: Mil.ru Attack aircraft of the Russian aircraft carrier\n",
        "                  Admiral Kuznetsov get ready to strike terrorists' positions in the vicinity\n",
        "                  of Aleppo, sources at the Russian Defense Ministry said, RBC reports.\n",
        "                  \"Insurgents' attempts to break into Aleppo from outside are meaningless,\" the source said.\n",
        "                  The main task of the aircraft carrier aviation group is to strike missile and\n",
        "                  air blows on the terrorists , whose goal is to enter Aleppo. \"After the attacks\n",
        "                   on terrorists' positions, one will have to forget about the support for\n",
        "                   insurgents from the outside,\" the source said.\n",
        "                   The Russian group in the Mediterranean Sea consists of the Admiral Kuznetsov aircraft\n",
        "                   carrier , the heavy nuclear missile cruiser Pyotr Velikiy (Peter the Great) and\n",
        "                   large anti-submarine ships Severomorsk and Vice-Admiral Kulakov. Russia has increased\n",
        "                   intelligence activities in Syria to establish the areas, where terrorists are concentrated,\n",
        "                   as well as the routes that they use to move from one area to another.\n",
        "                   \"The militants took advantage of the humanitarian pause and regrouped their forces to prepare\n",
        "                   for a new breakthrough into the eastern part of Aleppo,\" the source added. According to the source,\n",
        "                   Russia will use new weapons during the upcoming attacks on terrorists . It was said that the Russian warships\n",
        "                   in the Mediterranean Sea will launch \"Caliber\" cruise missiles, although it\n",
        "                   was not specified which ships would be responsible for the launches.\n",
        "                   Pravda.Ru Russian warships travel to Syria\n",
        "'''\n",
        "example_sentence_no_punct = example_sentence.translate(str.maketrans(\"\", \"\", string.punctuation))\n",
        "\n",
        "word_tokens = word_tokenize(example_sentence_no_punct)\n",
        "\n",
        "print(\"Word-Based Tokenization:\", word_tokens)\n"
      ],
      "metadata": {
        "colab": {
          "base_uri": "https://localhost:8080/"
        },
        "id": "8CEqBMKAsQws",
        "outputId": "beaa43bc-a436-476f-fb97-b96665ad4c36"
      },
      "execution_count": 20,
      "outputs": [
        {
          "output_type": "stream",
          "name": "stdout",
          "text": [
            "Word-Based Tokenization: ['Russian', 'warships', 'ready', 'to', 'strike', 'terrorists', 'near', 'Aleppo', '08112016', 'Source', 'Source', 'Milru', 'Attack', 'aircraft', 'of', 'the', 'Russian', 'aircraft', 'carrier', 'Admiral', 'Kuznetsov', 'get', 'ready', 'to', 'strike', 'terrorists', 'positions', 'in', 'the', 'vicinity', 'of', 'Aleppo', 'sources', 'at', 'the', 'Russian', 'Defense', 'Ministry', 'said', 'RBC', 'reports', 'Insurgents', 'attempts', 'to', 'break', 'into', 'Aleppo', 'from', 'outside', 'are', 'meaningless', 'the', 'source', 'said', 'The', 'main', 'task', 'of', 'the', 'aircraft', 'carrier', 'aviation', 'group', 'is', 'to', 'strike', 'missile', 'and', 'air', 'blows', 'on', 'the', 'terrorists', 'whose', 'goal', 'is', 'to', 'enter', 'Aleppo', 'After', 'the', 'attacks', 'on', 'terrorists', 'positions', 'one', 'will', 'have', 'to', 'forget', 'about', 'the', 'support', 'for', 'insurgents', 'from', 'the', 'outside', 'the', 'source', 'said', 'The', 'Russian', 'group', 'in', 'the', 'Mediterranean', 'Sea', 'consists', 'of', 'the', 'Admiral', 'Kuznetsov', 'aircraft', 'carrier', 'the', 'heavy', 'nuclear', 'missile', 'cruiser', 'Pyotr', 'Velikiy', 'Peter', 'the', 'Great', 'and', 'large', 'antisubmarine', 'ships', 'Severomorsk', 'and', 'ViceAdmiral', 'Kulakov', 'Russia', 'has', 'increased', 'intelligence', 'activities', 'in', 'Syria', 'to', 'establish', 'the', 'areas', 'where', 'terrorists', 'are', 'concentrated', 'as', 'well', 'as', 'the', 'routes', 'that', 'they', 'use', 'to', 'move', 'from', 'one', 'area', 'to', 'another', 'The', 'militants', 'took', 'advantage', 'of', 'the', 'humanitarian', 'pause', 'and', 'regrouped', 'their', 'forces', 'to', 'prepare', 'for', 'a', 'new', 'breakthrough', 'into', 'the', 'eastern', 'part', 'of', 'Aleppo', 'the', 'source', 'added', 'According', 'to', 'the', 'source', 'Russia', 'will', 'use', 'new', 'weapons', 'during', 'the', 'upcoming', 'attacks', 'on', 'terrorists', 'It', 'was', 'said', 'that', 'the', 'Russian', 'warships', 'in', 'the', 'Mediterranean', 'Sea', 'will', 'launch', 'Caliber', 'cruise', 'missiles', 'although', 'it', 'was', 'not', 'specified', 'which', 'ships', 'would', 'be', 'responsible', 'for', 'the', 'launches', 'PravdaRu', 'Russian', 'warships', 'travel', 'to', 'Syria']\n"
          ]
        }
      ]
    },
    {
      "cell_type": "markdown",
      "source": [
        "Punctuation Based Tokenization\n"
      ],
      "metadata": {
        "id": "b8s3f2SufnMV"
      }
    },
    {
      "cell_type": "code",
      "source": [
        "import re\n",
        "\n",
        "pattern = r'\\b\\w+\\b'\n",
        "\n",
        "# Tokenize using regular expressions\n",
        "tokens = re.findall(pattern, example_sentence)\n",
        "print(\"Punctuation-Based Tokenization:\", tokens)\n"
      ],
      "metadata": {
        "colab": {
          "base_uri": "https://localhost:8080/"
        },
        "id": "DgVIfCm6e8SP",
        "outputId": "edd04146-92d7-4aa6-b2bf-9fbbc0792430"
      },
      "execution_count": 21,
      "outputs": [
        {
          "output_type": "stream",
          "name": "stdout",
          "text": [
            "Punctuation-Based Tokenization: ['Russian', 'warships', 'ready', 'to', 'strike', 'terrorists', 'near', 'Aleppo', '08', '11', '2016', 'Source', 'Source', 'Mil', 'ru', 'Attack', 'aircraft', 'of', 'the', 'Russian', 'aircraft', 'carrier', 'Admiral', 'Kuznetsov', 'get', 'ready', 'to', 'strike', 'terrorists', 'positions', 'in', 'the', 'vicinity', 'of', 'Aleppo', 'sources', 'at', 'the', 'Russian', 'Defense', 'Ministry', 'said', 'RBC', 'reports', 'Insurgents', 'attempts', 'to', 'break', 'into', 'Aleppo', 'from', 'outside', 'are', 'meaningless', 'the', 'source', 'said', 'The', 'main', 'task', 'of', 'the', 'aircraft', 'carrier', 'aviation', 'group', 'is', 'to', 'strike', 'missile', 'and', 'air', 'blows', 'on', 'the', 'terrorists', 'whose', 'goal', 'is', 'to', 'enter', 'Aleppo', 'After', 'the', 'attacks', 'on', 'terrorists', 'positions', 'one', 'will', 'have', 'to', 'forget', 'about', 'the', 'support', 'for', 'insurgents', 'from', 'the', 'outside', 'the', 'source', 'said', 'The', 'Russian', 'group', 'in', 'the', 'Mediterranean', 'Sea', 'consists', 'of', 'the', 'Admiral', 'Kuznetsov', 'aircraft', 'carrier', 'the', 'heavy', 'nuclear', 'missile', 'cruiser', 'Pyotr', 'Velikiy', 'Peter', 'the', 'Great', 'and', 'large', 'anti', 'submarine', 'ships', 'Severomorsk', 'and', 'Vice', 'Admiral', 'Kulakov', 'Russia', 'has', 'increased', 'intelligence', 'activities', 'in', 'Syria', 'to', 'establish', 'the', 'areas', 'where', 'terrorists', 'are', 'concentrated', 'as', 'well', 'as', 'the', 'routes', 'that', 'they', 'use', 'to', 'move', 'from', 'one', 'area', 'to', 'another', 'The', 'militants', 'took', 'advantage', 'of', 'the', 'humanitarian', 'pause', 'and', 'regrouped', 'their', 'forces', 'to', 'prepare', 'for', 'a', 'new', 'breakthrough', 'into', 'the', 'eastern', 'part', 'of', 'Aleppo', 'the', 'source', 'added', 'According', 'to', 'the', 'source', 'Russia', 'will', 'use', 'new', 'weapons', 'during', 'the', 'upcoming', 'attacks', 'on', 'terrorists', 'It', 'was', 'said', 'that', 'the', 'Russian', 'warships', 'in', 'the', 'Mediterranean', 'Sea', 'will', 'launch', 'Caliber', 'cruise', 'missiles', 'although', 'it', 'was', 'not', 'specified', 'which', 'ships', 'would', 'be', 'responsible', 'for', 'the', 'launches', 'Pravda', 'Ru', 'Russian', 'warships', 'travel', 'to', 'Syria']\n"
          ]
        }
      ]
    },
    {
      "cell_type": "markdown",
      "source": [
        "SubWord Tokenization:\n",
        "\n",
        "\n",
        "\n",
        "*   Byte Pair Encoding\n",
        "*   WordPeice Tokenization\n",
        "*   SentencePeice Tokenization\n",
        "\n",
        "\n",
        "\n",
        "\n"
      ],
      "metadata": {
        "id": "wY4_gMjXrHTZ"
      }
    },
    {
      "cell_type": "markdown",
      "source": [
        "Sentence Tokenization"
      ],
      "metadata": {
        "id": "_tX0oSsLuYyj"
      }
    },
    {
      "cell_type": "code",
      "source": [
        "import re\n",
        "\n",
        "def sentence_tokenize(text):\n",
        "    # Split text into sentences based on common sentence delimiters\n",
        "    sentences = re.split(r'(?<!\\w\\.\\w.)(?<![A-Z][a-z]\\.)(?<=\\.|\\?|\\!)\\s', text)\n",
        "    return sentences\n",
        "\n",
        "sentences = sentence_tokenize(example_sentence)\n",
        "print(\"Sentence Tokens:\", sentences)\n"
      ],
      "metadata": {
        "colab": {
          "base_uri": "https://localhost:8080/"
        },
        "id": "k4_wqN8ktaNH",
        "outputId": "a63193df-b140-4e4e-cbe1-f85dcc81b3ae"
      },
      "execution_count": 26,
      "outputs": [
        {
          "output_type": "stream",
          "name": "stdout",
          "text": [
            "Sentence Tokens: [\"\\n                  Russian warships ready to strike terrorists near Aleppo 08.11.2016 |\\n                  Source: Source: Mil.ru Attack aircraft of the Russian aircraft carrier \\n                  Admiral Kuznetsov get ready to strike terrorists' positions in the vicinity \\n                  of Aleppo, sources at the Russian Defense Ministry said, RBC reports.\", '\\n                  \"Insurgents\\' attempts to break into Aleppo from outside are meaningless,\" the source said.', '\\n                  The main task of the aircraft carrier aviation group is to strike missile and \\n                  air blows on the terrorists , whose goal is to enter Aleppo.', '\"After the attacks\\n                   on terrorists\\' positions, one will have to forget about the support for \\n                   insurgents from the outside,\" the source said.', '\\n                   The Russian group in the Mediterranean Sea consists of the Admiral Kuznetsov aircraft \\n                   carrier , the heavy nuclear missile cruiser Pyotr Velikiy (Peter the Great) and \\n                   large anti-submarine ships Severomorsk and Vice-Admiral Kulakov.', 'Russia has increased \\n                   intelligence activities in Syria to establish the areas, where terrorists are concentrated, \\n                   as well as the routes that they use to move from one area to another.', '\\n                   \"The militants took advantage of the humanitarian pause and regrouped their forces to prepare \\n                   for a new breakthrough into the eastern part of Aleppo,\" the source added.', 'According to the source, \\n                   Russia will use new weapons during the upcoming attacks on terrorists .', 'It was said that the Russian warships \\n                   in the Mediterranean Sea will launch \"Caliber\" cruise missiles, although it \\n                   was not specified which ships would be responsible for the launches.', '\\n                   Pravda.Ru Russian warships travel to Syria\\n']\n"
          ]
        }
      ]
    },
    {
      "cell_type": "code",
      "source": [
        "from nltk.tokenize import sent_tokenize\n",
        "\n",
        "sentences = sent_tokenize(example_sentence_no_punct)\n",
        "print(\"Sentence Tokenization:\", sentences)\n"
      ],
      "metadata": {
        "colab": {
          "base_uri": "https://localhost:8080/"
        },
        "id": "gYtcRACMvBcO",
        "outputId": "f01f4f2a-61bf-48f2-88dc-601a0992c484"
      },
      "execution_count": 27,
      "outputs": [
        {
          "output_type": "stream",
          "name": "stdout",
          "text": [
            "Sentence Tokenization: ['\\n                  Russian warships ready to strike terrorists near Aleppo 08112016 \\n                  Source Source Milru Attack aircraft of the Russian aircraft carrier \\n                  Admiral Kuznetsov get ready to strike terrorists positions in the vicinity \\n                  of Aleppo sources at the Russian Defense Ministry said RBC reports \\n                  Insurgents attempts to break into Aleppo from outside are meaningless the source said \\n                  The main task of the aircraft carrier aviation group is to strike missile and \\n                  air blows on the terrorists  whose goal is to enter Aleppo After the attacks\\n                   on terrorists positions one will have to forget about the support for \\n                   insurgents from the outside the source said \\n                   The Russian group in the Mediterranean Sea consists of the Admiral Kuznetsov aircraft \\n                   carrier  the heavy nuclear missile cruiser Pyotr Velikiy Peter the Great and \\n                   large antisubmarine ships Severomorsk and ViceAdmiral Kulakov Russia has increased \\n                   intelligence activities in Syria to establish the areas where terrorists are concentrated \\n                   as well as the routes that they use to move from one area to another \\n                   The militants took advantage of the humanitarian pause and regrouped their forces to prepare \\n                   for a new breakthrough into the eastern part of Aleppo the source added According to the source \\n                   Russia will use new weapons during the upcoming attacks on terrorists  It was said that the Russian warships \\n                   in the Mediterranean Sea will launch Caliber cruise missiles although it \\n                   was not specified which ships would be responsible for the launches \\n                   PravdaRu Russian warships travel to Syria']\n"
          ]
        }
      ]
    },
    {
      "cell_type": "markdown",
      "source": [
        "N-gram Tokenization:\n",
        "\n",
        "Bigrams\n",
        "\n",
        "Trigrams\n"
      ],
      "metadata": {
        "id": "vL7ERRiGul3V"
      }
    },
    {
      "cell_type": "code",
      "source": [
        "from nltk import ngrams, word_tokenize\n",
        "\n",
        "\n",
        "# Tokenize text into words\n",
        "tokens = word_tokenize(example_sentence_no_punct)\n",
        "\n",
        "# Generate N-grams\n",
        "bigrams = list(ngrams(tokens, 2))\n",
        "trigrams = list(ngrams(tokens, 3))\n",
        "\n",
        "print(\"Bigrams:\", bigrams)\n",
        "print(\"Trigrams:\", trigrams)\n"
      ],
      "metadata": {
        "colab": {
          "base_uri": "https://localhost:8080/"
        },
        "id": "9aKTD4c3ujEf",
        "outputId": "130b071d-40f2-4a9c-9b7d-fa368a4c5e7b"
      },
      "execution_count": 28,
      "outputs": [
        {
          "output_type": "stream",
          "name": "stdout",
          "text": [
            "Bigrams: [('Russian', 'warships'), ('warships', 'ready'), ('ready', 'to'), ('to', 'strike'), ('strike', 'terrorists'), ('terrorists', 'near'), ('near', 'Aleppo'), ('Aleppo', '08112016'), ('08112016', 'Source'), ('Source', 'Source'), ('Source', 'Milru'), ('Milru', 'Attack'), ('Attack', 'aircraft'), ('aircraft', 'of'), ('of', 'the'), ('the', 'Russian'), ('Russian', 'aircraft'), ('aircraft', 'carrier'), ('carrier', 'Admiral'), ('Admiral', 'Kuznetsov'), ('Kuznetsov', 'get'), ('get', 'ready'), ('ready', 'to'), ('to', 'strike'), ('strike', 'terrorists'), ('terrorists', 'positions'), ('positions', 'in'), ('in', 'the'), ('the', 'vicinity'), ('vicinity', 'of'), ('of', 'Aleppo'), ('Aleppo', 'sources'), ('sources', 'at'), ('at', 'the'), ('the', 'Russian'), ('Russian', 'Defense'), ('Defense', 'Ministry'), ('Ministry', 'said'), ('said', 'RBC'), ('RBC', 'reports'), ('reports', 'Insurgents'), ('Insurgents', 'attempts'), ('attempts', 'to'), ('to', 'break'), ('break', 'into'), ('into', 'Aleppo'), ('Aleppo', 'from'), ('from', 'outside'), ('outside', 'are'), ('are', 'meaningless'), ('meaningless', 'the'), ('the', 'source'), ('source', 'said'), ('said', 'The'), ('The', 'main'), ('main', 'task'), ('task', 'of'), ('of', 'the'), ('the', 'aircraft'), ('aircraft', 'carrier'), ('carrier', 'aviation'), ('aviation', 'group'), ('group', 'is'), ('is', 'to'), ('to', 'strike'), ('strike', 'missile'), ('missile', 'and'), ('and', 'air'), ('air', 'blows'), ('blows', 'on'), ('on', 'the'), ('the', 'terrorists'), ('terrorists', 'whose'), ('whose', 'goal'), ('goal', 'is'), ('is', 'to'), ('to', 'enter'), ('enter', 'Aleppo'), ('Aleppo', 'After'), ('After', 'the'), ('the', 'attacks'), ('attacks', 'on'), ('on', 'terrorists'), ('terrorists', 'positions'), ('positions', 'one'), ('one', 'will'), ('will', 'have'), ('have', 'to'), ('to', 'forget'), ('forget', 'about'), ('about', 'the'), ('the', 'support'), ('support', 'for'), ('for', 'insurgents'), ('insurgents', 'from'), ('from', 'the'), ('the', 'outside'), ('outside', 'the'), ('the', 'source'), ('source', 'said'), ('said', 'The'), ('The', 'Russian'), ('Russian', 'group'), ('group', 'in'), ('in', 'the'), ('the', 'Mediterranean'), ('Mediterranean', 'Sea'), ('Sea', 'consists'), ('consists', 'of'), ('of', 'the'), ('the', 'Admiral'), ('Admiral', 'Kuznetsov'), ('Kuznetsov', 'aircraft'), ('aircraft', 'carrier'), ('carrier', 'the'), ('the', 'heavy'), ('heavy', 'nuclear'), ('nuclear', 'missile'), ('missile', 'cruiser'), ('cruiser', 'Pyotr'), ('Pyotr', 'Velikiy'), ('Velikiy', 'Peter'), ('Peter', 'the'), ('the', 'Great'), ('Great', 'and'), ('and', 'large'), ('large', 'antisubmarine'), ('antisubmarine', 'ships'), ('ships', 'Severomorsk'), ('Severomorsk', 'and'), ('and', 'ViceAdmiral'), ('ViceAdmiral', 'Kulakov'), ('Kulakov', 'Russia'), ('Russia', 'has'), ('has', 'increased'), ('increased', 'intelligence'), ('intelligence', 'activities'), ('activities', 'in'), ('in', 'Syria'), ('Syria', 'to'), ('to', 'establish'), ('establish', 'the'), ('the', 'areas'), ('areas', 'where'), ('where', 'terrorists'), ('terrorists', 'are'), ('are', 'concentrated'), ('concentrated', 'as'), ('as', 'well'), ('well', 'as'), ('as', 'the'), ('the', 'routes'), ('routes', 'that'), ('that', 'they'), ('they', 'use'), ('use', 'to'), ('to', 'move'), ('move', 'from'), ('from', 'one'), ('one', 'area'), ('area', 'to'), ('to', 'another'), ('another', 'The'), ('The', 'militants'), ('militants', 'took'), ('took', 'advantage'), ('advantage', 'of'), ('of', 'the'), ('the', 'humanitarian'), ('humanitarian', 'pause'), ('pause', 'and'), ('and', 'regrouped'), ('regrouped', 'their'), ('their', 'forces'), ('forces', 'to'), ('to', 'prepare'), ('prepare', 'for'), ('for', 'a'), ('a', 'new'), ('new', 'breakthrough'), ('breakthrough', 'into'), ('into', 'the'), ('the', 'eastern'), ('eastern', 'part'), ('part', 'of'), ('of', 'Aleppo'), ('Aleppo', 'the'), ('the', 'source'), ('source', 'added'), ('added', 'According'), ('According', 'to'), ('to', 'the'), ('the', 'source'), ('source', 'Russia'), ('Russia', 'will'), ('will', 'use'), ('use', 'new'), ('new', 'weapons'), ('weapons', 'during'), ('during', 'the'), ('the', 'upcoming'), ('upcoming', 'attacks'), ('attacks', 'on'), ('on', 'terrorists'), ('terrorists', 'It'), ('It', 'was'), ('was', 'said'), ('said', 'that'), ('that', 'the'), ('the', 'Russian'), ('Russian', 'warships'), ('warships', 'in'), ('in', 'the'), ('the', 'Mediterranean'), ('Mediterranean', 'Sea'), ('Sea', 'will'), ('will', 'launch'), ('launch', 'Caliber'), ('Caliber', 'cruise'), ('cruise', 'missiles'), ('missiles', 'although'), ('although', 'it'), ('it', 'was'), ('was', 'not'), ('not', 'specified'), ('specified', 'which'), ('which', 'ships'), ('ships', 'would'), ('would', 'be'), ('be', 'responsible'), ('responsible', 'for'), ('for', 'the'), ('the', 'launches'), ('launches', 'PravdaRu'), ('PravdaRu', 'Russian'), ('Russian', 'warships'), ('warships', 'travel'), ('travel', 'to'), ('to', 'Syria')]\n",
            "Trigrams: [('Russian', 'warships', 'ready'), ('warships', 'ready', 'to'), ('ready', 'to', 'strike'), ('to', 'strike', 'terrorists'), ('strike', 'terrorists', 'near'), ('terrorists', 'near', 'Aleppo'), ('near', 'Aleppo', '08112016'), ('Aleppo', '08112016', 'Source'), ('08112016', 'Source', 'Source'), ('Source', 'Source', 'Milru'), ('Source', 'Milru', 'Attack'), ('Milru', 'Attack', 'aircraft'), ('Attack', 'aircraft', 'of'), ('aircraft', 'of', 'the'), ('of', 'the', 'Russian'), ('the', 'Russian', 'aircraft'), ('Russian', 'aircraft', 'carrier'), ('aircraft', 'carrier', 'Admiral'), ('carrier', 'Admiral', 'Kuznetsov'), ('Admiral', 'Kuznetsov', 'get'), ('Kuznetsov', 'get', 'ready'), ('get', 'ready', 'to'), ('ready', 'to', 'strike'), ('to', 'strike', 'terrorists'), ('strike', 'terrorists', 'positions'), ('terrorists', 'positions', 'in'), ('positions', 'in', 'the'), ('in', 'the', 'vicinity'), ('the', 'vicinity', 'of'), ('vicinity', 'of', 'Aleppo'), ('of', 'Aleppo', 'sources'), ('Aleppo', 'sources', 'at'), ('sources', 'at', 'the'), ('at', 'the', 'Russian'), ('the', 'Russian', 'Defense'), ('Russian', 'Defense', 'Ministry'), ('Defense', 'Ministry', 'said'), ('Ministry', 'said', 'RBC'), ('said', 'RBC', 'reports'), ('RBC', 'reports', 'Insurgents'), ('reports', 'Insurgents', 'attempts'), ('Insurgents', 'attempts', 'to'), ('attempts', 'to', 'break'), ('to', 'break', 'into'), ('break', 'into', 'Aleppo'), ('into', 'Aleppo', 'from'), ('Aleppo', 'from', 'outside'), ('from', 'outside', 'are'), ('outside', 'are', 'meaningless'), ('are', 'meaningless', 'the'), ('meaningless', 'the', 'source'), ('the', 'source', 'said'), ('source', 'said', 'The'), ('said', 'The', 'main'), ('The', 'main', 'task'), ('main', 'task', 'of'), ('task', 'of', 'the'), ('of', 'the', 'aircraft'), ('the', 'aircraft', 'carrier'), ('aircraft', 'carrier', 'aviation'), ('carrier', 'aviation', 'group'), ('aviation', 'group', 'is'), ('group', 'is', 'to'), ('is', 'to', 'strike'), ('to', 'strike', 'missile'), ('strike', 'missile', 'and'), ('missile', 'and', 'air'), ('and', 'air', 'blows'), ('air', 'blows', 'on'), ('blows', 'on', 'the'), ('on', 'the', 'terrorists'), ('the', 'terrorists', 'whose'), ('terrorists', 'whose', 'goal'), ('whose', 'goal', 'is'), ('goal', 'is', 'to'), ('is', 'to', 'enter'), ('to', 'enter', 'Aleppo'), ('enter', 'Aleppo', 'After'), ('Aleppo', 'After', 'the'), ('After', 'the', 'attacks'), ('the', 'attacks', 'on'), ('attacks', 'on', 'terrorists'), ('on', 'terrorists', 'positions'), ('terrorists', 'positions', 'one'), ('positions', 'one', 'will'), ('one', 'will', 'have'), ('will', 'have', 'to'), ('have', 'to', 'forget'), ('to', 'forget', 'about'), ('forget', 'about', 'the'), ('about', 'the', 'support'), ('the', 'support', 'for'), ('support', 'for', 'insurgents'), ('for', 'insurgents', 'from'), ('insurgents', 'from', 'the'), ('from', 'the', 'outside'), ('the', 'outside', 'the'), ('outside', 'the', 'source'), ('the', 'source', 'said'), ('source', 'said', 'The'), ('said', 'The', 'Russian'), ('The', 'Russian', 'group'), ('Russian', 'group', 'in'), ('group', 'in', 'the'), ('in', 'the', 'Mediterranean'), ('the', 'Mediterranean', 'Sea'), ('Mediterranean', 'Sea', 'consists'), ('Sea', 'consists', 'of'), ('consists', 'of', 'the'), ('of', 'the', 'Admiral'), ('the', 'Admiral', 'Kuznetsov'), ('Admiral', 'Kuznetsov', 'aircraft'), ('Kuznetsov', 'aircraft', 'carrier'), ('aircraft', 'carrier', 'the'), ('carrier', 'the', 'heavy'), ('the', 'heavy', 'nuclear'), ('heavy', 'nuclear', 'missile'), ('nuclear', 'missile', 'cruiser'), ('missile', 'cruiser', 'Pyotr'), ('cruiser', 'Pyotr', 'Velikiy'), ('Pyotr', 'Velikiy', 'Peter'), ('Velikiy', 'Peter', 'the'), ('Peter', 'the', 'Great'), ('the', 'Great', 'and'), ('Great', 'and', 'large'), ('and', 'large', 'antisubmarine'), ('large', 'antisubmarine', 'ships'), ('antisubmarine', 'ships', 'Severomorsk'), ('ships', 'Severomorsk', 'and'), ('Severomorsk', 'and', 'ViceAdmiral'), ('and', 'ViceAdmiral', 'Kulakov'), ('ViceAdmiral', 'Kulakov', 'Russia'), ('Kulakov', 'Russia', 'has'), ('Russia', 'has', 'increased'), ('has', 'increased', 'intelligence'), ('increased', 'intelligence', 'activities'), ('intelligence', 'activities', 'in'), ('activities', 'in', 'Syria'), ('in', 'Syria', 'to'), ('Syria', 'to', 'establish'), ('to', 'establish', 'the'), ('establish', 'the', 'areas'), ('the', 'areas', 'where'), ('areas', 'where', 'terrorists'), ('where', 'terrorists', 'are'), ('terrorists', 'are', 'concentrated'), ('are', 'concentrated', 'as'), ('concentrated', 'as', 'well'), ('as', 'well', 'as'), ('well', 'as', 'the'), ('as', 'the', 'routes'), ('the', 'routes', 'that'), ('routes', 'that', 'they'), ('that', 'they', 'use'), ('they', 'use', 'to'), ('use', 'to', 'move'), ('to', 'move', 'from'), ('move', 'from', 'one'), ('from', 'one', 'area'), ('one', 'area', 'to'), ('area', 'to', 'another'), ('to', 'another', 'The'), ('another', 'The', 'militants'), ('The', 'militants', 'took'), ('militants', 'took', 'advantage'), ('took', 'advantage', 'of'), ('advantage', 'of', 'the'), ('of', 'the', 'humanitarian'), ('the', 'humanitarian', 'pause'), ('humanitarian', 'pause', 'and'), ('pause', 'and', 'regrouped'), ('and', 'regrouped', 'their'), ('regrouped', 'their', 'forces'), ('their', 'forces', 'to'), ('forces', 'to', 'prepare'), ('to', 'prepare', 'for'), ('prepare', 'for', 'a'), ('for', 'a', 'new'), ('a', 'new', 'breakthrough'), ('new', 'breakthrough', 'into'), ('breakthrough', 'into', 'the'), ('into', 'the', 'eastern'), ('the', 'eastern', 'part'), ('eastern', 'part', 'of'), ('part', 'of', 'Aleppo'), ('of', 'Aleppo', 'the'), ('Aleppo', 'the', 'source'), ('the', 'source', 'added'), ('source', 'added', 'According'), ('added', 'According', 'to'), ('According', 'to', 'the'), ('to', 'the', 'source'), ('the', 'source', 'Russia'), ('source', 'Russia', 'will'), ('Russia', 'will', 'use'), ('will', 'use', 'new'), ('use', 'new', 'weapons'), ('new', 'weapons', 'during'), ('weapons', 'during', 'the'), ('during', 'the', 'upcoming'), ('the', 'upcoming', 'attacks'), ('upcoming', 'attacks', 'on'), ('attacks', 'on', 'terrorists'), ('on', 'terrorists', 'It'), ('terrorists', 'It', 'was'), ('It', 'was', 'said'), ('was', 'said', 'that'), ('said', 'that', 'the'), ('that', 'the', 'Russian'), ('the', 'Russian', 'warships'), ('Russian', 'warships', 'in'), ('warships', 'in', 'the'), ('in', 'the', 'Mediterranean'), ('the', 'Mediterranean', 'Sea'), ('Mediterranean', 'Sea', 'will'), ('Sea', 'will', 'launch'), ('will', 'launch', 'Caliber'), ('launch', 'Caliber', 'cruise'), ('Caliber', 'cruise', 'missiles'), ('cruise', 'missiles', 'although'), ('missiles', 'although', 'it'), ('although', 'it', 'was'), ('it', 'was', 'not'), ('was', 'not', 'specified'), ('not', 'specified', 'which'), ('specified', 'which', 'ships'), ('which', 'ships', 'would'), ('ships', 'would', 'be'), ('would', 'be', 'responsible'), ('be', 'responsible', 'for'), ('responsible', 'for', 'the'), ('for', 'the', 'launches'), ('the', 'launches', 'PravdaRu'), ('launches', 'PravdaRu', 'Russian'), ('PravdaRu', 'Russian', 'warships'), ('Russian', 'warships', 'travel'), ('warships', 'travel', 'to'), ('travel', 'to', 'Syria')]\n"
          ]
        }
      ]
    },
    {
      "cell_type": "markdown",
      "source": [
        "RegEX Tokenization"
      ],
      "metadata": {
        "id": "xMYn1LclvV0B"
      }
    }
  ]
}